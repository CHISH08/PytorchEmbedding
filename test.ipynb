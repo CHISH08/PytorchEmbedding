{
 "cells": [
  {
   "cell_type": "code",
   "execution_count": 1,
   "metadata": {},
   "outputs": [
    {
     "name": "stdout",
     "output_type": "stream",
     "text": [
      "Epoch [1/5, time: 1.535 minutes]:\n",
      "                            Train Loss 369065454.875000, Train Accuracy 0.934%\n",
      "                            Test Loss 64353511.000000, Test Accuracy 2.673%\n",
      "Epoch [2/5, time: 3.345 minutes]:\n",
      "                            Train Loss 169835634.531250, Train Accuracy 8.455%\n",
      "                            Test Loss 39064431.093750, Test Accuracy 10.292%\n",
      "Epoch [3/5, time: 4.997 minutes]:\n",
      "                            Train Loss 95709636.562500, Train Accuracy 20.908%\n",
      "                            Test Loss 27372514.359375, Test Accuracy 18.572%\n",
      "Epoch [4/5, time: 6.666 minutes]:\n",
      "                            Train Loss 59093308.417969, Train Accuracy 33.305%\n",
      "                            Test Loss 20984950.312500, Test Accuracy 25.310%\n",
      "Epoch [5/5, time: 8.508 minutes]:\n",
      "                            Train Loss 38344918.640625, Train Accuracy 44.156%\n",
      "                            Test Loss 17128338.375000, Test Accuracy 30.632%\n"
     ]
    }
   ],
   "source": [
    "from model import Word2Vec\n",
    "from model import FastText\n",
    "import os\n",
    "\n",
    "text = \"\"\n",
    "with open('./data/voina_i_mir.txt', 'r') as f:\n",
    "    text = f.read()\n",
    "\n",
    "# text = \"Мама готовила еду, пока папа чистил снег, а их сын и дочь лепили снеговика. \\\n",
    "#         Затем вся семья пошла кушать еду на кухню и смотреть на падающий снег.\"\n",
    "\n",
    "embed_dim = 256\n",
    "window_size = 15\n",
    "num_epochs = 5\n",
    "batch_size = 4300\n",
    "n_gram = 4\n",
    "device = 'cuda'\n",
    "\n",
    "cpu_count = os.cpu_count()\n",
    "tokens = Word2Vec.tokenizer(text)\n",
    "model1 = FastText(tokens, embed_dim, window_size, n_gram, sg=0, device=device)\n",
    "res = model1.fit(batch_size, num_epochs, cpu_count)"
   ]
  },
  {
   "cell_type": "code",
   "execution_count": 2,
   "metadata": {},
   "outputs": [
    {
     "data": {
      "application/vnd.plotly.v1+json": {
       "config": {
        "plotlyServerURL": "https://plot.ly"
       },
       "data": [
        {
         "line": {
          "color": "red"
         },
         "mode": "lines+markers",
         "name": "Train Loss",
         "type": "scatter",
         "x": [
          1,
          2,
          3,
          4,
          5
         ],
         "xaxis": "x",
         "y": [
          369065454.875,
          169835634.53125,
          95709636.5625,
          59093308.41796875,
          38344918.640625
         ],
         "yaxis": "y"
        },
        {
         "line": {
          "color": "blue"
         },
         "mode": "lines+markers",
         "name": "Test Loss",
         "type": "scatter",
         "x": [
          1,
          2,
          3,
          4,
          5
         ],
         "xaxis": "x",
         "y": [
          64353511,
          39064431.09375,
          27372514.359375,
          20984950.3125,
          17128338.375
         ],
         "yaxis": "y"
        },
        {
         "line": {
          "color": "green"
         },
         "mode": "lines+markers",
         "name": "Train Accuracy",
         "type": "scatter",
         "x": [
          1,
          2,
          3,
          4,
          5
         ],
         "xaxis": "x2",
         "y": [
          0.9340548264079027,
          8.454514467480145,
          20.907859158375842,
          33.305004851170786,
          44.15592572311231
         ],
         "yaxis": "y2"
        },
        {
         "line": {
          "color": "yellow"
         },
         "mode": "lines+markers",
         "name": "Test Accuracy",
         "type": "scatter",
         "x": [
          1,
          2,
          3,
          4,
          5
         ],
         "xaxis": "x2",
         "y": [
          2.6728395223277492,
          10.291989332719188,
          18.571955729214373,
          25.309929521621132,
          30.631531288683938
         ],
         "yaxis": "y2"
        }
       ],
       "layout": {
        "annotations": [
         {
          "font": {
           "size": 16
          },
          "showarrow": false,
          "text": "Loss over Epochs",
          "x": 0.5,
          "xanchor": "center",
          "xref": "paper",
          "y": 1,
          "yanchor": "bottom",
          "yref": "paper"
         },
         {
          "font": {
           "size": 16
          },
          "showarrow": false,
          "text": "Accuracy over Epochs",
          "x": 0.5,
          "xanchor": "center",
          "xref": "paper",
          "y": 0.375,
          "yanchor": "bottom",
          "yref": "paper"
         }
        ],
        "template": {
         "data": {
          "bar": [
           {
            "error_x": {
             "color": "#f2f5fa"
            },
            "error_y": {
             "color": "#f2f5fa"
            },
            "marker": {
             "line": {
              "color": "rgb(17,17,17)",
              "width": 0.5
             },
             "pattern": {
              "fillmode": "overlay",
              "size": 10,
              "solidity": 0.2
             }
            },
            "type": "bar"
           }
          ],
          "barpolar": [
           {
            "marker": {
             "line": {
              "color": "rgb(17,17,17)",
              "width": 0.5
             },
             "pattern": {
              "fillmode": "overlay",
              "size": 10,
              "solidity": 0.2
             }
            },
            "type": "barpolar"
           }
          ],
          "carpet": [
           {
            "aaxis": {
             "endlinecolor": "#A2B1C6",
             "gridcolor": "#506784",
             "linecolor": "#506784",
             "minorgridcolor": "#506784",
             "startlinecolor": "#A2B1C6"
            },
            "baxis": {
             "endlinecolor": "#A2B1C6",
             "gridcolor": "#506784",
             "linecolor": "#506784",
             "minorgridcolor": "#506784",
             "startlinecolor": "#A2B1C6"
            },
            "type": "carpet"
           }
          ],
          "choropleth": [
           {
            "colorbar": {
             "outlinewidth": 0,
             "ticks": ""
            },
            "type": "choropleth"
           }
          ],
          "contour": [
           {
            "colorbar": {
             "outlinewidth": 0,
             "ticks": ""
            },
            "colorscale": [
             [
              0,
              "#0d0887"
             ],
             [
              0.1111111111111111,
              "#46039f"
             ],
             [
              0.2222222222222222,
              "#7201a8"
             ],
             [
              0.3333333333333333,
              "#9c179e"
             ],
             [
              0.4444444444444444,
              "#bd3786"
             ],
             [
              0.5555555555555556,
              "#d8576b"
             ],
             [
              0.6666666666666666,
              "#ed7953"
             ],
             [
              0.7777777777777778,
              "#fb9f3a"
             ],
             [
              0.8888888888888888,
              "#fdca26"
             ],
             [
              1,
              "#f0f921"
             ]
            ],
            "type": "contour"
           }
          ],
          "contourcarpet": [
           {
            "colorbar": {
             "outlinewidth": 0,
             "ticks": ""
            },
            "type": "contourcarpet"
           }
          ],
          "heatmap": [
           {
            "colorbar": {
             "outlinewidth": 0,
             "ticks": ""
            },
            "colorscale": [
             [
              0,
              "#0d0887"
             ],
             [
              0.1111111111111111,
              "#46039f"
             ],
             [
              0.2222222222222222,
              "#7201a8"
             ],
             [
              0.3333333333333333,
              "#9c179e"
             ],
             [
              0.4444444444444444,
              "#bd3786"
             ],
             [
              0.5555555555555556,
              "#d8576b"
             ],
             [
              0.6666666666666666,
              "#ed7953"
             ],
             [
              0.7777777777777778,
              "#fb9f3a"
             ],
             [
              0.8888888888888888,
              "#fdca26"
             ],
             [
              1,
              "#f0f921"
             ]
            ],
            "type": "heatmap"
           }
          ],
          "heatmapgl": [
           {
            "colorbar": {
             "outlinewidth": 0,
             "ticks": ""
            },
            "colorscale": [
             [
              0,
              "#0d0887"
             ],
             [
              0.1111111111111111,
              "#46039f"
             ],
             [
              0.2222222222222222,
              "#7201a8"
             ],
             [
              0.3333333333333333,
              "#9c179e"
             ],
             [
              0.4444444444444444,
              "#bd3786"
             ],
             [
              0.5555555555555556,
              "#d8576b"
             ],
             [
              0.6666666666666666,
              "#ed7953"
             ],
             [
              0.7777777777777778,
              "#fb9f3a"
             ],
             [
              0.8888888888888888,
              "#fdca26"
             ],
             [
              1,
              "#f0f921"
             ]
            ],
            "type": "heatmapgl"
           }
          ],
          "histogram": [
           {
            "marker": {
             "pattern": {
              "fillmode": "overlay",
              "size": 10,
              "solidity": 0.2
             }
            },
            "type": "histogram"
           }
          ],
          "histogram2d": [
           {
            "colorbar": {
             "outlinewidth": 0,
             "ticks": ""
            },
            "colorscale": [
             [
              0,
              "#0d0887"
             ],
             [
              0.1111111111111111,
              "#46039f"
             ],
             [
              0.2222222222222222,
              "#7201a8"
             ],
             [
              0.3333333333333333,
              "#9c179e"
             ],
             [
              0.4444444444444444,
              "#bd3786"
             ],
             [
              0.5555555555555556,
              "#d8576b"
             ],
             [
              0.6666666666666666,
              "#ed7953"
             ],
             [
              0.7777777777777778,
              "#fb9f3a"
             ],
             [
              0.8888888888888888,
              "#fdca26"
             ],
             [
              1,
              "#f0f921"
             ]
            ],
            "type": "histogram2d"
           }
          ],
          "histogram2dcontour": [
           {
            "colorbar": {
             "outlinewidth": 0,
             "ticks": ""
            },
            "colorscale": [
             [
              0,
              "#0d0887"
             ],
             [
              0.1111111111111111,
              "#46039f"
             ],
             [
              0.2222222222222222,
              "#7201a8"
             ],
             [
              0.3333333333333333,
              "#9c179e"
             ],
             [
              0.4444444444444444,
              "#bd3786"
             ],
             [
              0.5555555555555556,
              "#d8576b"
             ],
             [
              0.6666666666666666,
              "#ed7953"
             ],
             [
              0.7777777777777778,
              "#fb9f3a"
             ],
             [
              0.8888888888888888,
              "#fdca26"
             ],
             [
              1,
              "#f0f921"
             ]
            ],
            "type": "histogram2dcontour"
           }
          ],
          "mesh3d": [
           {
            "colorbar": {
             "outlinewidth": 0,
             "ticks": ""
            },
            "type": "mesh3d"
           }
          ],
          "parcoords": [
           {
            "line": {
             "colorbar": {
              "outlinewidth": 0,
              "ticks": ""
             }
            },
            "type": "parcoords"
           }
          ],
          "pie": [
           {
            "automargin": true,
            "type": "pie"
           }
          ],
          "scatter": [
           {
            "marker": {
             "line": {
              "color": "#283442"
             }
            },
            "type": "scatter"
           }
          ],
          "scatter3d": [
           {
            "line": {
             "colorbar": {
              "outlinewidth": 0,
              "ticks": ""
             }
            },
            "marker": {
             "colorbar": {
              "outlinewidth": 0,
              "ticks": ""
             }
            },
            "type": "scatter3d"
           }
          ],
          "scattercarpet": [
           {
            "marker": {
             "colorbar": {
              "outlinewidth": 0,
              "ticks": ""
             }
            },
            "type": "scattercarpet"
           }
          ],
          "scattergeo": [
           {
            "marker": {
             "colorbar": {
              "outlinewidth": 0,
              "ticks": ""
             }
            },
            "type": "scattergeo"
           }
          ],
          "scattergl": [
           {
            "marker": {
             "line": {
              "color": "#283442"
             }
            },
            "type": "scattergl"
           }
          ],
          "scattermapbox": [
           {
            "marker": {
             "colorbar": {
              "outlinewidth": 0,
              "ticks": ""
             }
            },
            "type": "scattermapbox"
           }
          ],
          "scatterpolar": [
           {
            "marker": {
             "colorbar": {
              "outlinewidth": 0,
              "ticks": ""
             }
            },
            "type": "scatterpolar"
           }
          ],
          "scatterpolargl": [
           {
            "marker": {
             "colorbar": {
              "outlinewidth": 0,
              "ticks": ""
             }
            },
            "type": "scatterpolargl"
           }
          ],
          "scatterternary": [
           {
            "marker": {
             "colorbar": {
              "outlinewidth": 0,
              "ticks": ""
             }
            },
            "type": "scatterternary"
           }
          ],
          "surface": [
           {
            "colorbar": {
             "outlinewidth": 0,
             "ticks": ""
            },
            "colorscale": [
             [
              0,
              "#0d0887"
             ],
             [
              0.1111111111111111,
              "#46039f"
             ],
             [
              0.2222222222222222,
              "#7201a8"
             ],
             [
              0.3333333333333333,
              "#9c179e"
             ],
             [
              0.4444444444444444,
              "#bd3786"
             ],
             [
              0.5555555555555556,
              "#d8576b"
             ],
             [
              0.6666666666666666,
              "#ed7953"
             ],
             [
              0.7777777777777778,
              "#fb9f3a"
             ],
             [
              0.8888888888888888,
              "#fdca26"
             ],
             [
              1,
              "#f0f921"
             ]
            ],
            "type": "surface"
           }
          ],
          "table": [
           {
            "cells": {
             "fill": {
              "color": "#506784"
             },
             "line": {
              "color": "rgb(17,17,17)"
             }
            },
            "header": {
             "fill": {
              "color": "#2a3f5f"
             },
             "line": {
              "color": "rgb(17,17,17)"
             }
            },
            "type": "table"
           }
          ]
         },
         "layout": {
          "annotationdefaults": {
           "arrowcolor": "#f2f5fa",
           "arrowhead": 0,
           "arrowwidth": 1
          },
          "autotypenumbers": "strict",
          "coloraxis": {
           "colorbar": {
            "outlinewidth": 0,
            "ticks": ""
           }
          },
          "colorscale": {
           "diverging": [
            [
             0,
             "#8e0152"
            ],
            [
             0.1,
             "#c51b7d"
            ],
            [
             0.2,
             "#de77ae"
            ],
            [
             0.3,
             "#f1b6da"
            ],
            [
             0.4,
             "#fde0ef"
            ],
            [
             0.5,
             "#f7f7f7"
            ],
            [
             0.6,
             "#e6f5d0"
            ],
            [
             0.7,
             "#b8e186"
            ],
            [
             0.8,
             "#7fbc41"
            ],
            [
             0.9,
             "#4d9221"
            ],
            [
             1,
             "#276419"
            ]
           ],
           "sequential": [
            [
             0,
             "#0d0887"
            ],
            [
             0.1111111111111111,
             "#46039f"
            ],
            [
             0.2222222222222222,
             "#7201a8"
            ],
            [
             0.3333333333333333,
             "#9c179e"
            ],
            [
             0.4444444444444444,
             "#bd3786"
            ],
            [
             0.5555555555555556,
             "#d8576b"
            ],
            [
             0.6666666666666666,
             "#ed7953"
            ],
            [
             0.7777777777777778,
             "#fb9f3a"
            ],
            [
             0.8888888888888888,
             "#fdca26"
            ],
            [
             1,
             "#f0f921"
            ]
           ],
           "sequentialminus": [
            [
             0,
             "#0d0887"
            ],
            [
             0.1111111111111111,
             "#46039f"
            ],
            [
             0.2222222222222222,
             "#7201a8"
            ],
            [
             0.3333333333333333,
             "#9c179e"
            ],
            [
             0.4444444444444444,
             "#bd3786"
            ],
            [
             0.5555555555555556,
             "#d8576b"
            ],
            [
             0.6666666666666666,
             "#ed7953"
            ],
            [
             0.7777777777777778,
             "#fb9f3a"
            ],
            [
             0.8888888888888888,
             "#fdca26"
            ],
            [
             1,
             "#f0f921"
            ]
           ]
          },
          "colorway": [
           "#636efa",
           "#EF553B",
           "#00cc96",
           "#ab63fa",
           "#FFA15A",
           "#19d3f3",
           "#FF6692",
           "#B6E880",
           "#FF97FF",
           "#FECB52"
          ],
          "font": {
           "color": "#f2f5fa"
          },
          "geo": {
           "bgcolor": "rgb(17,17,17)",
           "lakecolor": "rgb(17,17,17)",
           "landcolor": "rgb(17,17,17)",
           "showlakes": true,
           "showland": true,
           "subunitcolor": "#506784"
          },
          "hoverlabel": {
           "align": "left"
          },
          "hovermode": "closest",
          "mapbox": {
           "style": "dark"
          },
          "paper_bgcolor": "rgb(17,17,17)",
          "plot_bgcolor": "rgb(17,17,17)",
          "polar": {
           "angularaxis": {
            "gridcolor": "#506784",
            "linecolor": "#506784",
            "ticks": ""
           },
           "bgcolor": "rgb(17,17,17)",
           "radialaxis": {
            "gridcolor": "#506784",
            "linecolor": "#506784",
            "ticks": ""
           }
          },
          "scene": {
           "xaxis": {
            "backgroundcolor": "rgb(17,17,17)",
            "gridcolor": "#506784",
            "gridwidth": 2,
            "linecolor": "#506784",
            "showbackground": true,
            "ticks": "",
            "zerolinecolor": "#C8D4E3"
           },
           "yaxis": {
            "backgroundcolor": "rgb(17,17,17)",
            "gridcolor": "#506784",
            "gridwidth": 2,
            "linecolor": "#506784",
            "showbackground": true,
            "ticks": "",
            "zerolinecolor": "#C8D4E3"
           },
           "zaxis": {
            "backgroundcolor": "rgb(17,17,17)",
            "gridcolor": "#506784",
            "gridwidth": 2,
            "linecolor": "#506784",
            "showbackground": true,
            "ticks": "",
            "zerolinecolor": "#C8D4E3"
           }
          },
          "shapedefaults": {
           "line": {
            "color": "#f2f5fa"
           }
          },
          "sliderdefaults": {
           "bgcolor": "#C8D4E3",
           "bordercolor": "rgb(17,17,17)",
           "borderwidth": 1,
           "tickwidth": 0
          },
          "ternary": {
           "aaxis": {
            "gridcolor": "#506784",
            "linecolor": "#506784",
            "ticks": ""
           },
           "baxis": {
            "gridcolor": "#506784",
            "linecolor": "#506784",
            "ticks": ""
           },
           "bgcolor": "rgb(17,17,17)",
           "caxis": {
            "gridcolor": "#506784",
            "linecolor": "#506784",
            "ticks": ""
           }
          },
          "title": {
           "x": 0.05
          },
          "updatemenudefaults": {
           "bgcolor": "#506784",
           "borderwidth": 0
          },
          "xaxis": {
           "automargin": true,
           "gridcolor": "#283442",
           "linecolor": "#506784",
           "ticks": "",
           "title": {
            "standoff": 15
           },
           "zerolinecolor": "#283442",
           "zerolinewidth": 2
          },
          "yaxis": {
           "automargin": true,
           "gridcolor": "#283442",
           "linecolor": "#506784",
           "ticks": "",
           "title": {
            "standoff": 15
           },
           "zerolinecolor": "#283442",
           "zerolinewidth": 2
          }
         }
        },
        "title": {
         "text": "Training and Testing Metrics"
        },
        "xaxis": {
         "anchor": "y",
         "domain": [
          0,
          1
         ],
         "title": {
          "text": "Epoch"
         }
        },
        "xaxis2": {
         "anchor": "y2",
         "domain": [
          0,
          1
         ],
         "title": {
          "text": "Epoch"
         }
        },
        "yaxis": {
         "anchor": "x",
         "domain": [
          0.625,
          1
         ],
         "title": {
          "text": "Loss"
         }
        },
        "yaxis2": {
         "anchor": "x2",
         "domain": [
          0,
          0.375
         ],
         "title": {
          "text": "Accuracy (%)"
         }
        }
       }
      }
     },
     "metadata": {},
     "output_type": "display_data"
    }
   ],
   "source": [
    "Word2Vec.plot_metrics(*res)"
   ]
  },
  {
   "cell_type": "code",
   "execution_count": 3,
   "metadata": {},
   "outputs": [
    {
     "data": {
      "application/vnd.plotly.v1+json": {
       "config": {
        "plotlyServerURL": "https://plot.ly"
       },
       "data": [
        {
         "mode": "markers+text",
         "name": "aндрей",
         "text": [
          "aндрей"
         ],
         "textposition": "bottom center",
         "type": "scatter",
         "x": [
          2.8238258361816406
         ],
         "y": [
          4.2454376220703125
         ]
        },
        {
         "mode": "markers+text",
         "name": "дрей",
         "text": [
          "дрей"
         ],
         "textposition": "bottom center",
         "type": "scatter",
         "x": [
          5.696967124938965
         ],
         "y": [
          3.5600154399871826
         ]
        },
        {
         "mode": "markers+text",
         "name": "андрей",
         "text": [
          "андрей"
         ],
         "textposition": "bottom center",
         "type": "scatter",
         "x": [
          4.240941047668457
         ],
         "y": [
          1.7241723537445068
         ]
        },
        {
         "mode": "markers+text",
         "name": "александре",
         "text": [
          "александре"
         ],
         "textposition": "bottom center",
         "type": "scatter",
         "x": [
          18.726207733154297
         ],
         "y": [
          -1.7537362575531006
         ]
        },
        {
         "mode": "markers+text",
         "name": "предвидевший",
         "text": [
          "предвидевший"
         ],
         "textposition": "bottom center",
         "type": "scatter",
         "x": [
          45.665016174316406
         ],
         "y": [
          15.272209167480469
         ]
        },
        {
         "mode": "markers+text",
         "name": "предвидела",
         "text": [
          "предвидела"
         ],
         "textposition": "bottom center",
         "type": "scatter",
         "x": [
          42.58424758911133
         ],
         "y": [
          18.106815338134766
         ]
        },
        {
         "mode": "markers+text",
         "name": "улюлюкали",
         "text": [
          "улюлюкали"
         ],
         "textposition": "bottom center",
         "type": "scatter",
         "x": [
          -3.546283006668091
         ],
         "y": [
          -12.507222175598145
         ]
        },
        {
         "mode": "markers+text",
         "name": "подтолкнул",
         "text": [
          "подтолкнул"
         ],
         "textposition": "bottom center",
         "type": "scatter",
         "x": [
          15.517010688781738
         ],
         "y": [
          1.0932408571243286
         ]
        },
        {
         "mode": "markers+text",
         "name": "кирюша",
         "text": [
          "кирюша"
         ],
         "textposition": "bottom center",
         "type": "scatter",
         "x": [
          -2.651012897491455
         ],
         "y": [
          18.329341888427734
         ]
        },
        {
         "mode": "markers+text",
         "name": "садовником",
         "text": [
          "садовником"
         ],
         "textposition": "bottom center",
         "type": "scatter",
         "x": [
          -56.64055252075195
         ],
         "y": [
          -17.464054107666016
         ]
        },
        {
         "mode": "markers+text",
         "name": "предвидеть",
         "text": [
          "предвидеть"
         ],
         "textposition": "bottom center",
         "type": "scatter",
         "x": [
          40.9282112121582
         ],
         "y": [
          19.915149688720703
         ]
        },
        {
         "mode": "markers+text",
         "name": "предвидели",
         "text": [
          "предвидели"
         ],
         "textposition": "bottom center",
         "type": "scatter",
         "x": [
          44.30432891845703
         ],
         "y": [
          17.00276756286621
         ]
        },
        {
         "mode": "markers+text",
         "name": "вощинами",
         "text": [
          "вощинами"
         ],
         "textposition": "bottom center",
         "type": "scatter",
         "x": [
          46.70770263671875
         ],
         "y": [
          13.88214111328125
         ]
        },
        {
         "mode": "markers+text",
         "name": "садовника",
         "text": [
          "садовника"
         ],
         "textposition": "bottom center",
         "type": "scatter",
         "x": [
          -55.45456314086914
         ],
         "y": [
          -16.74810791015625
         ]
        },
        {
         "mode": "markers+text",
         "name": "отыграешься",
         "text": [
          "отыграешься"
         ],
         "textposition": "bottom center",
         "type": "scatter",
         "x": [
          -5.652035236358643
         ],
         "y": [
          -15.727025985717773
         ]
        },
        {
         "mode": "markers+text",
         "name": "верованье",
         "text": [
          "верованье"
         ],
         "textposition": "bottom center",
         "type": "scatter",
         "x": [
          3.401813507080078
         ],
         "y": [
          -14.299129486083984
         ]
        },
        {
         "mode": "markers+text",
         "name": "приготовленную",
         "text": [
          "приготовленную"
         ],
         "textposition": "bottom center",
         "type": "scatter",
         "x": [
          -2.1691460609436035
         ],
         "y": [
          -10.756152153015137
         ]
        },
        {
         "mode": "markers+text",
         "name": "садовник",
         "text": [
          "садовник"
         ],
         "textposition": "bottom center",
         "type": "scatter",
         "x": [
          -56.25742721557617
         ],
         "y": [
          -15.957619667053223
         ]
        },
        {
         "mode": "markers+text",
         "name": "предпринимаете",
         "text": [
          "предпринимаете"
         ],
         "textposition": "bottom center",
         "type": "scatter",
         "x": [
          16.672143936157227
         ],
         "y": [
          -20.219816207885742
         ]
        },
        {
         "mode": "markers+text",
         "name": "князя",
         "text": [
          "князя"
         ],
         "textposition": "bottom center",
         "type": "scatter",
         "x": [
          7.996962547302246
         ],
         "y": [
          -10.043242454528809
         ]
        },
        {
         "mode": "markers+text",
         "name": "слишком",
         "text": [
          "слишком"
         ],
         "textposition": "bottom center",
         "type": "scatter",
         "x": [
          -0.5471926927566528
         ],
         "y": [
          -8.636380195617676
         ]
        },
        {
         "mode": "markers+text",
         "name": "отдавалось",
         "text": [
          "отдавалось"
         ],
         "textposition": "bottom center",
         "type": "scatter",
         "x": [
          -27.981971740722656
         ],
         "y": [
          12.493916511535645
         ]
        },
        {
         "mode": "markers+text",
         "name": "близостью",
         "text": [
          "близостью"
         ],
         "textposition": "bottom center",
         "type": "scatter",
         "x": [
          -8.618635177612305
         ],
         "y": [
          36.29165267944336
         ]
        },
        {
         "mode": "markers+text",
         "name": "ухо",
         "text": [
          "ухо"
         ],
         "textposition": "bottom center",
         "type": "scatter",
         "x": [
          -7.670962810516357
         ],
         "y": [
          -11.060516357421875
         ]
        },
        {
         "mode": "markers+text",
         "name": "отдававший",
         "text": [
          "отдававший"
         ],
         "textposition": "bottom center",
         "type": "scatter",
         "x": [
          -34.9420166015625
         ],
         "y": [
          21.994163513183594
         ]
        },
        {
         "mode": "markers+text",
         "name": "груша",
         "text": [
          "груша"
         ],
         "textposition": "bottom center",
         "type": "scatter",
         "x": [
          -26.652236938476562
         ],
         "y": [
          14.794227600097656
         ]
        },
        {
         "mode": "markers+text",
         "name": "предвидение",
         "text": [
          "предвидение"
         ],
         "textposition": "bottom center",
         "type": "scatter",
         "x": [
          38.89017868041992
         ],
         "y": [
          20.897289276123047
         ]
        },
        {
         "mode": "markers+text",
         "name": "произведенный",
         "text": [
          "произведенный"
         ],
         "textposition": "bottom center",
         "type": "scatter",
         "x": [
          15.148489952087402
         ],
         "y": [
          28.808135986328125
         ]
        },
        {
         "mode": "markers+text",
         "name": "пасущимся",
         "text": [
          "пасущимся"
         ],
         "textposition": "bottom center",
         "type": "scatter",
         "x": [
          0.9264231324195862
         ],
         "y": [
          -21.910579681396484
         ]
        },
        {
         "mode": "markers+text",
         "name": "предвидел",
         "text": [
          "предвидел"
         ],
         "textposition": "bottom center",
         "type": "scatter",
         "x": [
          43.079490661621094
         ],
         "y": [
          18.940263748168945
         ]
        },
        {
         "mode": "markers+text",
         "name": "принималось",
         "text": [
          "принималось"
         ],
         "textposition": "bottom center",
         "type": "scatter",
         "x": [
          -25.30739974975586
         ],
         "y": [
          -18.952184677124023
         ]
        },
        {
         "mode": "markers+text",
         "name": "палить",
         "text": [
          "палить"
         ],
         "textposition": "bottom center",
         "type": "scatter",
         "x": [
          37.262264251708984
         ],
         "y": [
          21.62093162536621
         ]
        },
        {
         "mode": "markers+text",
         "name": "пожались",
         "text": [
          "пожались"
         ],
         "textposition": "bottom center",
         "type": "scatter",
         "x": [
          -3.4416661262512207
         ],
         "y": [
          -2.707179069519043
         ]
        },
        {
         "mode": "markers+text",
         "name": "передвигать",
         "text": [
          "передвигать"
         ],
         "textposition": "bottom center",
         "type": "scatter",
         "x": [
          21.60148048400879
         ],
         "y": [
          -0.10112009942531586
         ]
        },
        {
         "mode": "markers+text",
         "name": "отвечать",
         "text": [
          "отвечать"
         ],
         "textposition": "bottom center",
         "type": "scatter",
         "x": [
          2.83599853515625
         ],
         "y": [
          -7.009258270263672
         ]
        },
        {
         "mode": "markers+text",
         "name": "смевшей",
         "text": [
          "смевшей"
         ],
         "textposition": "bottom center",
         "type": "scatter",
         "x": [
          2.250483751296997
         ],
         "y": [
          1.3391079902648926
         ]
        },
        {
         "mode": "markers+text",
         "name": "мгновение",
         "text": [
          "мгновение"
         ],
         "textposition": "bottom center",
         "type": "scatter",
         "x": [
          18.69496726989746
         ],
         "y": [
          1.2999690771102905
         ]
        },
        {
         "mode": "markers+text",
         "name": "настроению",
         "text": [
          "настроению"
         ],
         "textposition": "bottom center",
         "type": "scatter",
         "x": [
          4.083532333374023
         ],
         "y": [
          -1.3200459480285645
         ]
        },
        {
         "mode": "markers+text",
         "name": "предпринимая",
         "text": [
          "предпринимая"
         ],
         "textposition": "bottom center",
         "type": "scatter",
         "x": [
          17.117008209228516
         ],
         "y": [
          -20.88306999206543
         ]
        },
        {
         "mode": "markers+text",
         "name": "ась",
         "text": [
          "ась"
         ],
         "textposition": "bottom center",
         "type": "scatter",
         "x": [
          -13.4600191116333
         ],
         "y": [
          -5.25543212890625
         ]
        },
        {
         "mode": "markers+text",
         "name": "обратиться",
         "text": [
          "обратиться"
         ],
         "textposition": "bottom center",
         "type": "scatter",
         "x": [
          0.9292389154434204
         ],
         "y": [
          -20.183067321777344
         ]
        },
        {
         "mode": "markers+text",
         "name": "желать",
         "text": [
          "желать"
         ],
         "textposition": "bottom center",
         "type": "scatter",
         "x": [
          6.49893856048584
         ],
         "y": [
          0.8237860202789307
         ]
        },
        {
         "mode": "markers+text",
         "name": "близости",
         "text": [
          "близости"
         ],
         "textposition": "bottom center",
         "type": "scatter",
         "x": [
          -9.373571395874023
         ],
         "y": [
          36.546627044677734
         ]
        },
        {
         "mode": "markers+text",
         "name": "застенчив",
         "text": [
          "застенчив"
         ],
         "textposition": "bottom center",
         "type": "scatter",
         "x": [
          -5.127434253692627
         ],
         "y": [
          16.888980865478516
         ]
        },
        {
         "mode": "markers+text",
         "name": "прогрессии",
         "text": [
          "прогрессии"
         ],
         "textposition": "bottom center",
         "type": "scatter",
         "x": [
          -1.2352889776229858
         ],
         "y": [
          -14.771077156066895
         ]
        },
        {
         "mode": "markers+text",
         "name": "вши",
         "text": [
          "вши"
         ],
         "textposition": "bottom center",
         "type": "scatter",
         "x": [
          -4.921788215637207
         ],
         "y": [
          -21.722122192382812
         ]
        },
        {
         "mode": "markers+text",
         "name": "сблизило",
         "text": [
          "сблизило"
         ],
         "textposition": "bottom center",
         "type": "scatter",
         "x": [
          -13.264424324035645
         ],
         "y": [
          -8.444212913513184
         ]
        },
        {
         "mode": "markers+text",
         "name": "застенчивостью",
         "text": [
          "застенчивостью"
         ],
         "textposition": "bottom center",
         "type": "scatter",
         "x": [
          -4.305610179901123
         ],
         "y": [
          17.324254989624023
         ]
        },
        {
         "mode": "markers+text",
         "name": "перелопаются",
         "text": [
          "перелопаются"
         ],
         "textposition": "bottom center",
         "type": "scatter",
         "x": [
          -8.455873489379883
         ],
         "y": [
          -3.318549394607544
         ]
        },
        {
         "mode": "markers+text",
         "name": "принимался",
         "text": [
          "принимался"
         ],
         "textposition": "bottom center",
         "type": "scatter",
         "x": [
          -27.48106575012207
         ],
         "y": [
          -19.98995018005371
         ]
        },
        {
         "mode": "markers+text",
         "name": "отдаваясь",
         "text": [
          "отдаваясь"
         ],
         "textposition": "bottom center",
         "type": "scatter",
         "x": [
          -27.318939208984375
         ],
         "y": [
          9.74609088897705
         ]
        },
        {
         "mode": "markers+text",
         "name": "поселить",
         "text": [
          "поселить"
         ],
         "textposition": "bottom center",
         "type": "scatter",
         "x": [
          -13.2872896194458
         ],
         "y": [
          -30.426774978637695
         ]
        },
        {
         "mode": "markers+text",
         "name": "встрепенулись",
         "text": [
          "встрепенулись"
         ],
         "textposition": "bottom center",
         "type": "scatter",
         "x": [
          -4.9100494384765625
         ],
         "y": [
          -9.738470077514648
         ]
        },
        {
         "mode": "markers+text",
         "name": "мгновением",
         "text": [
          "мгновением"
         ],
         "textposition": "bottom center",
         "type": "scatter",
         "x": [
          19.251623153686523
         ],
         "y": [
          0.6349874138832092
         ]
        },
        {
         "mode": "markers+text",
         "name": "отдавались",
         "text": [
          "отдавались"
         ],
         "textposition": "bottom center",
         "type": "scatter",
         "x": [
          -27.782236099243164
         ],
         "y": [
          11.589897155761719
         ]
        },
        {
         "mode": "markers+text",
         "name": "дававшее",
         "text": [
          "дававшее"
         ],
         "textposition": "bottom center",
         "type": "scatter",
         "x": [
          -35.868064880371094
         ],
         "y": [
          24.0150203704834
         ]
        },
        {
         "mode": "markers+text",
         "name": "произведение",
         "text": [
          "произведение"
         ],
         "textposition": "bottom center",
         "type": "scatter",
         "x": [
          14.811882019042969
         ],
         "y": [
          30.688453674316406
         ]
        },
        {
         "mode": "markers+text",
         "name": "разбежались",
         "text": [
          "разбежались"
         ],
         "textposition": "bottom center",
         "type": "scatter",
         "x": [
          -31.178171157836914
         ],
         "y": [
          5.809118747711182
         ]
        },
        {
         "mode": "markers+text",
         "name": "принимала",
         "text": [
          "принимала"
         ],
         "textposition": "bottom center",
         "type": "scatter",
         "x": [
          -26.53460121154785
         ],
         "y": [
          -19.476945877075195
         ]
        },
        {
         "mode": "markers+text",
         "name": "покрасневшем",
         "text": [
          "покрасневшем"
         ],
         "textposition": "bottom center",
         "type": "scatter",
         "x": [
          5.277276515960693
         ],
         "y": [
          -36.72925567626953
         ]
        },
        {
         "mode": "markers+text",
         "name": "босиком",
         "text": [
          "босиком"
         ],
         "textposition": "bottom center",
         "type": "scatter",
         "x": [
          -3.09606671333313
         ],
         "y": [
          -7.6094746589660645
         ]
        },
        {
         "mode": "markers+text",
         "name": "почувствовавши",
         "text": [
          "почувствовавши"
         ],
         "textposition": "bottom center",
         "type": "scatter",
         "x": [
          -4.00732421875
         ],
         "y": [
          -20.330886840820312
         ]
        },
        {
         "mode": "markers+text",
         "name": "приготовленный",
         "text": [
          "приготовленный"
         ],
         "textposition": "bottom center",
         "type": "scatter",
         "x": [
          -2.503275156021118
         ],
         "y": [
          -9.562457084655762
         ]
        },
        {
         "mode": "markers+text",
         "name": "мерзостью",
         "text": [
          "мерзостью"
         ],
         "textposition": "bottom center",
         "type": "scatter",
         "x": [
          2.1193530559539795
         ],
         "y": [
          -10.695314407348633
         ]
        },
        {
         "mode": "markers+text",
         "name": "отдавал",
         "text": [
          "отдавал"
         ],
         "textposition": "bottom center",
         "type": "scatter",
         "x": [
          -29.763715744018555
         ],
         "y": [
          11.857193946838379
         ]
        },
        {
         "mode": "markers+text",
         "name": "куполами",
         "text": [
          "куполами"
         ],
         "textposition": "bottom center",
         "type": "scatter",
         "x": [
          11.66372299194336
         ],
         "y": [
          29.830625534057617
         ]
        },
        {
         "mode": "markers+text",
         "name": "произведшим",
         "text": [
          "произведшим"
         ],
         "textposition": "bottom center",
         "type": "scatter",
         "x": [
          15.741670608520508
         ],
         "y": [
          32.45663070678711
         ]
        },
        {
         "mode": "markers+text",
         "name": "притаился",
         "text": [
          "притаился"
         ],
         "textposition": "bottom center",
         "type": "scatter",
         "x": [
          -23.64735221862793
         ],
         "y": [
          -18.21052360534668
         ]
        },
        {
         "mode": "markers+text",
         "name": "болью",
         "text": [
          "болью"
         ],
         "textposition": "bottom center",
         "type": "scatter",
         "x": [
          20.384506225585938
         ],
         "y": [
          3.152857542037964
         ]
        },
        {
         "mode": "markers+text",
         "name": "предвидимых",
         "text": [
          "предвидимых"
         ],
         "textposition": "bottom center",
         "type": "scatter",
         "x": [
          44.4245719909668
         ],
         "y": [
          20.717788696289062
         ]
        },
        {
         "mode": "markers+text",
         "name": "красневшей",
         "text": [
          "красневшей"
         ],
         "textposition": "bottom center",
         "type": "scatter",
         "x": [
          6.029744625091553
         ],
         "y": [
          -37.005149841308594
         ]
        },
        {
         "mode": "markers+text",
         "name": "милый",
         "text": [
          "милый"
         ],
         "textposition": "bottom center",
         "type": "scatter",
         "x": [
          -5.935004234313965
         ],
         "y": [
          -6.707984924316406
         ]
        },
        {
         "mode": "markers+text",
         "name": "родоначальником",
         "text": [
          "родоначальником"
         ],
         "textposition": "bottom center",
         "type": "scatter",
         "x": [
          -0.7979348301887512
         ],
         "y": [
          -5.536777973175049
         ]
        },
        {
         "mode": "markers+text",
         "name": "спускались",
         "text": [
          "спускались"
         ],
         "textposition": "bottom center",
         "type": "scatter",
         "x": [
          -24.63732147216797
         ],
         "y": [
          11.38883113861084
         ]
        },
        {
         "mode": "markers+text",
         "name": "произведением",
         "text": [
          "произведением"
         ],
         "textposition": "bottom center",
         "type": "scatter",
         "x": [
          13.902939796447754
         ],
         "y": [
          30.119897842407227
         ]
        },
        {
         "mode": "markers+text",
         "name": "поселилась",
         "text": [
          "поселилась"
         ],
         "textposition": "bottom center",
         "type": "scatter",
         "x": [
          -12.891402244567871
         ],
         "y": [
          -29.713598251342773
         ]
        },
        {
         "mode": "markers+text",
         "name": "отдававших",
         "text": [
          "отдававших"
         ],
         "textposition": "bottom center",
         "type": "scatter",
         "x": [
          -34.353240966796875
         ],
         "y": [
          22.563106536865234
         ]
        },
        {
         "mode": "markers+text",
         "name": "проснулись",
         "text": [
          "проснулись"
         ],
         "textposition": "bottom center",
         "type": "scatter",
         "x": [
          -0.5467657446861267
         ],
         "y": [
          -11.880868911743164
         ]
        },
        {
         "mode": "markers+text",
         "name": "навертывались",
         "text": [
          "навертывались"
         ],
         "textposition": "bottom center",
         "type": "scatter",
         "x": [
          -30.334924697875977
         ],
         "y": [
          7.265242576599121
         ]
        },
        {
         "mode": "markers+text",
         "name": "представителя",
         "text": [
          "представителя"
         ],
         "textposition": "bottom center",
         "type": "scatter",
         "x": [
          -12.462176322937012
         ],
         "y": [
          -6.859977722167969
         ]
        },
        {
         "mode": "markers+text",
         "name": "форменную",
         "text": [
          "форменную"
         ],
         "textposition": "bottom center",
         "type": "scatter",
         "x": [
          -10.221324920654297
         ],
         "y": [
          -15.23902702331543
         ]
        }
       ],
       "layout": {
        "template": {
         "data": {
          "bar": [
           {
            "error_x": {
             "color": "#2a3f5f"
            },
            "error_y": {
             "color": "#2a3f5f"
            },
            "marker": {
             "line": {
              "color": "#E5ECF6",
              "width": 0.5
             },
             "pattern": {
              "fillmode": "overlay",
              "size": 10,
              "solidity": 0.2
             }
            },
            "type": "bar"
           }
          ],
          "barpolar": [
           {
            "marker": {
             "line": {
              "color": "#E5ECF6",
              "width": 0.5
             },
             "pattern": {
              "fillmode": "overlay",
              "size": 10,
              "solidity": 0.2
             }
            },
            "type": "barpolar"
           }
          ],
          "carpet": [
           {
            "aaxis": {
             "endlinecolor": "#2a3f5f",
             "gridcolor": "white",
             "linecolor": "white",
             "minorgridcolor": "white",
             "startlinecolor": "#2a3f5f"
            },
            "baxis": {
             "endlinecolor": "#2a3f5f",
             "gridcolor": "white",
             "linecolor": "white",
             "minorgridcolor": "white",
             "startlinecolor": "#2a3f5f"
            },
            "type": "carpet"
           }
          ],
          "choropleth": [
           {
            "colorbar": {
             "outlinewidth": 0,
             "ticks": ""
            },
            "type": "choropleth"
           }
          ],
          "contour": [
           {
            "colorbar": {
             "outlinewidth": 0,
             "ticks": ""
            },
            "colorscale": [
             [
              0,
              "#0d0887"
             ],
             [
              0.1111111111111111,
              "#46039f"
             ],
             [
              0.2222222222222222,
              "#7201a8"
             ],
             [
              0.3333333333333333,
              "#9c179e"
             ],
             [
              0.4444444444444444,
              "#bd3786"
             ],
             [
              0.5555555555555556,
              "#d8576b"
             ],
             [
              0.6666666666666666,
              "#ed7953"
             ],
             [
              0.7777777777777778,
              "#fb9f3a"
             ],
             [
              0.8888888888888888,
              "#fdca26"
             ],
             [
              1,
              "#f0f921"
             ]
            ],
            "type": "contour"
           }
          ],
          "contourcarpet": [
           {
            "colorbar": {
             "outlinewidth": 0,
             "ticks": ""
            },
            "type": "contourcarpet"
           }
          ],
          "heatmap": [
           {
            "colorbar": {
             "outlinewidth": 0,
             "ticks": ""
            },
            "colorscale": [
             [
              0,
              "#0d0887"
             ],
             [
              0.1111111111111111,
              "#46039f"
             ],
             [
              0.2222222222222222,
              "#7201a8"
             ],
             [
              0.3333333333333333,
              "#9c179e"
             ],
             [
              0.4444444444444444,
              "#bd3786"
             ],
             [
              0.5555555555555556,
              "#d8576b"
             ],
             [
              0.6666666666666666,
              "#ed7953"
             ],
             [
              0.7777777777777778,
              "#fb9f3a"
             ],
             [
              0.8888888888888888,
              "#fdca26"
             ],
             [
              1,
              "#f0f921"
             ]
            ],
            "type": "heatmap"
           }
          ],
          "heatmapgl": [
           {
            "colorbar": {
             "outlinewidth": 0,
             "ticks": ""
            },
            "colorscale": [
             [
              0,
              "#0d0887"
             ],
             [
              0.1111111111111111,
              "#46039f"
             ],
             [
              0.2222222222222222,
              "#7201a8"
             ],
             [
              0.3333333333333333,
              "#9c179e"
             ],
             [
              0.4444444444444444,
              "#bd3786"
             ],
             [
              0.5555555555555556,
              "#d8576b"
             ],
             [
              0.6666666666666666,
              "#ed7953"
             ],
             [
              0.7777777777777778,
              "#fb9f3a"
             ],
             [
              0.8888888888888888,
              "#fdca26"
             ],
             [
              1,
              "#f0f921"
             ]
            ],
            "type": "heatmapgl"
           }
          ],
          "histogram": [
           {
            "marker": {
             "pattern": {
              "fillmode": "overlay",
              "size": 10,
              "solidity": 0.2
             }
            },
            "type": "histogram"
           }
          ],
          "histogram2d": [
           {
            "colorbar": {
             "outlinewidth": 0,
             "ticks": ""
            },
            "colorscale": [
             [
              0,
              "#0d0887"
             ],
             [
              0.1111111111111111,
              "#46039f"
             ],
             [
              0.2222222222222222,
              "#7201a8"
             ],
             [
              0.3333333333333333,
              "#9c179e"
             ],
             [
              0.4444444444444444,
              "#bd3786"
             ],
             [
              0.5555555555555556,
              "#d8576b"
             ],
             [
              0.6666666666666666,
              "#ed7953"
             ],
             [
              0.7777777777777778,
              "#fb9f3a"
             ],
             [
              0.8888888888888888,
              "#fdca26"
             ],
             [
              1,
              "#f0f921"
             ]
            ],
            "type": "histogram2d"
           }
          ],
          "histogram2dcontour": [
           {
            "colorbar": {
             "outlinewidth": 0,
             "ticks": ""
            },
            "colorscale": [
             [
              0,
              "#0d0887"
             ],
             [
              0.1111111111111111,
              "#46039f"
             ],
             [
              0.2222222222222222,
              "#7201a8"
             ],
             [
              0.3333333333333333,
              "#9c179e"
             ],
             [
              0.4444444444444444,
              "#bd3786"
             ],
             [
              0.5555555555555556,
              "#d8576b"
             ],
             [
              0.6666666666666666,
              "#ed7953"
             ],
             [
              0.7777777777777778,
              "#fb9f3a"
             ],
             [
              0.8888888888888888,
              "#fdca26"
             ],
             [
              1,
              "#f0f921"
             ]
            ],
            "type": "histogram2dcontour"
           }
          ],
          "mesh3d": [
           {
            "colorbar": {
             "outlinewidth": 0,
             "ticks": ""
            },
            "type": "mesh3d"
           }
          ],
          "parcoords": [
           {
            "line": {
             "colorbar": {
              "outlinewidth": 0,
              "ticks": ""
             }
            },
            "type": "parcoords"
           }
          ],
          "pie": [
           {
            "automargin": true,
            "type": "pie"
           }
          ],
          "scatter": [
           {
            "fillpattern": {
             "fillmode": "overlay",
             "size": 10,
             "solidity": 0.2
            },
            "type": "scatter"
           }
          ],
          "scatter3d": [
           {
            "line": {
             "colorbar": {
              "outlinewidth": 0,
              "ticks": ""
             }
            },
            "marker": {
             "colorbar": {
              "outlinewidth": 0,
              "ticks": ""
             }
            },
            "type": "scatter3d"
           }
          ],
          "scattercarpet": [
           {
            "marker": {
             "colorbar": {
              "outlinewidth": 0,
              "ticks": ""
             }
            },
            "type": "scattercarpet"
           }
          ],
          "scattergeo": [
           {
            "marker": {
             "colorbar": {
              "outlinewidth": 0,
              "ticks": ""
             }
            },
            "type": "scattergeo"
           }
          ],
          "scattergl": [
           {
            "marker": {
             "colorbar": {
              "outlinewidth": 0,
              "ticks": ""
             }
            },
            "type": "scattergl"
           }
          ],
          "scattermapbox": [
           {
            "marker": {
             "colorbar": {
              "outlinewidth": 0,
              "ticks": ""
             }
            },
            "type": "scattermapbox"
           }
          ],
          "scatterpolar": [
           {
            "marker": {
             "colorbar": {
              "outlinewidth": 0,
              "ticks": ""
             }
            },
            "type": "scatterpolar"
           }
          ],
          "scatterpolargl": [
           {
            "marker": {
             "colorbar": {
              "outlinewidth": 0,
              "ticks": ""
             }
            },
            "type": "scatterpolargl"
           }
          ],
          "scatterternary": [
           {
            "marker": {
             "colorbar": {
              "outlinewidth": 0,
              "ticks": ""
             }
            },
            "type": "scatterternary"
           }
          ],
          "surface": [
           {
            "colorbar": {
             "outlinewidth": 0,
             "ticks": ""
            },
            "colorscale": [
             [
              0,
              "#0d0887"
             ],
             [
              0.1111111111111111,
              "#46039f"
             ],
             [
              0.2222222222222222,
              "#7201a8"
             ],
             [
              0.3333333333333333,
              "#9c179e"
             ],
             [
              0.4444444444444444,
              "#bd3786"
             ],
             [
              0.5555555555555556,
              "#d8576b"
             ],
             [
              0.6666666666666666,
              "#ed7953"
             ],
             [
              0.7777777777777778,
              "#fb9f3a"
             ],
             [
              0.8888888888888888,
              "#fdca26"
             ],
             [
              1,
              "#f0f921"
             ]
            ],
            "type": "surface"
           }
          ],
          "table": [
           {
            "cells": {
             "fill": {
              "color": "#EBF0F8"
             },
             "line": {
              "color": "white"
             }
            },
            "header": {
             "fill": {
              "color": "#C8D4E3"
             },
             "line": {
              "color": "white"
             }
            },
            "type": "table"
           }
          ]
         },
         "layout": {
          "annotationdefaults": {
           "arrowcolor": "#2a3f5f",
           "arrowhead": 0,
           "arrowwidth": 1
          },
          "autotypenumbers": "strict",
          "coloraxis": {
           "colorbar": {
            "outlinewidth": 0,
            "ticks": ""
           }
          },
          "colorscale": {
           "diverging": [
            [
             0,
             "#8e0152"
            ],
            [
             0.1,
             "#c51b7d"
            ],
            [
             0.2,
             "#de77ae"
            ],
            [
             0.3,
             "#f1b6da"
            ],
            [
             0.4,
             "#fde0ef"
            ],
            [
             0.5,
             "#f7f7f7"
            ],
            [
             0.6,
             "#e6f5d0"
            ],
            [
             0.7,
             "#b8e186"
            ],
            [
             0.8,
             "#7fbc41"
            ],
            [
             0.9,
             "#4d9221"
            ],
            [
             1,
             "#276419"
            ]
           ],
           "sequential": [
            [
             0,
             "#0d0887"
            ],
            [
             0.1111111111111111,
             "#46039f"
            ],
            [
             0.2222222222222222,
             "#7201a8"
            ],
            [
             0.3333333333333333,
             "#9c179e"
            ],
            [
             0.4444444444444444,
             "#bd3786"
            ],
            [
             0.5555555555555556,
             "#d8576b"
            ],
            [
             0.6666666666666666,
             "#ed7953"
            ],
            [
             0.7777777777777778,
             "#fb9f3a"
            ],
            [
             0.8888888888888888,
             "#fdca26"
            ],
            [
             1,
             "#f0f921"
            ]
           ],
           "sequentialminus": [
            [
             0,
             "#0d0887"
            ],
            [
             0.1111111111111111,
             "#46039f"
            ],
            [
             0.2222222222222222,
             "#7201a8"
            ],
            [
             0.3333333333333333,
             "#9c179e"
            ],
            [
             0.4444444444444444,
             "#bd3786"
            ],
            [
             0.5555555555555556,
             "#d8576b"
            ],
            [
             0.6666666666666666,
             "#ed7953"
            ],
            [
             0.7777777777777778,
             "#fb9f3a"
            ],
            [
             0.8888888888888888,
             "#fdca26"
            ],
            [
             1,
             "#f0f921"
            ]
           ]
          },
          "colorway": [
           "#636efa",
           "#EF553B",
           "#00cc96",
           "#ab63fa",
           "#FFA15A",
           "#19d3f3",
           "#FF6692",
           "#B6E880",
           "#FF97FF",
           "#FECB52"
          ],
          "font": {
           "color": "#2a3f5f"
          },
          "geo": {
           "bgcolor": "white",
           "lakecolor": "white",
           "landcolor": "#E5ECF6",
           "showlakes": true,
           "showland": true,
           "subunitcolor": "white"
          },
          "hoverlabel": {
           "align": "left"
          },
          "hovermode": "closest",
          "mapbox": {
           "style": "light"
          },
          "paper_bgcolor": "white",
          "plot_bgcolor": "#E5ECF6",
          "polar": {
           "angularaxis": {
            "gridcolor": "white",
            "linecolor": "white",
            "ticks": ""
           },
           "bgcolor": "#E5ECF6",
           "radialaxis": {
            "gridcolor": "white",
            "linecolor": "white",
            "ticks": ""
           }
          },
          "scene": {
           "xaxis": {
            "backgroundcolor": "#E5ECF6",
            "gridcolor": "white",
            "gridwidth": 2,
            "linecolor": "white",
            "showbackground": true,
            "ticks": "",
            "zerolinecolor": "white"
           },
           "yaxis": {
            "backgroundcolor": "#E5ECF6",
            "gridcolor": "white",
            "gridwidth": 2,
            "linecolor": "white",
            "showbackground": true,
            "ticks": "",
            "zerolinecolor": "white"
           },
           "zaxis": {
            "backgroundcolor": "#E5ECF6",
            "gridcolor": "white",
            "gridwidth": 2,
            "linecolor": "white",
            "showbackground": true,
            "ticks": "",
            "zerolinecolor": "white"
           }
          },
          "shapedefaults": {
           "line": {
            "color": "#2a3f5f"
           }
          },
          "ternary": {
           "aaxis": {
            "gridcolor": "white",
            "linecolor": "white",
            "ticks": ""
           },
           "baxis": {
            "gridcolor": "white",
            "linecolor": "white",
            "ticks": ""
           },
           "bgcolor": "#E5ECF6",
           "caxis": {
            "gridcolor": "white",
            "linecolor": "white",
            "ticks": ""
           }
          },
          "title": {
           "x": 0.05
          },
          "xaxis": {
           "automargin": true,
           "gridcolor": "white",
           "linecolor": "white",
           "ticks": "",
           "title": {
            "standoff": 15
           },
           "zerolinecolor": "white",
           "zerolinewidth": 2
          },
          "yaxis": {
           "automargin": true,
           "gridcolor": "white",
           "linecolor": "white",
           "ticks": "",
           "title": {
            "standoff": 15
           },
           "zerolinecolor": "white",
           "zerolinewidth": 2
          }
         }
        },
        "title": {
         "text": "Embedding Visualization (TSNE)"
        },
        "xaxis": {
         "title": {
          "text": "Dimension 1"
         }
        },
        "yaxis": {
         "title": {
          "text": "Dimension 2"
         }
        }
       }
      }
     },
     "metadata": {},
     "output_type": "display_data"
    }
   ],
   "source": [
    "nearest_count = 80\n",
    "model1.plot_word(model1.k_Nearest('Андрей', nearest_count, use_cosine=True))"
   ]
  },
  {
   "cell_type": "code",
   "execution_count": 4,
   "metadata": {},
   "outputs": [
    {
     "data": {
      "application/vnd.plotly.v1+json": {
       "config": {
        "plotlyServerURL": "https://plot.ly"
       },
       "data": [
        {
         "mode": "markers+text",
         "name": "война",
         "text": [
          "война"
         ],
         "textposition": "bottom center",
         "type": "scatter",
         "x": [
          39.83642578125
         ],
         "y": [
          9.027649879455566
         ]
        },
        {
         "mode": "markers+text",
         "name": "спокойна",
         "text": [
          "спокойна"
         ],
         "textposition": "bottom center",
         "type": "scatter",
         "x": [
          44.29384231567383
         ],
         "y": [
          8.789860725402832
         ]
        },
        {
         "mode": "markers+text",
         "name": "войнах",
         "text": [
          "войнах"
         ],
         "textposition": "bottom center",
         "type": "scatter",
         "x": [
          38.53779220581055
         ],
         "y": [
          7.239875793457031
         ]
        },
        {
         "mode": "markers+text",
         "name": "покойна",
         "text": [
          "покойна"
         ],
         "textposition": "bottom center",
         "type": "scatter",
         "x": [
          45.10657501220703
         ],
         "y": [
          11.957975387573242
         ]
        },
        {
         "mode": "markers+text",
         "name": "беспокойна",
         "text": [
          "беспокойна"
         ],
         "textposition": "bottom center",
         "type": "scatter",
         "x": [
          45.29500198364258
         ],
         "y": [
          9.53831672668457
         ]
        },
        {
         "mode": "markers+text",
         "name": "войной",
         "text": [
          "войной"
         ],
         "textposition": "bottom center",
         "type": "scatter",
         "x": [
          3.5678787231445312
         ],
         "y": [
          14.284027099609375
         ]
        },
        {
         "mode": "markers+text",
         "name": "достойна",
         "text": [
          "достойна"
         ],
         "textposition": "bottom center",
         "type": "scatter",
         "x": [
          47.809478759765625
         ],
         "y": [
          9.220682144165039
         ]
        },
        {
         "mode": "markers+text",
         "name": "войнами",
         "text": [
          "войнами"
         ],
         "textposition": "bottom center",
         "type": "scatter",
         "x": [
          0.427171528339386
         ],
         "y": [
          -18.019380569458008
         ]
        },
        {
         "mode": "markers+text",
         "name": "войны",
         "text": [
          "войны"
         ],
         "textposition": "bottom center",
         "type": "scatter",
         "x": [
          1.4382448196411133
         ],
         "y": [
          13.255958557128906
         ]
        },
        {
         "mode": "markers+text",
         "name": "войну",
         "text": [
          "войну"
         ],
         "textposition": "bottom center",
         "type": "scatter",
         "x": [
          -28.217870712280273
         ],
         "y": [
          8.679522514343262
         ]
        },
        {
         "mode": "markers+text",
         "name": "грустно",
         "text": [
          "грустно"
         ],
         "textposition": "bottom center",
         "type": "scatter",
         "x": [
          15.405621528625488
         ],
         "y": [
          22.617956161499023
         ]
        },
        {
         "mode": "markers+text",
         "name": "останавливаясь",
         "text": [
          "останавливаясь"
         ],
         "textposition": "bottom center",
         "type": "scatter",
         "x": [
          -14.00318431854248
         ],
         "y": [
          5.244014263153076
         ]
        },
        {
         "mode": "markers+text",
         "name": "останавливаться",
         "text": [
          "останавливаться"
         ],
         "textposition": "bottom center",
         "type": "scatter",
         "x": [
          -7.115604877471924
         ],
         "y": [
          -5.643469333648682
         ]
        },
        {
         "mode": "markers+text",
         "name": "останавливать",
         "text": [
          "останавливать"
         ],
         "textposition": "bottom center",
         "type": "scatter",
         "x": [
          -7.33847713470459
         ],
         "y": [
          -4.545281410217285
         ]
        },
        {
         "mode": "markers+text",
         "name": "узнается",
         "text": [
          "узнается"
         ],
         "textposition": "bottom center",
         "type": "scatter",
         "x": [
          -8.233611106872559
         ],
         "y": [
          -36.82187271118164
         ]
        },
        {
         "mode": "markers+text",
         "name": "вертелись",
         "text": [
          "вертелись"
         ],
         "textposition": "bottom center",
         "type": "scatter",
         "x": [
          -21.9193172454834
         ],
         "y": [
          -0.7825396656990051
         ]
        },
        {
         "mode": "markers+text",
         "name": "делавших",
         "text": [
          "делавших"
         ],
         "textposition": "bottom center",
         "type": "scatter",
         "x": [
          -8.22360610961914
         ],
         "y": [
          -53.82762145996094
         ]
        },
        {
         "mode": "markers+text",
         "name": "вокруг",
         "text": [
          "вокруг"
         ],
         "textposition": "bottom center",
         "type": "scatter",
         "x": [
          -5.2624053955078125
         ],
         "y": [
          10.132713317871094
         ]
        },
        {
         "mode": "markers+text",
         "name": "условности",
         "text": [
          "условности"
         ],
         "textposition": "bottom center",
         "type": "scatter",
         "x": [
          -6.21359920501709
         ],
         "y": [
          -1.02642023563385
         ]
        },
        {
         "mode": "markers+text",
         "name": "неясном",
         "text": [
          "неясном"
         ],
         "textposition": "bottom center",
         "type": "scatter",
         "x": [
          -23.585290908813477
         ],
         "y": [
          -17.71065902709961
         ]
        },
        {
         "mode": "markers+text",
         "name": "пожаловалась",
         "text": [
          "пожаловалась"
         ],
         "textposition": "bottom center",
         "type": "scatter",
         "x": [
          2.699993848800659
         ],
         "y": [
          -19.57045555114746
         ]
        },
        {
         "mode": "markers+text",
         "name": "войн",
         "text": [
          "войн"
         ],
         "textposition": "bottom center",
         "type": "scatter",
         "x": [
          5.46999454498291
         ],
         "y": [
          15.194103240966797
         ]
        },
        {
         "mode": "markers+text",
         "name": "расстанавливать",
         "text": [
          "расстанавливать"
         ],
         "textposition": "bottom center",
         "type": "scatter",
         "x": [
          -34.581539154052734
         ],
         "y": [
          -8.271857261657715
         ]
        },
        {
         "mode": "markers+text",
         "name": "останавливалась",
         "text": [
          "останавливалась"
         ],
         "textposition": "bottom center",
         "type": "scatter",
         "x": [
          -20.989744186401367
         ],
         "y": [
          -3.4286110401153564
         ]
        },
        {
         "mode": "markers+text",
         "name": "поднималась",
         "text": [
          "поднималась"
         ],
         "textposition": "bottom center",
         "type": "scatter",
         "x": [
          28.491775512695312
         ],
         "y": [
          -28.260129928588867
         ]
        },
        {
         "mode": "markers+text",
         "name": "поднимались",
         "text": [
          "поднимались"
         ],
         "textposition": "bottom center",
         "type": "scatter",
         "x": [
          23.91615867614746
         ],
         "y": [
          -24.84635353088379
         ]
        },
        {
         "mode": "markers+text",
         "name": "поднимали",
         "text": [
          "поднимали"
         ],
         "textposition": "bottom center",
         "type": "scatter",
         "x": [
          24.789546966552734
         ],
         "y": [
          -24.006935119628906
         ]
        },
        {
         "mode": "markers+text",
         "name": "выражаться",
         "text": [
          "выражаться"
         ],
         "textposition": "bottom center",
         "type": "scatter",
         "x": [
          -3.561598300933838
         ],
         "y": [
          -5.0306806564331055
         ]
        },
        {
         "mode": "markers+text",
         "name": "неясности",
         "text": [
          "неясности"
         ],
         "textposition": "bottom center",
         "type": "scatter",
         "x": [
          -25.145870208740234
         ],
         "y": [
          -16.70775604248047
         ]
        },
        {
         "mode": "markers+text",
         "name": "замечали",
         "text": [
          "замечали"
         ],
         "textposition": "bottom center",
         "type": "scatter",
         "x": [
          -44.21299743652344
         ],
         "y": [
          28.10196876525879
         ]
        },
        {
         "mode": "markers+text",
         "name": "засучиваясь",
         "text": [
          "засучиваясь"
         ],
         "textposition": "bottom center",
         "type": "scatter",
         "x": [
          -11.3936128616333
         ],
         "y": [
          9.751347541809082
         ]
        },
        {
         "mode": "markers+text",
         "name": "представилось",
         "text": [
          "представилось"
         ],
         "textposition": "bottom center",
         "type": "scatter",
         "x": [
          1.548540711402893
         ],
         "y": [
          -0.01422921009361744
         ]
        },
        {
         "mode": "markers+text",
         "name": "спрашиваясь",
         "text": [
          "спрашиваясь"
         ],
         "textposition": "bottom center",
         "type": "scatter",
         "x": [
          -7.305726051330566
         ],
         "y": [
          9.133331298828125
         ]
        },
        {
         "mode": "markers+text",
         "name": "пострадали",
         "text": [
          "пострадали"
         ],
         "textposition": "bottom center",
         "type": "scatter",
         "x": [
          -0.6488975882530212
         ],
         "y": [
          44.428462982177734
         ]
        },
        {
         "mode": "markers+text",
         "name": "мучительной",
         "text": [
          "мучительной"
         ],
         "textposition": "bottom center",
         "type": "scatter",
         "x": [
          4.231966018676758
         ],
         "y": [
          -1.2118518352508545
         ]
        },
        {
         "mode": "markers+text",
         "name": "делавший",
         "text": [
          "делавший"
         ],
         "textposition": "bottom center",
         "type": "scatter",
         "x": [
          -8.21672534942627
         ],
         "y": [
          -54.92595672607422
         ]
        },
        {
         "mode": "markers+text",
         "name": "посмотрелась",
         "text": [
          "посмотрелась"
         ],
         "textposition": "bottom center",
         "type": "scatter",
         "x": [
          -14.370672225952148
         ],
         "y": [
          -7.660207271575928
         ]
        },
        {
         "mode": "markers+text",
         "name": "непобедимости",
         "text": [
          "непобедимости"
         ],
         "textposition": "bottom center",
         "type": "scatter",
         "x": [
          16.4344482421875
         ],
         "y": [
          39.308380126953125
         ]
        },
        {
         "mode": "markers+text",
         "name": "образовалась",
         "text": [
          "образовалась"
         ],
         "textposition": "bottom center",
         "type": "scatter",
         "x": [
          -29.132564544677734
         ],
         "y": [
          6.219183444976807
         ]
        },
        {
         "mode": "markers+text",
         "name": "останавливая",
         "text": [
          "останавливая"
         ],
         "textposition": "bottom center",
         "type": "scatter",
         "x": [
          -15.097440719604492
         ],
         "y": [
          5.760917663574219
         ]
        },
        {
         "mode": "markers+text",
         "name": "останавливала",
         "text": [
          "останавливала"
         ],
         "textposition": "bottom center",
         "type": "scatter",
         "x": [
          -20.12794303894043
         ],
         "y": [
          -4.268170356750488
         ]
        },
        {
         "mode": "markers+text",
         "name": "жаловалась",
         "text": [
          "жаловалась"
         ],
         "textposition": "bottom center",
         "type": "scatter",
         "x": [
          3.643885612487793
         ],
         "y": [
          -20.207157135009766
         ]
        },
        {
         "mode": "markers+text",
         "name": "непобедимого",
         "text": [
          "непобедимого"
         ],
         "textposition": "bottom center",
         "type": "scatter",
         "x": [
          17.48406219482422
         ],
         "y": [
          39.33298873901367
         ]
        },
        {
         "mode": "markers+text",
         "name": "грустный",
         "text": [
          "грустный"
         ],
         "textposition": "bottom center",
         "type": "scatter",
         "x": [
          15.766398429870605
         ],
         "y": [
          23.630970001220703
         ]
        },
        {
         "mode": "markers+text",
         "name": "перекладную",
         "text": [
          "перекладную"
         ],
         "textposition": "bottom center",
         "type": "scatter",
         "x": [
          -7.989975452423096
         ],
         "y": [
          -17.407588958740234
         ]
        },
        {
         "mode": "markers+text",
         "name": "стучит",
         "text": [
          "стучит"
         ],
         "textposition": "bottom center",
         "type": "scatter",
         "x": [
          6.066442012786865
         ],
         "y": [
          -2.002934217453003
         ]
        },
        {
         "mode": "markers+text",
         "name": "настрадались",
         "text": [
          "настрадались"
         ],
         "textposition": "bottom center",
         "type": "scatter",
         "x": [
          0.2019851803779602
         ],
         "y": [
          45.066131591796875
         ]
        },
        {
         "mode": "markers+text",
         "name": "наложена",
         "text": [
          "наложена"
         ],
         "textposition": "bottom center",
         "type": "scatter",
         "x": [
          21.041349411010742
         ],
         "y": [
          -23.8884220123291
         ]
        },
        {
         "mode": "markers+text",
         "name": "поднимала",
         "text": [
          "поднимала"
         ],
         "textposition": "bottom center",
         "type": "scatter",
         "x": [
          29.441015243530273
         ],
         "y": [
          -27.7523250579834
         ]
        },
        {
         "mode": "markers+text",
         "name": "делается",
         "text": [
          "делается"
         ],
         "textposition": "bottom center",
         "type": "scatter",
         "x": [
          -8.378402709960938
         ],
         "y": [
          -38.1079216003418
         ]
        },
        {
         "mode": "markers+text",
         "name": "присоединилась",
         "text": [
          "присоединилась"
         ],
         "textposition": "bottom center",
         "type": "scatter",
         "x": [
          -10.603680610656738
         ],
         "y": [
          -3.5421440601348877
         ]
        },
        {
         "mode": "markers+text",
         "name": "направлено",
         "text": [
          "направлено"
         ],
         "textposition": "bottom center",
         "type": "scatter",
         "x": [
          -12.748722076416016
         ],
         "y": [
          15.159822463989258
         ]
        },
        {
         "mode": "markers+text",
         "name": "перекладывала",
         "text": [
          "перекладывала"
         ],
         "textposition": "bottom center",
         "type": "scatter",
         "x": [
          -6.836255073547363
         ],
         "y": [
          -15.751045227050781
         ]
        },
        {
         "mode": "markers+text",
         "name": "серьезной",
         "text": [
          "серьезной"
         ],
         "textposition": "bottom center",
         "type": "scatter",
         "x": [
          -8.329412460327148
         ],
         "y": [
          11.224382400512695
         ]
        },
        {
         "mode": "markers+text",
         "name": "послать",
         "text": [
          "послать"
         ],
         "textposition": "bottom center",
         "type": "scatter",
         "x": [
          -5.7796549797058105
         ],
         "y": [
          14.033721923828125
         ]
        },
        {
         "mode": "markers+text",
         "name": "неизведанное",
         "text": [
          "неизведанное"
         ],
         "textposition": "bottom center",
         "type": "scatter",
         "x": [
          -18.28540802001953
         ],
         "y": [
          34.99726104736328
         ]
        },
        {
         "mode": "markers+text",
         "name": "ведаться",
         "text": [
          "ведаться"
         ],
         "textposition": "bottom center",
         "type": "scatter",
         "x": [
          -5.739548206329346
         ],
         "y": [
          -7.863735198974609
         ]
        },
        {
         "mode": "markers+text",
         "name": "перевоза",
         "text": [
          "перевоза"
         ],
         "textposition": "bottom center",
         "type": "scatter",
         "x": [
          -31.488771438598633
         ],
         "y": [
          6.308844089508057
         ]
        },
        {
         "mode": "markers+text",
         "name": "замечать",
         "text": [
          "замечать"
         ],
         "textposition": "bottom center",
         "type": "scatter",
         "x": [
          -46.632442474365234
         ],
         "y": [
          29.88079261779785
         ]
        },
        {
         "mode": "markers+text",
         "name": "перестававшими",
         "text": [
          "перестававшими"
         ],
         "textposition": "bottom center",
         "type": "scatter",
         "x": [
          -5.553792953491211
         ],
         "y": [
          -13.94420337677002
         ]
        },
        {
         "mode": "markers+text",
         "name": "узнаем",
         "text": [
          "узнаем"
         ],
         "textposition": "bottom center",
         "type": "scatter",
         "x": [
          -5.929471969604492
         ],
         "y": [
          -35.92417526245117
         ]
        },
        {
         "mode": "markers+text",
         "name": "неясную",
         "text": [
          "неясную"
         ],
         "textposition": "bottom center",
         "type": "scatter",
         "x": [
          -27.04991340637207
         ],
         "y": [
          -17.399227142333984
         ]
        },
        {
         "mode": "markers+text",
         "name": "вой",
         "text": [
          "вой"
         ],
         "textposition": "bottom center",
         "type": "scatter",
         "x": [
          38.65704345703125
         ],
         "y": [
          10.909414291381836
         ]
        },
        {
         "mode": "markers+text",
         "name": "неизвестно",
         "text": [
          "неизвестно"
         ],
         "textposition": "bottom center",
         "type": "scatter",
         "x": [
          1.2896063327789307
         ],
         "y": [
          1.9998492002487183
         ]
        },
        {
         "mode": "markers+text",
         "name": "поднималось",
         "text": [
          "поднималось"
         ],
         "textposition": "bottom center",
         "type": "scatter",
         "x": [
          24.177091598510742
         ],
         "y": [
          -27.149654388427734
         ]
        },
        {
         "mode": "markers+text",
         "name": "читанном",
         "text": [
          "читанном"
         ],
         "textposition": "bottom center",
         "type": "scatter",
         "x": [
          -18.324993133544922
         ],
         "y": [
          -1.742720603942871
         ]
        },
        {
         "mode": "markers+text",
         "name": "кутузова",
         "text": [
          "кутузова"
         ],
         "textposition": "bottom center",
         "type": "scatter",
         "x": [
          -28.226770401000977
         ],
         "y": [
          4.919113636016846
         ]
        },
        {
         "mode": "markers+text",
         "name": "знает",
         "text": [
          "знает"
         ],
         "textposition": "bottom center",
         "type": "scatter",
         "x": [
          -9.730599403381348
         ],
         "y": [
          -35.317813873291016
         ]
        },
        {
         "mode": "markers+text",
         "name": "расстанавливая",
         "text": [
          "расстанавливая"
         ],
         "textposition": "bottom center",
         "type": "scatter",
         "x": [
          -35.47178649902344
         ],
         "y": [
          -7.68507719039917
         ]
        },
        {
         "mode": "markers+text",
         "name": "равенстве",
         "text": [
          "равенстве"
         ],
         "textposition": "bottom center",
         "type": "scatter",
         "x": [
          -22.2879695892334
         ],
         "y": [
          -7.018711090087891
         ]
        },
        {
         "mode": "markers+text",
         "name": "войне",
         "text": [
          "войне"
         ],
         "textposition": "bottom center",
         "type": "scatter",
         "x": [
          -2.347043991088867
         ],
         "y": [
          7.894840240478516
         ]
        },
        {
         "mode": "markers+text",
         "name": "замечал",
         "text": [
          "замечал"
         ],
         "textposition": "bottom center",
         "type": "scatter",
         "x": [
          -45.11506652832031
         ],
         "y": [
          28.767690658569336
         ]
        },
        {
         "mode": "markers+text",
         "name": "обходилось",
         "text": [
          "обходилось"
         ],
         "textposition": "bottom center",
         "type": "scatter",
         "x": [
          -13.498640060424805
         ],
         "y": [
          2.9331374168395996
         ]
        },
        {
         "mode": "markers+text",
         "name": "спокойная",
         "text": [
          "спокойная"
         ],
         "textposition": "bottom center",
         "type": "scatter",
         "x": [
          44.32645797729492
         ],
         "y": [
          6.6385416984558105
         ]
        },
        {
         "mode": "markers+text",
         "name": "бонапарте",
         "text": [
          "бонапарте"
         ],
         "textposition": "bottom center",
         "type": "scatter",
         "x": [
          -8.81617259979248
         ],
         "y": [
          7.345268249511719
         ]
        },
        {
         "mode": "markers+text",
         "name": "успокоиваться",
         "text": [
          "успокоиваться"
         ],
         "textposition": "bottom center",
         "type": "scatter",
         "x": [
          -9.005000114440918
         ],
         "y": [
          -7.477031707763672
         ]
        },
        {
         "mode": "markers+text",
         "name": "неизведанные",
         "text": [
          "неизведанные"
         ],
         "textposition": "bottom center",
         "type": "scatter",
         "x": [
          -18.94173240661621
         ],
         "y": [
          35.81909942626953
         ]
        },
        {
         "mode": "markers+text",
         "name": "угрожали",
         "text": [
          "угрожали"
         ],
         "textposition": "bottom center",
         "type": "scatter",
         "x": [
          -5.892807483673096
         ],
         "y": [
          6.5021820068359375
         ]
        },
        {
         "mode": "markers+text",
         "name": "делавшую",
         "text": [
          "делавшую"
         ],
         "textposition": "bottom center",
         "type": "scatter",
         "x": [
          -8.230669975280762
         ],
         "y": [
          -56.75080490112305
         ]
        },
        {
         "mode": "markers+text",
         "name": "перезаложены",
         "text": [
          "перезаложены"
         ],
         "textposition": "bottom center",
         "type": "scatter",
         "x": [
          -23.808319091796875
         ],
         "y": [
          -3.591663122177124
         ]
        },
        {
         "mode": "markers+text",
         "name": "постреленок",
         "text": [
          "постреленок"
         ],
         "textposition": "bottom center",
         "type": "scatter",
         "x": [
          -14.307323455810547
         ],
         "y": [
          16.451614379882812
         ]
        }
       ],
       "layout": {
        "template": {
         "data": {
          "bar": [
           {
            "error_x": {
             "color": "#2a3f5f"
            },
            "error_y": {
             "color": "#2a3f5f"
            },
            "marker": {
             "line": {
              "color": "#E5ECF6",
              "width": 0.5
             },
             "pattern": {
              "fillmode": "overlay",
              "size": 10,
              "solidity": 0.2
             }
            },
            "type": "bar"
           }
          ],
          "barpolar": [
           {
            "marker": {
             "line": {
              "color": "#E5ECF6",
              "width": 0.5
             },
             "pattern": {
              "fillmode": "overlay",
              "size": 10,
              "solidity": 0.2
             }
            },
            "type": "barpolar"
           }
          ],
          "carpet": [
           {
            "aaxis": {
             "endlinecolor": "#2a3f5f",
             "gridcolor": "white",
             "linecolor": "white",
             "minorgridcolor": "white",
             "startlinecolor": "#2a3f5f"
            },
            "baxis": {
             "endlinecolor": "#2a3f5f",
             "gridcolor": "white",
             "linecolor": "white",
             "minorgridcolor": "white",
             "startlinecolor": "#2a3f5f"
            },
            "type": "carpet"
           }
          ],
          "choropleth": [
           {
            "colorbar": {
             "outlinewidth": 0,
             "ticks": ""
            },
            "type": "choropleth"
           }
          ],
          "contour": [
           {
            "colorbar": {
             "outlinewidth": 0,
             "ticks": ""
            },
            "colorscale": [
             [
              0,
              "#0d0887"
             ],
             [
              0.1111111111111111,
              "#46039f"
             ],
             [
              0.2222222222222222,
              "#7201a8"
             ],
             [
              0.3333333333333333,
              "#9c179e"
             ],
             [
              0.4444444444444444,
              "#bd3786"
             ],
             [
              0.5555555555555556,
              "#d8576b"
             ],
             [
              0.6666666666666666,
              "#ed7953"
             ],
             [
              0.7777777777777778,
              "#fb9f3a"
             ],
             [
              0.8888888888888888,
              "#fdca26"
             ],
             [
              1,
              "#f0f921"
             ]
            ],
            "type": "contour"
           }
          ],
          "contourcarpet": [
           {
            "colorbar": {
             "outlinewidth": 0,
             "ticks": ""
            },
            "type": "contourcarpet"
           }
          ],
          "heatmap": [
           {
            "colorbar": {
             "outlinewidth": 0,
             "ticks": ""
            },
            "colorscale": [
             [
              0,
              "#0d0887"
             ],
             [
              0.1111111111111111,
              "#46039f"
             ],
             [
              0.2222222222222222,
              "#7201a8"
             ],
             [
              0.3333333333333333,
              "#9c179e"
             ],
             [
              0.4444444444444444,
              "#bd3786"
             ],
             [
              0.5555555555555556,
              "#d8576b"
             ],
             [
              0.6666666666666666,
              "#ed7953"
             ],
             [
              0.7777777777777778,
              "#fb9f3a"
             ],
             [
              0.8888888888888888,
              "#fdca26"
             ],
             [
              1,
              "#f0f921"
             ]
            ],
            "type": "heatmap"
           }
          ],
          "heatmapgl": [
           {
            "colorbar": {
             "outlinewidth": 0,
             "ticks": ""
            },
            "colorscale": [
             [
              0,
              "#0d0887"
             ],
             [
              0.1111111111111111,
              "#46039f"
             ],
             [
              0.2222222222222222,
              "#7201a8"
             ],
             [
              0.3333333333333333,
              "#9c179e"
             ],
             [
              0.4444444444444444,
              "#bd3786"
             ],
             [
              0.5555555555555556,
              "#d8576b"
             ],
             [
              0.6666666666666666,
              "#ed7953"
             ],
             [
              0.7777777777777778,
              "#fb9f3a"
             ],
             [
              0.8888888888888888,
              "#fdca26"
             ],
             [
              1,
              "#f0f921"
             ]
            ],
            "type": "heatmapgl"
           }
          ],
          "histogram": [
           {
            "marker": {
             "pattern": {
              "fillmode": "overlay",
              "size": 10,
              "solidity": 0.2
             }
            },
            "type": "histogram"
           }
          ],
          "histogram2d": [
           {
            "colorbar": {
             "outlinewidth": 0,
             "ticks": ""
            },
            "colorscale": [
             [
              0,
              "#0d0887"
             ],
             [
              0.1111111111111111,
              "#46039f"
             ],
             [
              0.2222222222222222,
              "#7201a8"
             ],
             [
              0.3333333333333333,
              "#9c179e"
             ],
             [
              0.4444444444444444,
              "#bd3786"
             ],
             [
              0.5555555555555556,
              "#d8576b"
             ],
             [
              0.6666666666666666,
              "#ed7953"
             ],
             [
              0.7777777777777778,
              "#fb9f3a"
             ],
             [
              0.8888888888888888,
              "#fdca26"
             ],
             [
              1,
              "#f0f921"
             ]
            ],
            "type": "histogram2d"
           }
          ],
          "histogram2dcontour": [
           {
            "colorbar": {
             "outlinewidth": 0,
             "ticks": ""
            },
            "colorscale": [
             [
              0,
              "#0d0887"
             ],
             [
              0.1111111111111111,
              "#46039f"
             ],
             [
              0.2222222222222222,
              "#7201a8"
             ],
             [
              0.3333333333333333,
              "#9c179e"
             ],
             [
              0.4444444444444444,
              "#bd3786"
             ],
             [
              0.5555555555555556,
              "#d8576b"
             ],
             [
              0.6666666666666666,
              "#ed7953"
             ],
             [
              0.7777777777777778,
              "#fb9f3a"
             ],
             [
              0.8888888888888888,
              "#fdca26"
             ],
             [
              1,
              "#f0f921"
             ]
            ],
            "type": "histogram2dcontour"
           }
          ],
          "mesh3d": [
           {
            "colorbar": {
             "outlinewidth": 0,
             "ticks": ""
            },
            "type": "mesh3d"
           }
          ],
          "parcoords": [
           {
            "line": {
             "colorbar": {
              "outlinewidth": 0,
              "ticks": ""
             }
            },
            "type": "parcoords"
           }
          ],
          "pie": [
           {
            "automargin": true,
            "type": "pie"
           }
          ],
          "scatter": [
           {
            "fillpattern": {
             "fillmode": "overlay",
             "size": 10,
             "solidity": 0.2
            },
            "type": "scatter"
           }
          ],
          "scatter3d": [
           {
            "line": {
             "colorbar": {
              "outlinewidth": 0,
              "ticks": ""
             }
            },
            "marker": {
             "colorbar": {
              "outlinewidth": 0,
              "ticks": ""
             }
            },
            "type": "scatter3d"
           }
          ],
          "scattercarpet": [
           {
            "marker": {
             "colorbar": {
              "outlinewidth": 0,
              "ticks": ""
             }
            },
            "type": "scattercarpet"
           }
          ],
          "scattergeo": [
           {
            "marker": {
             "colorbar": {
              "outlinewidth": 0,
              "ticks": ""
             }
            },
            "type": "scattergeo"
           }
          ],
          "scattergl": [
           {
            "marker": {
             "colorbar": {
              "outlinewidth": 0,
              "ticks": ""
             }
            },
            "type": "scattergl"
           }
          ],
          "scattermapbox": [
           {
            "marker": {
             "colorbar": {
              "outlinewidth": 0,
              "ticks": ""
             }
            },
            "type": "scattermapbox"
           }
          ],
          "scatterpolar": [
           {
            "marker": {
             "colorbar": {
              "outlinewidth": 0,
              "ticks": ""
             }
            },
            "type": "scatterpolar"
           }
          ],
          "scatterpolargl": [
           {
            "marker": {
             "colorbar": {
              "outlinewidth": 0,
              "ticks": ""
             }
            },
            "type": "scatterpolargl"
           }
          ],
          "scatterternary": [
           {
            "marker": {
             "colorbar": {
              "outlinewidth": 0,
              "ticks": ""
             }
            },
            "type": "scatterternary"
           }
          ],
          "surface": [
           {
            "colorbar": {
             "outlinewidth": 0,
             "ticks": ""
            },
            "colorscale": [
             [
              0,
              "#0d0887"
             ],
             [
              0.1111111111111111,
              "#46039f"
             ],
             [
              0.2222222222222222,
              "#7201a8"
             ],
             [
              0.3333333333333333,
              "#9c179e"
             ],
             [
              0.4444444444444444,
              "#bd3786"
             ],
             [
              0.5555555555555556,
              "#d8576b"
             ],
             [
              0.6666666666666666,
              "#ed7953"
             ],
             [
              0.7777777777777778,
              "#fb9f3a"
             ],
             [
              0.8888888888888888,
              "#fdca26"
             ],
             [
              1,
              "#f0f921"
             ]
            ],
            "type": "surface"
           }
          ],
          "table": [
           {
            "cells": {
             "fill": {
              "color": "#EBF0F8"
             },
             "line": {
              "color": "white"
             }
            },
            "header": {
             "fill": {
              "color": "#C8D4E3"
             },
             "line": {
              "color": "white"
             }
            },
            "type": "table"
           }
          ]
         },
         "layout": {
          "annotationdefaults": {
           "arrowcolor": "#2a3f5f",
           "arrowhead": 0,
           "arrowwidth": 1
          },
          "autotypenumbers": "strict",
          "coloraxis": {
           "colorbar": {
            "outlinewidth": 0,
            "ticks": ""
           }
          },
          "colorscale": {
           "diverging": [
            [
             0,
             "#8e0152"
            ],
            [
             0.1,
             "#c51b7d"
            ],
            [
             0.2,
             "#de77ae"
            ],
            [
             0.3,
             "#f1b6da"
            ],
            [
             0.4,
             "#fde0ef"
            ],
            [
             0.5,
             "#f7f7f7"
            ],
            [
             0.6,
             "#e6f5d0"
            ],
            [
             0.7,
             "#b8e186"
            ],
            [
             0.8,
             "#7fbc41"
            ],
            [
             0.9,
             "#4d9221"
            ],
            [
             1,
             "#276419"
            ]
           ],
           "sequential": [
            [
             0,
             "#0d0887"
            ],
            [
             0.1111111111111111,
             "#46039f"
            ],
            [
             0.2222222222222222,
             "#7201a8"
            ],
            [
             0.3333333333333333,
             "#9c179e"
            ],
            [
             0.4444444444444444,
             "#bd3786"
            ],
            [
             0.5555555555555556,
             "#d8576b"
            ],
            [
             0.6666666666666666,
             "#ed7953"
            ],
            [
             0.7777777777777778,
             "#fb9f3a"
            ],
            [
             0.8888888888888888,
             "#fdca26"
            ],
            [
             1,
             "#f0f921"
            ]
           ],
           "sequentialminus": [
            [
             0,
             "#0d0887"
            ],
            [
             0.1111111111111111,
             "#46039f"
            ],
            [
             0.2222222222222222,
             "#7201a8"
            ],
            [
             0.3333333333333333,
             "#9c179e"
            ],
            [
             0.4444444444444444,
             "#bd3786"
            ],
            [
             0.5555555555555556,
             "#d8576b"
            ],
            [
             0.6666666666666666,
             "#ed7953"
            ],
            [
             0.7777777777777778,
             "#fb9f3a"
            ],
            [
             0.8888888888888888,
             "#fdca26"
            ],
            [
             1,
             "#f0f921"
            ]
           ]
          },
          "colorway": [
           "#636efa",
           "#EF553B",
           "#00cc96",
           "#ab63fa",
           "#FFA15A",
           "#19d3f3",
           "#FF6692",
           "#B6E880",
           "#FF97FF",
           "#FECB52"
          ],
          "font": {
           "color": "#2a3f5f"
          },
          "geo": {
           "bgcolor": "white",
           "lakecolor": "white",
           "landcolor": "#E5ECF6",
           "showlakes": true,
           "showland": true,
           "subunitcolor": "white"
          },
          "hoverlabel": {
           "align": "left"
          },
          "hovermode": "closest",
          "mapbox": {
           "style": "light"
          },
          "paper_bgcolor": "white",
          "plot_bgcolor": "#E5ECF6",
          "polar": {
           "angularaxis": {
            "gridcolor": "white",
            "linecolor": "white",
            "ticks": ""
           },
           "bgcolor": "#E5ECF6",
           "radialaxis": {
            "gridcolor": "white",
            "linecolor": "white",
            "ticks": ""
           }
          },
          "scene": {
           "xaxis": {
            "backgroundcolor": "#E5ECF6",
            "gridcolor": "white",
            "gridwidth": 2,
            "linecolor": "white",
            "showbackground": true,
            "ticks": "",
            "zerolinecolor": "white"
           },
           "yaxis": {
            "backgroundcolor": "#E5ECF6",
            "gridcolor": "white",
            "gridwidth": 2,
            "linecolor": "white",
            "showbackground": true,
            "ticks": "",
            "zerolinecolor": "white"
           },
           "zaxis": {
            "backgroundcolor": "#E5ECF6",
            "gridcolor": "white",
            "gridwidth": 2,
            "linecolor": "white",
            "showbackground": true,
            "ticks": "",
            "zerolinecolor": "white"
           }
          },
          "shapedefaults": {
           "line": {
            "color": "#2a3f5f"
           }
          },
          "ternary": {
           "aaxis": {
            "gridcolor": "white",
            "linecolor": "white",
            "ticks": ""
           },
           "baxis": {
            "gridcolor": "white",
            "linecolor": "white",
            "ticks": ""
           },
           "bgcolor": "#E5ECF6",
           "caxis": {
            "gridcolor": "white",
            "linecolor": "white",
            "ticks": ""
           }
          },
          "title": {
           "x": 0.05
          },
          "xaxis": {
           "automargin": true,
           "gridcolor": "white",
           "linecolor": "white",
           "ticks": "",
           "title": {
            "standoff": 15
           },
           "zerolinecolor": "white",
           "zerolinewidth": 2
          },
          "yaxis": {
           "automargin": true,
           "gridcolor": "white",
           "linecolor": "white",
           "ticks": "",
           "title": {
            "standoff": 15
           },
           "zerolinecolor": "white",
           "zerolinewidth": 2
          }
         }
        },
        "title": {
         "text": "Embedding Visualization (TSNE)"
        },
        "xaxis": {
         "title": {
          "text": "Dimension 1"
         }
        },
        "yaxis": {
         "title": {
          "text": "Dimension 2"
         }
        }
       }
      }
     },
     "metadata": {},
     "output_type": "display_data"
    }
   ],
   "source": [
    "model1.plot_word(model1.k_Nearest('война', nearest_count, use_cosine=True))"
   ]
  },
  {
   "cell_type": "code",
   "execution_count": 5,
   "metadata": {},
   "outputs": [
    {
     "data": {
      "application/vnd.plotly.v1+json": {
       "config": {
        "plotlyServerURL": "https://plot.ly"
       },
       "data": [
        {
         "mode": "markers+text",
         "name": "мир",
         "text": [
          "мир"
         ],
         "textposition": "bottom center",
         "type": "scatter",
         "x": [
          11.195268630981445
         ],
         "y": [
          -24.26833724975586
         ]
        },
        {
         "mode": "markers+text",
         "name": "владимир",
         "text": [
          "владимир"
         ],
         "textposition": "bottom center",
         "type": "scatter",
         "x": [
          -3.3443355560302734
         ],
         "y": [
          -5.405264854431152
         ]
        },
        {
         "mode": "markers+text",
         "name": "мирно",
         "text": [
          "мирно"
         ],
         "textposition": "bottom center",
         "type": "scatter",
         "x": [
          2.5555691719055176
         ],
         "y": [
          47.569515228271484
         ]
        },
        {
         "mode": "markers+text",
         "name": "несчастия",
         "text": [
          "несчастия"
         ],
         "textposition": "bottom center",
         "type": "scatter",
         "x": [
          9.252864837646484
         ],
         "y": [
          -22.966678619384766
         ]
        },
        {
         "mode": "markers+text",
         "name": "целой",
         "text": [
          "целой"
         ],
         "textposition": "bottom center",
         "type": "scatter",
         "x": [
          -24.894094467163086
         ],
         "y": [
          -6.72605037689209
         ]
        },
        {
         "mode": "markers+text",
         "name": "смир",
         "text": [
          "смир"
         ],
         "textposition": "bottom center",
         "type": "scatter",
         "x": [
          2.580146551132202
         ],
         "y": [
          -7.046077251434326
         ]
        },
        {
         "mode": "markers+text",
         "name": "раскрыл",
         "text": [
          "раскрыл"
         ],
         "textposition": "bottom center",
         "type": "scatter",
         "x": [
          -24.76158905029297
         ],
         "y": [
          -32.71129608154297
         ]
        },
        {
         "mode": "markers+text",
         "name": "мирной",
         "text": [
          "мирной"
         ],
         "textposition": "bottom center",
         "type": "scatter",
         "x": [
          3.39561128616333
         ],
         "y": [
          46.79967498779297
         ]
        },
        {
         "mode": "markers+text",
         "name": "мира",
         "text": [
          "мира"
         ],
         "textposition": "bottom center",
         "type": "scatter",
         "x": [
          15.741801261901855
         ],
         "y": [
          14.4204683303833
         ]
        },
        {
         "mode": "markers+text",
         "name": "выпью",
         "text": [
          "выпью"
         ],
         "textposition": "bottom center",
         "type": "scatter",
         "x": [
          7.244572162628174
         ],
         "y": [
          -24.275924682617188
         ]
        },
        {
         "mode": "markers+text",
         "name": "дормир",
         "text": [
          "дормир"
         ],
         "textposition": "bottom center",
         "type": "scatter",
         "x": [
          8.3146390914917
         ],
         "y": [
          2.7725324630737305
         ]
        },
        {
         "mode": "markers+text",
         "name": "расположенного",
         "text": [
          "расположенного"
         ],
         "textposition": "bottom center",
         "type": "scatter",
         "x": [
          12.568292617797852
         ],
         "y": [
          8.379057884216309
         ]
        },
        {
         "mode": "markers+text",
         "name": "приезжая",
         "text": [
          "приезжая"
         ],
         "textposition": "bottom center",
         "type": "scatter",
         "x": [
          -10.099063873291016
         ],
         "y": [
          -10.021080017089844
         ]
        },
        {
         "mode": "markers+text",
         "name": "морозов",
         "text": [
          "морозов"
         ],
         "textposition": "bottom center",
         "type": "scatter",
         "x": [
          -12.704233169555664
         ],
         "y": [
          2.0117502212524414
         ]
        },
        {
         "mode": "markers+text",
         "name": "андрея",
         "text": [
          "андрея"
         ],
         "textposition": "bottom center",
         "type": "scatter",
         "x": [
          -12.434601783752441
         ],
         "y": [
          -15.432421684265137
         ]
        },
        {
         "mode": "markers+text",
         "name": "несчастиях",
         "text": [
          "несчастиях"
         ],
         "textposition": "bottom center",
         "type": "scatter",
         "x": [
          9.263232231140137
         ],
         "y": [
          -21.895854949951172
         ]
        },
        {
         "mode": "markers+text",
         "name": "модных",
         "text": [
          "модных"
         ],
         "textposition": "bottom center",
         "type": "scatter",
         "x": [
          19.215986251831055
         ],
         "y": [
          0.3486115336418152
         ]
        },
        {
         "mode": "markers+text",
         "name": "бедных",
         "text": [
          "бедных"
         ],
         "textposition": "bottom center",
         "type": "scatter",
         "x": [
          21.416217803955078
         ],
         "y": [
          3.0494558811187744
         ]
        },
        {
         "mode": "markers+text",
         "name": "взятия",
         "text": [
          "взятия"
         ],
         "textposition": "bottom center",
         "type": "scatter",
         "x": [
          -13.81821060180664
         ],
         "y": [
          -18.58974266052246
         ]
        },
        {
         "mode": "markers+text",
         "name": "миром",
         "text": [
          "миром"
         ],
         "textposition": "bottom center",
         "type": "scatter",
         "x": [
          -18.000614166259766
         ],
         "y": [
          -10.505607604980469
         ]
        },
        {
         "mode": "markers+text",
         "name": "успокоивалась",
         "text": [
          "успокоивалась"
         ],
         "textposition": "bottom center",
         "type": "scatter",
         "x": [
          -54.41569137573242
         ],
         "y": [
          6.176478862762451
         ]
        },
        {
         "mode": "markers+text",
         "name": "раскрылись",
         "text": [
          "раскрылись"
         ],
         "textposition": "bottom center",
         "type": "scatter",
         "x": [
          -24.4677791595459
         ],
         "y": [
          -31.83969497680664
         ]
        },
        {
         "mode": "markers+text",
         "name": "искры",
         "text": [
          "искры"
         ],
         "textposition": "bottom center",
         "type": "scatter",
         "x": [
          13.642101287841797
         ],
         "y": [
          4.841491222381592
         ]
        },
        {
         "mode": "markers+text",
         "name": "располагался",
         "text": [
          "располагался"
         ],
         "textposition": "bottom center",
         "type": "scatter",
         "x": [
          16.018943786621094
         ],
         "y": [
          10.693021774291992
         ]
        },
        {
         "mode": "markers+text",
         "name": "отеческие",
         "text": [
          "отеческие"
         ],
         "textposition": "bottom center",
         "type": "scatter",
         "x": [
          24.93872833251953
         ],
         "y": [
          35.65548324584961
         ]
        },
        {
         "mode": "markers+text",
         "name": "удовольствием",
         "text": [
          "удовольствием"
         ],
         "textposition": "bottom center",
         "type": "scatter",
         "x": [
          -25.991844177246094
         ],
         "y": [
          -3.3703670501708984
         ]
        },
        {
         "mode": "markers+text",
         "name": "двигался",
         "text": [
          "двигался"
         ],
         "textposition": "bottom center",
         "type": "scatter",
         "x": [
          33.605430603027344
         ],
         "y": [
          -5.520831108093262
         ]
        },
        {
         "mode": "markers+text",
         "name": "мирное",
         "text": [
          "мирное"
         ],
         "textposition": "bottom center",
         "type": "scatter",
         "x": [
          3.3519861698150635
         ],
         "y": [
          48.77737808227539
         ]
        },
        {
         "mode": "markers+text",
         "name": "мирных",
         "text": [
          "мирных"
         ],
         "textposition": "bottom center",
         "type": "scatter",
         "x": [
          12.473752975463867
         ],
         "y": [
          16.997045516967773
         ]
        },
        {
         "mode": "markers+text",
         "name": "королями",
         "text": [
          "королями"
         ],
         "textposition": "bottom center",
         "type": "scatter",
         "x": [
          -56.51880645751953
         ],
         "y": [
          0.8987021446228027
         ]
        },
        {
         "mode": "markers+text",
         "name": "присутствием",
         "text": [
          "присутствием"
         ],
         "textposition": "bottom center",
         "type": "scatter",
         "x": [
          -27.0582275390625
         ],
         "y": [
          -3.990020751953125
         ]
        },
        {
         "mode": "markers+text",
         "name": "афишами",
         "text": [
          "афишами"
         ],
         "textposition": "bottom center",
         "type": "scatter",
         "x": [
          -5.038825988769531
         ],
         "y": [
          4.685441970825195
         ]
        },
        {
         "mode": "markers+text",
         "name": "медленное",
         "text": [
          "медленное"
         ],
         "textposition": "bottom center",
         "type": "scatter",
         "x": [
          30.020366668701172
         ],
         "y": [
          -36.784934997558594
         ]
        },
        {
         "mode": "markers+text",
         "name": "мирились",
         "text": [
          "мирились"
         ],
         "textposition": "bottom center",
         "type": "scatter",
         "x": [
          -2.117518663406372
         ],
         "y": [
          2.6010985374450684
         ]
        },
        {
         "mode": "markers+text",
         "name": "танцующим",
         "text": [
          "танцующим"
         ],
         "textposition": "bottom center",
         "type": "scatter",
         "x": [
          -22.286182403564453
         ],
         "y": [
          0.4093034565448761
         ]
        },
        {
         "mode": "markers+text",
         "name": "стороны",
         "text": [
          "стороны"
         ],
         "textposition": "bottom center",
         "type": "scatter",
         "x": [
          7.344000816345215
         ],
         "y": [
          14.496662139892578
         ]
        },
        {
         "mode": "markers+text",
         "name": "расположен",
         "text": [
          "расположен"
         ],
         "textposition": "bottom center",
         "type": "scatter",
         "x": [
          11.351981163024902
         ],
         "y": [
          13.911375045776367
         ]
        },
        {
         "mode": "markers+text",
         "name": "сообщая",
         "text": [
          "сообщая"
         ],
         "textposition": "bottom center",
         "type": "scatter",
         "x": [
          -13.398696899414062
         ],
         "y": [
          -11.20590591430664
         ]
        },
        {
         "mode": "markers+text",
         "name": "приходом",
         "text": [
          "приходом"
         ],
         "textposition": "bottom center",
         "type": "scatter",
         "x": [
          37.46461868286133
         ],
         "y": [
          14.31815242767334
         ]
        },
        {
         "mode": "markers+text",
         "name": "медленным",
         "text": [
          "медленным"
         ],
         "textposition": "bottom center",
         "type": "scatter",
         "x": [
          29.738107681274414
         ],
         "y": [
          -38.19662857055664
         ]
        },
        {
         "mode": "markers+text",
         "name": "определенного",
         "text": [
          "определенного"
         ],
         "textposition": "bottom center",
         "type": "scatter",
         "x": [
          -3.7763171195983887
         ],
         "y": [
          -3.333921432495117
         ]
        },
        {
         "mode": "markers+text",
         "name": "трудного",
         "text": [
          "трудного"
         ],
         "textposition": "bottom center",
         "type": "scatter",
         "x": [
          1.2519605159759521
         ],
         "y": [
          2.826169967651367
         ]
        },
        {
         "mode": "markers+text",
         "name": "уступленный",
         "text": [
          "уступленный"
         ],
         "textposition": "bottom center",
         "type": "scatter",
         "x": [
          -5.862157344818115
         ],
         "y": [
          -0.3944881558418274
         ]
        },
        {
         "mode": "markers+text",
         "name": "наслажденье",
         "text": [
          "наслажденье"
         ],
         "textposition": "bottom center",
         "type": "scatter",
         "x": [
          -25.95338249206543
         ],
         "y": [
          -0.9906608462333679
         ]
        },
        {
         "mode": "markers+text",
         "name": "отсутствием",
         "text": [
          "отсутствием"
         ],
         "textposition": "bottom center",
         "type": "scatter",
         "x": [
          -28.701919555664062
         ],
         "y": [
          -5.366001129150391
         ]
        },
        {
         "mode": "markers+text",
         "name": "посмотрев",
         "text": [
          "посмотрев"
         ],
         "textposition": "bottom center",
         "type": "scatter",
         "x": [
          20.791900634765625
         ],
         "y": [
          19.009418487548828
         ]
        },
        {
         "mode": "markers+text",
         "name": "холодных",
         "text": [
          "холодных"
         ],
         "textposition": "bottom center",
         "type": "scatter",
         "x": [
          19.77011489868164
         ],
         "y": [
          2.1598031520843506
         ]
        },
        {
         "mode": "markers+text",
         "name": "болконский",
         "text": [
          "болконский"
         ],
         "textposition": "bottom center",
         "type": "scatter",
         "x": [
          -12.791221618652344
         ],
         "y": [
          -13.414926528930664
         ]
        },
        {
         "mode": "markers+text",
         "name": "восторгался",
         "text": [
          "восторгался"
         ],
         "textposition": "bottom center",
         "type": "scatter",
         "x": [
          11.227056503295898
         ],
         "y": [
          6.927078723907471
         ]
        },
        {
         "mode": "markers+text",
         "name": "смотрах",
         "text": [
          "смотрах"
         ],
         "textposition": "bottom center",
         "type": "scatter",
         "x": [
          -7.287095546722412
         ],
         "y": [
          -19.050676345825195
         ]
        },
        {
         "mode": "markers+text",
         "name": "обыкновенного",
         "text": [
          "обыкновенного"
         ],
         "textposition": "bottom center",
         "type": "scatter",
         "x": [
          -1.912617564201355
         ],
         "y": [
          0.5948494076728821
         ]
        },
        {
         "mode": "markers+text",
         "name": "отечески",
         "text": [
          "отечески"
         ],
         "textposition": "bottom center",
         "type": "scatter",
         "x": [
          23.951244354248047
         ],
         "y": [
          36.857086181640625
         ]
        },
        {
         "mode": "markers+text",
         "name": "славившийся",
         "text": [
          "славившийся"
         ],
         "textposition": "bottom center",
         "type": "scatter",
         "x": [
          -23.601221084594727
         ],
         "y": [
          -3.481579542160034
         ]
        },
        {
         "mode": "markers+text",
         "name": "расположенным",
         "text": [
          "расположенным"
         ],
         "textposition": "bottom center",
         "type": "scatter",
         "x": [
          12.796509742736816
         ],
         "y": [
          12.56275463104248
         ]
        },
        {
         "mode": "markers+text",
         "name": "расположенный",
         "text": [
          "расположенный"
         ],
         "textposition": "bottom center",
         "type": "scatter",
         "x": [
          14.55471420288086
         ],
         "y": [
          12.36008071899414
         ]
        },
        {
         "mode": "markers+text",
         "name": "посмеивались",
         "text": [
          "посмеивались"
         ],
         "textposition": "bottom center",
         "type": "scatter",
         "x": [
          -13.611438751220703
         ],
         "y": [
          -2.3205180168151855
         ]
        },
        {
         "mode": "markers+text",
         "name": "медленности",
         "text": [
          "медленности"
         ],
         "textposition": "bottom center",
         "type": "scatter",
         "x": [
          28.70840835571289
         ],
         "y": [
          -36.99419403076172
         ]
        },
        {
         "mode": "markers+text",
         "name": "примерах",
         "text": [
          "примерах"
         ],
         "textposition": "bottom center",
         "type": "scatter",
         "x": [
          -29.32184600830078
         ],
         "y": [
          -1.672468662261963
         ]
        },
        {
         "mode": "markers+text",
         "name": "составленного",
         "text": [
          "составленного"
         ],
         "textposition": "bottom center",
         "type": "scatter",
         "x": [
          -4.386895656585693
         ],
         "y": [
          -2.1718859672546387
         ]
        },
        {
         "mode": "markers+text",
         "name": "переносили",
         "text": [
          "переносили"
         ],
         "textposition": "bottom center",
         "type": "scatter",
         "x": [
          14.574700355529785
         ],
         "y": [
          7.830639362335205
         ]
        },
        {
         "mode": "markers+text",
         "name": "явленного",
         "text": [
          "явленного"
         ],
         "textposition": "bottom center",
         "type": "scatter",
         "x": [
          -6.653494358062744
         ],
         "y": [
          -3.4803380966186523
         ]
        },
        {
         "mode": "markers+text",
         "name": "воздвигался",
         "text": [
          "воздвигался"
         ],
         "textposition": "bottom center",
         "type": "scatter",
         "x": [
          34.29991149902344
         ],
         "y": [
          -6.112318515777588
         ]
        },
        {
         "mode": "markers+text",
         "name": "глиссадом",
         "text": [
          "глиссадом"
         ],
         "textposition": "bottom center",
         "type": "scatter",
         "x": [
          10.77069091796875
         ],
         "y": [
          10.406922340393066
         ]
        },
        {
         "mode": "markers+text",
         "name": "оскорбило",
         "text": [
          "оскорбило"
         ],
         "textposition": "bottom center",
         "type": "scatter",
         "x": [
          -10.418683052062988
         ],
         "y": [
          -13.313156127929688
         ]
        },
        {
         "mode": "markers+text",
         "name": "фомы",
         "text": [
          "фомы"
         ],
         "textposition": "bottom center",
         "type": "scatter",
         "x": [
          -18.141645431518555
         ],
         "y": [
          -16.412904739379883
         ]
        },
        {
         "mode": "markers+text",
         "name": "успокоивали",
         "text": [
          "успокоивали"
         ],
         "textposition": "bottom center",
         "type": "scatter",
         "x": [
          -53.67496109008789
         ],
         "y": [
          6.954492092132568
         ]
        },
        {
         "mode": "markers+text",
         "name": "обобщается",
         "text": [
          "обобщается"
         ],
         "textposition": "bottom center",
         "type": "scatter",
         "x": [
          -15.004271507263184
         ],
         "y": [
          -13.756840705871582
         ]
        },
        {
         "mode": "markers+text",
         "name": "рублями",
         "text": [
          "рублями"
         ],
         "textposition": "bottom center",
         "type": "scatter",
         "x": [
          -55.71515655517578
         ],
         "y": [
          3.681943893432617
         ]
        },
        {
         "mode": "markers+text",
         "name": "голосом",
         "text": [
          "голосом"
         ],
         "textposition": "bottom center",
         "type": "scatter",
         "x": [
          -8.577962875366211
         ],
         "y": [
          -17.566762924194336
         ]
        },
        {
         "mode": "markers+text",
         "name": "отеческим",
         "text": [
          "отеческим"
         ],
         "textposition": "bottom center",
         "type": "scatter",
         "x": [
          23.902103424072266
         ],
         "y": [
          35.000701904296875
         ]
        },
        {
         "mode": "markers+text",
         "name": "plusieurs",
         "text": [
          "plusieurs"
         ],
         "textposition": "bottom center",
         "type": "scatter",
         "x": [
          18.76449966430664
         ],
         "y": [
          12.476855278015137
         ]
        },
        {
         "mode": "markers+text",
         "name": "разговаривавшими",
         "text": [
          "разговаривавшими"
         ],
         "textposition": "bottom center",
         "type": "scatter",
         "x": [
          -13.799849510192871
         ],
         "y": [
          0.306571900844574
         ]
        },
        {
         "mode": "markers+text",
         "name": "смотревшего",
         "text": [
          "смотревшего"
         ],
         "textposition": "bottom center",
         "type": "scatter",
         "x": [
          19.629262924194336
         ],
         "y": [
          17.722213745117188
         ]
        },
        {
         "mode": "markers+text",
         "name": "превышает",
         "text": [
          "превышает"
         ],
         "textposition": "bottom center",
         "type": "scatter",
         "x": [
          -0.19585023820400238
         ],
         "y": [
          -0.5056834816932678
         ]
        },
        {
         "mode": "markers+text",
         "name": "успокоиваете",
         "text": [
          "успокоиваете"
         ],
         "textposition": "bottom center",
         "type": "scatter",
         "x": [
          -54.32351303100586
         ],
         "y": [
          8.497655868530273
         ]
        },
        {
         "mode": "markers+text",
         "name": "ролями",
         "text": [
          "ролями"
         ],
         "textposition": "bottom center",
         "type": "scatter",
         "x": [
          -56.829681396484375
         ],
         "y": [
          -0.12116371095180511
         ]
        },
        {
         "mode": "markers+text",
         "name": "примеривания",
         "text": [
          "примеривания"
         ],
         "textposition": "bottom center",
         "type": "scatter",
         "x": [
          7.746921539306641
         ],
         "y": [
          7.8515472412109375
         ]
        },
        {
         "mode": "markers+text",
         "name": "столпившегося",
         "text": [
          "столпившегося"
         ],
         "textposition": "bottom center",
         "type": "scatter",
         "x": [
          1.183311104774475
         ],
         "y": [
          -5.9104838371276855
         ]
        },
        {
         "mode": "markers+text",
         "name": "трубку",
         "text": [
          "трубку"
         ],
         "textposition": "bottom center",
         "type": "scatter",
         "x": [
          -15.97256088256836
         ],
         "y": [
          0.8856102824211121
         ]
        },
        {
         "mode": "markers+text",
         "name": "походом",
         "text": [
          "походом"
         ],
         "textposition": "bottom center",
         "type": "scatter",
         "x": [
          38.29901885986328
         ],
         "y": [
          14.681001663208008
         ]
        },
        {
         "mode": "markers+text",
         "name": "лентою",
         "text": [
          "лентою"
         ],
         "textposition": "bottom center",
         "type": "scatter",
         "x": [
          22.44808006286621
         ],
         "y": [
          32.515506744384766
         ]
        }
       ],
       "layout": {
        "template": {
         "data": {
          "bar": [
           {
            "error_x": {
             "color": "#2a3f5f"
            },
            "error_y": {
             "color": "#2a3f5f"
            },
            "marker": {
             "line": {
              "color": "#E5ECF6",
              "width": 0.5
             },
             "pattern": {
              "fillmode": "overlay",
              "size": 10,
              "solidity": 0.2
             }
            },
            "type": "bar"
           }
          ],
          "barpolar": [
           {
            "marker": {
             "line": {
              "color": "#E5ECF6",
              "width": 0.5
             },
             "pattern": {
              "fillmode": "overlay",
              "size": 10,
              "solidity": 0.2
             }
            },
            "type": "barpolar"
           }
          ],
          "carpet": [
           {
            "aaxis": {
             "endlinecolor": "#2a3f5f",
             "gridcolor": "white",
             "linecolor": "white",
             "minorgridcolor": "white",
             "startlinecolor": "#2a3f5f"
            },
            "baxis": {
             "endlinecolor": "#2a3f5f",
             "gridcolor": "white",
             "linecolor": "white",
             "minorgridcolor": "white",
             "startlinecolor": "#2a3f5f"
            },
            "type": "carpet"
           }
          ],
          "choropleth": [
           {
            "colorbar": {
             "outlinewidth": 0,
             "ticks": ""
            },
            "type": "choropleth"
           }
          ],
          "contour": [
           {
            "colorbar": {
             "outlinewidth": 0,
             "ticks": ""
            },
            "colorscale": [
             [
              0,
              "#0d0887"
             ],
             [
              0.1111111111111111,
              "#46039f"
             ],
             [
              0.2222222222222222,
              "#7201a8"
             ],
             [
              0.3333333333333333,
              "#9c179e"
             ],
             [
              0.4444444444444444,
              "#bd3786"
             ],
             [
              0.5555555555555556,
              "#d8576b"
             ],
             [
              0.6666666666666666,
              "#ed7953"
             ],
             [
              0.7777777777777778,
              "#fb9f3a"
             ],
             [
              0.8888888888888888,
              "#fdca26"
             ],
             [
              1,
              "#f0f921"
             ]
            ],
            "type": "contour"
           }
          ],
          "contourcarpet": [
           {
            "colorbar": {
             "outlinewidth": 0,
             "ticks": ""
            },
            "type": "contourcarpet"
           }
          ],
          "heatmap": [
           {
            "colorbar": {
             "outlinewidth": 0,
             "ticks": ""
            },
            "colorscale": [
             [
              0,
              "#0d0887"
             ],
             [
              0.1111111111111111,
              "#46039f"
             ],
             [
              0.2222222222222222,
              "#7201a8"
             ],
             [
              0.3333333333333333,
              "#9c179e"
             ],
             [
              0.4444444444444444,
              "#bd3786"
             ],
             [
              0.5555555555555556,
              "#d8576b"
             ],
             [
              0.6666666666666666,
              "#ed7953"
             ],
             [
              0.7777777777777778,
              "#fb9f3a"
             ],
             [
              0.8888888888888888,
              "#fdca26"
             ],
             [
              1,
              "#f0f921"
             ]
            ],
            "type": "heatmap"
           }
          ],
          "heatmapgl": [
           {
            "colorbar": {
             "outlinewidth": 0,
             "ticks": ""
            },
            "colorscale": [
             [
              0,
              "#0d0887"
             ],
             [
              0.1111111111111111,
              "#46039f"
             ],
             [
              0.2222222222222222,
              "#7201a8"
             ],
             [
              0.3333333333333333,
              "#9c179e"
             ],
             [
              0.4444444444444444,
              "#bd3786"
             ],
             [
              0.5555555555555556,
              "#d8576b"
             ],
             [
              0.6666666666666666,
              "#ed7953"
             ],
             [
              0.7777777777777778,
              "#fb9f3a"
             ],
             [
              0.8888888888888888,
              "#fdca26"
             ],
             [
              1,
              "#f0f921"
             ]
            ],
            "type": "heatmapgl"
           }
          ],
          "histogram": [
           {
            "marker": {
             "pattern": {
              "fillmode": "overlay",
              "size": 10,
              "solidity": 0.2
             }
            },
            "type": "histogram"
           }
          ],
          "histogram2d": [
           {
            "colorbar": {
             "outlinewidth": 0,
             "ticks": ""
            },
            "colorscale": [
             [
              0,
              "#0d0887"
             ],
             [
              0.1111111111111111,
              "#46039f"
             ],
             [
              0.2222222222222222,
              "#7201a8"
             ],
             [
              0.3333333333333333,
              "#9c179e"
             ],
             [
              0.4444444444444444,
              "#bd3786"
             ],
             [
              0.5555555555555556,
              "#d8576b"
             ],
             [
              0.6666666666666666,
              "#ed7953"
             ],
             [
              0.7777777777777778,
              "#fb9f3a"
             ],
             [
              0.8888888888888888,
              "#fdca26"
             ],
             [
              1,
              "#f0f921"
             ]
            ],
            "type": "histogram2d"
           }
          ],
          "histogram2dcontour": [
           {
            "colorbar": {
             "outlinewidth": 0,
             "ticks": ""
            },
            "colorscale": [
             [
              0,
              "#0d0887"
             ],
             [
              0.1111111111111111,
              "#46039f"
             ],
             [
              0.2222222222222222,
              "#7201a8"
             ],
             [
              0.3333333333333333,
              "#9c179e"
             ],
             [
              0.4444444444444444,
              "#bd3786"
             ],
             [
              0.5555555555555556,
              "#d8576b"
             ],
             [
              0.6666666666666666,
              "#ed7953"
             ],
             [
              0.7777777777777778,
              "#fb9f3a"
             ],
             [
              0.8888888888888888,
              "#fdca26"
             ],
             [
              1,
              "#f0f921"
             ]
            ],
            "type": "histogram2dcontour"
           }
          ],
          "mesh3d": [
           {
            "colorbar": {
             "outlinewidth": 0,
             "ticks": ""
            },
            "type": "mesh3d"
           }
          ],
          "parcoords": [
           {
            "line": {
             "colorbar": {
              "outlinewidth": 0,
              "ticks": ""
             }
            },
            "type": "parcoords"
           }
          ],
          "pie": [
           {
            "automargin": true,
            "type": "pie"
           }
          ],
          "scatter": [
           {
            "fillpattern": {
             "fillmode": "overlay",
             "size": 10,
             "solidity": 0.2
            },
            "type": "scatter"
           }
          ],
          "scatter3d": [
           {
            "line": {
             "colorbar": {
              "outlinewidth": 0,
              "ticks": ""
             }
            },
            "marker": {
             "colorbar": {
              "outlinewidth": 0,
              "ticks": ""
             }
            },
            "type": "scatter3d"
           }
          ],
          "scattercarpet": [
           {
            "marker": {
             "colorbar": {
              "outlinewidth": 0,
              "ticks": ""
             }
            },
            "type": "scattercarpet"
           }
          ],
          "scattergeo": [
           {
            "marker": {
             "colorbar": {
              "outlinewidth": 0,
              "ticks": ""
             }
            },
            "type": "scattergeo"
           }
          ],
          "scattergl": [
           {
            "marker": {
             "colorbar": {
              "outlinewidth": 0,
              "ticks": ""
             }
            },
            "type": "scattergl"
           }
          ],
          "scattermapbox": [
           {
            "marker": {
             "colorbar": {
              "outlinewidth": 0,
              "ticks": ""
             }
            },
            "type": "scattermapbox"
           }
          ],
          "scatterpolar": [
           {
            "marker": {
             "colorbar": {
              "outlinewidth": 0,
              "ticks": ""
             }
            },
            "type": "scatterpolar"
           }
          ],
          "scatterpolargl": [
           {
            "marker": {
             "colorbar": {
              "outlinewidth": 0,
              "ticks": ""
             }
            },
            "type": "scatterpolargl"
           }
          ],
          "scatterternary": [
           {
            "marker": {
             "colorbar": {
              "outlinewidth": 0,
              "ticks": ""
             }
            },
            "type": "scatterternary"
           }
          ],
          "surface": [
           {
            "colorbar": {
             "outlinewidth": 0,
             "ticks": ""
            },
            "colorscale": [
             [
              0,
              "#0d0887"
             ],
             [
              0.1111111111111111,
              "#46039f"
             ],
             [
              0.2222222222222222,
              "#7201a8"
             ],
             [
              0.3333333333333333,
              "#9c179e"
             ],
             [
              0.4444444444444444,
              "#bd3786"
             ],
             [
              0.5555555555555556,
              "#d8576b"
             ],
             [
              0.6666666666666666,
              "#ed7953"
             ],
             [
              0.7777777777777778,
              "#fb9f3a"
             ],
             [
              0.8888888888888888,
              "#fdca26"
             ],
             [
              1,
              "#f0f921"
             ]
            ],
            "type": "surface"
           }
          ],
          "table": [
           {
            "cells": {
             "fill": {
              "color": "#EBF0F8"
             },
             "line": {
              "color": "white"
             }
            },
            "header": {
             "fill": {
              "color": "#C8D4E3"
             },
             "line": {
              "color": "white"
             }
            },
            "type": "table"
           }
          ]
         },
         "layout": {
          "annotationdefaults": {
           "arrowcolor": "#2a3f5f",
           "arrowhead": 0,
           "arrowwidth": 1
          },
          "autotypenumbers": "strict",
          "coloraxis": {
           "colorbar": {
            "outlinewidth": 0,
            "ticks": ""
           }
          },
          "colorscale": {
           "diverging": [
            [
             0,
             "#8e0152"
            ],
            [
             0.1,
             "#c51b7d"
            ],
            [
             0.2,
             "#de77ae"
            ],
            [
             0.3,
             "#f1b6da"
            ],
            [
             0.4,
             "#fde0ef"
            ],
            [
             0.5,
             "#f7f7f7"
            ],
            [
             0.6,
             "#e6f5d0"
            ],
            [
             0.7,
             "#b8e186"
            ],
            [
             0.8,
             "#7fbc41"
            ],
            [
             0.9,
             "#4d9221"
            ],
            [
             1,
             "#276419"
            ]
           ],
           "sequential": [
            [
             0,
             "#0d0887"
            ],
            [
             0.1111111111111111,
             "#46039f"
            ],
            [
             0.2222222222222222,
             "#7201a8"
            ],
            [
             0.3333333333333333,
             "#9c179e"
            ],
            [
             0.4444444444444444,
             "#bd3786"
            ],
            [
             0.5555555555555556,
             "#d8576b"
            ],
            [
             0.6666666666666666,
             "#ed7953"
            ],
            [
             0.7777777777777778,
             "#fb9f3a"
            ],
            [
             0.8888888888888888,
             "#fdca26"
            ],
            [
             1,
             "#f0f921"
            ]
           ],
           "sequentialminus": [
            [
             0,
             "#0d0887"
            ],
            [
             0.1111111111111111,
             "#46039f"
            ],
            [
             0.2222222222222222,
             "#7201a8"
            ],
            [
             0.3333333333333333,
             "#9c179e"
            ],
            [
             0.4444444444444444,
             "#bd3786"
            ],
            [
             0.5555555555555556,
             "#d8576b"
            ],
            [
             0.6666666666666666,
             "#ed7953"
            ],
            [
             0.7777777777777778,
             "#fb9f3a"
            ],
            [
             0.8888888888888888,
             "#fdca26"
            ],
            [
             1,
             "#f0f921"
            ]
           ]
          },
          "colorway": [
           "#636efa",
           "#EF553B",
           "#00cc96",
           "#ab63fa",
           "#FFA15A",
           "#19d3f3",
           "#FF6692",
           "#B6E880",
           "#FF97FF",
           "#FECB52"
          ],
          "font": {
           "color": "#2a3f5f"
          },
          "geo": {
           "bgcolor": "white",
           "lakecolor": "white",
           "landcolor": "#E5ECF6",
           "showlakes": true,
           "showland": true,
           "subunitcolor": "white"
          },
          "hoverlabel": {
           "align": "left"
          },
          "hovermode": "closest",
          "mapbox": {
           "style": "light"
          },
          "paper_bgcolor": "white",
          "plot_bgcolor": "#E5ECF6",
          "polar": {
           "angularaxis": {
            "gridcolor": "white",
            "linecolor": "white",
            "ticks": ""
           },
           "bgcolor": "#E5ECF6",
           "radialaxis": {
            "gridcolor": "white",
            "linecolor": "white",
            "ticks": ""
           }
          },
          "scene": {
           "xaxis": {
            "backgroundcolor": "#E5ECF6",
            "gridcolor": "white",
            "gridwidth": 2,
            "linecolor": "white",
            "showbackground": true,
            "ticks": "",
            "zerolinecolor": "white"
           },
           "yaxis": {
            "backgroundcolor": "#E5ECF6",
            "gridcolor": "white",
            "gridwidth": 2,
            "linecolor": "white",
            "showbackground": true,
            "ticks": "",
            "zerolinecolor": "white"
           },
           "zaxis": {
            "backgroundcolor": "#E5ECF6",
            "gridcolor": "white",
            "gridwidth": 2,
            "linecolor": "white",
            "showbackground": true,
            "ticks": "",
            "zerolinecolor": "white"
           }
          },
          "shapedefaults": {
           "line": {
            "color": "#2a3f5f"
           }
          },
          "ternary": {
           "aaxis": {
            "gridcolor": "white",
            "linecolor": "white",
            "ticks": ""
           },
           "baxis": {
            "gridcolor": "white",
            "linecolor": "white",
            "ticks": ""
           },
           "bgcolor": "#E5ECF6",
           "caxis": {
            "gridcolor": "white",
            "linecolor": "white",
            "ticks": ""
           }
          },
          "title": {
           "x": 0.05
          },
          "xaxis": {
           "automargin": true,
           "gridcolor": "white",
           "linecolor": "white",
           "ticks": "",
           "title": {
            "standoff": 15
           },
           "zerolinecolor": "white",
           "zerolinewidth": 2
          },
          "yaxis": {
           "automargin": true,
           "gridcolor": "white",
           "linecolor": "white",
           "ticks": "",
           "title": {
            "standoff": 15
           },
           "zerolinecolor": "white",
           "zerolinewidth": 2
          }
         }
        },
        "title": {
         "text": "Embedding Visualization (TSNE)"
        },
        "xaxis": {
         "title": {
          "text": "Dimension 1"
         }
        },
        "yaxis": {
         "title": {
          "text": "Dimension 2"
         }
        }
       }
      }
     },
     "metadata": {},
     "output_type": "display_data"
    }
   ],
   "source": [
    "model1.plot_word(model1.k_Nearest('мир', nearest_count, use_cosine=True))"
   ]
  }
 ],
 "metadata": {
  "kernelspec": {
   "display_name": "Python 3",
   "language": "python",
   "name": "python3"
  },
  "language_info": {
   "codemirror_mode": {
    "name": "ipython",
    "version": 3
   },
   "file_extension": ".py",
   "mimetype": "text/x-python",
   "name": "python",
   "nbconvert_exporter": "python",
   "pygments_lexer": "ipython3",
   "version": "3.10.12"
  }
 },
 "nbformat": 4,
 "nbformat_minor": 2
}
