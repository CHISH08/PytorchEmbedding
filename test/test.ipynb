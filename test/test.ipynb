{
 "cells": [
  {
   "cell_type": "code",
   "execution_count": 1,
   "metadata": {},
   "outputs": [],
   "source": [
    "import torch"
   ]
  },
  {
   "cell_type": "code",
   "execution_count": 121,
   "metadata": {},
   "outputs": [],
   "source": [
    "def build_cooccurrence_matrix(ws, tokens):\n",
    "    words = max(tokens) + 1\n",
    "    cooccurrence_matrix = torch.zeros((words, words), dtype=torch.int64)\n",
    "    tokens_tensor = torch.tensor(tokens, dtype=torch.int64)\n",
    "\n",
    "    for i in range(len(tokens)):\n",
    "        start = max(0, i - ws)\n",
    "        end = min(len(tokens), i + ws + 1)\n",
    "\n",
    "        context_tokens = torch.cat((tokens_tensor[start:i], tokens_tensor[i+1:end]))\n",
    "        target_token = tokens_tensor[i]\n",
    "\n",
    "        cooccurrence_matrix[target_token].index_add_(0, context_tokens, torch.ones_like(context_tokens, dtype=torch.int64))\n",
    "\n",
    "    return cooccurrence_matrix"
   ]
  },
  {
   "cell_type": "code",
   "execution_count": 122,
   "metadata": {},
   "outputs": [
    {
     "name": "stdout",
     "output_type": "stream",
     "text": [
      "tensor([[2, 3, 1, 1, 1],\n",
      "        [3, 0, 1, 1, 1],\n",
      "        [1, 1, 0, 1, 1],\n",
      "        [1, 1, 1, 0, 1],\n",
      "        [1, 1, 1, 1, 0]])\n"
     ]
    }
   ],
   "source": [
    "ws = 2\n",
    "tokens = [0, 1, 2, 3, 4, 0, 1, 0]\n",
    "print(build_cooccurrence_matrix(ws, tokens))"
   ]
  }
 ],
 "metadata": {
  "kernelspec": {
   "display_name": "Python 3",
   "language": "python",
   "name": "python3"
  },
  "language_info": {
   "codemirror_mode": {
    "name": "ipython",
    "version": 3
   },
   "file_extension": ".py",
   "mimetype": "text/x-python",
   "name": "python",
   "nbconvert_exporter": "python",
   "pygments_lexer": "ipython3",
   "version": "3.10.12"
  }
 },
 "nbformat": 4,
 "nbformat_minor": 2
}
