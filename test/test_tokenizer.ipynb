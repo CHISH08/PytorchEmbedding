{
 "cells": [
  {
   "cell_type": "markdown",
   "metadata": {},
   "source": [
    "# Проверка работы токенизатора"
   ]
  },
  {
   "cell_type": "markdown",
   "metadata": {},
   "source": [
    "### Настраиваем корневую папку"
   ]
  },
  {
   "cell_type": "code",
   "execution_count": 1,
   "metadata": {},
   "outputs": [],
   "source": [
    "import first_script"
   ]
  },
  {
   "cell_type": "markdown",
   "metadata": {},
   "source": [
    "### Импортируем токенизатор"
   ]
  },
  {
   "cell_type": "code",
   "execution_count": 2,
   "metadata": {},
   "outputs": [],
   "source": [
    "from tokenizer import AutoTokenizer"
   ]
  },
  {
   "cell_type": "code",
   "execution_count": 3,
   "metadata": {},
   "outputs": [],
   "source": [
    "tokenizer = AutoTokenizer()"
   ]
  },
  {
   "cell_type": "code",
   "execution_count": 4,
   "metadata": {},
   "outputs": [
    {
     "data": {
      "text/plain": [
       "{'[UNK]': 0,\n",
       " '[BOS]': 1,\n",
       " '[EOS]': 2,\n",
       " '[BOP]': 3,\n",
       " '[EOP]': 4,\n",
       " '[BOT]': 5,\n",
       " '[EOT]': 6}"
      ]
     },
     "execution_count": 4,
     "metadata": {},
     "output_type": "execute_result"
    }
   ],
   "source": [
    "tokenizer.vocab"
   ]
  },
  {
   "cell_type": "markdown",
   "metadata": {},
   "source": [
    "### Обучаем токенизатор (загружает уникальные слова)"
   ]
  },
  {
   "cell_type": "code",
   "execution_count": 5,
   "metadata": {},
   "outputs": [],
   "source": [
    "text_train = 'Привет, меня зовут Миша. Как тебя зовут? миша...'\n",
    "tokenizer.train(text_train)"
   ]
  },
  {
   "cell_type": "code",
   "execution_count": 6,
   "metadata": {},
   "outputs": [
    {
     "data": {
      "text/plain": [
       "{'[UNK]': 0,\n",
       " '[BOS]': 1,\n",
       " '[EOS]': 2,\n",
       " '[BOP]': 3,\n",
       " '[EOP]': 4,\n",
       " '[BOT]': 5,\n",
       " '[EOT]': 6,\n",
       " 'Как': 7,\n",
       " 'Миша': 8,\n",
       " '?': 9,\n",
       " 'миша': 10,\n",
       " 'Привет': 11,\n",
       " 'меня': 12,\n",
       " '.': 13,\n",
       " ',': 14,\n",
       " 'зовут': 15,\n",
       " 'тебя': 16}"
      ]
     },
     "execution_count": 6,
     "metadata": {},
     "output_type": "execute_result"
    }
   ],
   "source": [
    "tokenizer.vocab"
   ]
  },
  {
   "cell_type": "markdown",
   "metadata": {},
   "source": [
    "### Проверка токенизатора на новом тексте и на тексте, на котором обучали"
   ]
  },
  {
   "cell_type": "code",
   "execution_count": 7,
   "metadata": {},
   "outputs": [
    {
     "name": "stdout",
     "output_type": "stream",
     "text": [
      "[11, 14, 8, 14, 12, 15]\n",
      "[11, 14, 12, 15, 8, 13, 7, 16, 15, 9, 10, 13, 13, 13]\n"
     ]
    }
   ],
   "source": [
    "text_test = 'Привет, Миша, меня зовут'\n",
    "print(tokenizer.encode(text_test))\n",
    "print(tokenizer.encode(text_train))"
   ]
  },
  {
   "cell_type": "markdown",
   "metadata": {},
   "source": [
    "### Метод decode - превращает индексы обратно в текст"
   ]
  },
  {
   "cell_type": "code",
   "execution_count": 8,
   "metadata": {},
   "outputs": [],
   "source": [
    "text_train_idx = tokenizer.encode(text_train)\n",
    "text_test_idx = tokenizer.encode(text_test)"
   ]
  },
  {
   "cell_type": "code",
   "execution_count": 9,
   "metadata": {},
   "outputs": [
    {
     "name": "stdout",
     "output_type": "stream",
     "text": [
      "Привет, меня зовут Миша. Как тебя зовут? миша...\n",
      "Привет, Миша, меня зовут\n"
     ]
    }
   ],
   "source": [
    "print(tokenizer.decode(text_train_idx, join=True))\n",
    "print(tokenizer.decode(text_test_idx, join=True))"
   ]
  },
  {
   "cell_type": "markdown",
   "metadata": {},
   "source": [
    "Гиперпараметр join объединяет токены в случае, если join=True. В ином случае выводится список токенов"
   ]
  },
  {
   "cell_type": "code",
   "execution_count": 10,
   "metadata": {},
   "outputs": [
    {
     "data": {
      "text/plain": [
       "['Привет',\n",
       " ',',\n",
       " 'меня',\n",
       " 'зовут',\n",
       " 'Миша',\n",
       " '.',\n",
       " 'Как',\n",
       " 'тебя',\n",
       " 'зовут',\n",
       " '?',\n",
       " 'миша',\n",
       " '.',\n",
       " '.',\n",
       " '.']"
      ]
     },
     "execution_count": 10,
     "metadata": {},
     "output_type": "execute_result"
    }
   ],
   "source": [
    "tokenizer.decode(text_train_idx)"
   ]
  },
  {
   "cell_type": "markdown",
   "metadata": {},
   "source": [
    "Замечу, что слова не приводятся в нижний регистр!"
   ]
  },
  {
   "cell_type": "markdown",
   "metadata": {},
   "source": [
    "### Добавляем специальные токены в текст"
   ]
  },
  {
   "cell_type": "code",
   "execution_count": 11,
   "metadata": {},
   "outputs": [
    {
     "name": "stdout",
     "output_type": "stream",
     "text": [
      "[3, 1, 11, 14, 12, 15, 8, 13, 2, 1, 7, 16, 15, 9, 2, 1, 10, 2, 4]\n",
      "[BOP] [BOS] Привет, меня зовут Миша. [EOS] [BOS] Как тебя зовут? [EOS] [BOS] миша [EOS] [EOP]\n"
     ]
    }
   ],
   "source": [
    "text_train_idx = tokenizer.encode(text_train, add_special_tokens=True)\n",
    "print(text_train_idx)\n",
    "print(tokenizer.decode(text_train_idx, join=True, add_special_tokens=True))"
   ]
  },
  {
   "cell_type": "code",
   "execution_count": 12,
   "metadata": {},
   "outputs": [
    {
     "name": "stdout",
     "output_type": "stream",
     "text": [
      "[3, 1, 0, 11, 14, 10, 2, 4, 3, 1, 0, 11, 8, 2, 4, 3, 1, 0, 7, 0, 9, 2, 4]\n",
      "[BOP] [BOS] [UNK] Привет, миша [EOS] [EOP] [BOP] [BOS] [UNK] Привет Миша [EOS] [EOP] [BOP] [BOS] [UNK] Как [UNK]? [EOS] [EOP]\n"
     ]
    }
   ],
   "source": [
    "text_train =\\\n",
    "'''- Привет, миша\n",
    "- Привет Миша\n",
    "- Как дела?'''\n",
    "text_train_idx = tokenizer.encode(text_train, add_special_tokens=True)\n",
    "print(text_train_idx)\n",
    "print(tokenizer.decode(text_train_idx, join=True, add_special_tokens=True))"
   ]
  },
  {
   "cell_type": "markdown",
   "metadata": {},
   "source": [
    "Неизвестные слова помечаются [UNK], за счет чего не случаются проблемы при обучении модели"
   ]
  },
  {
   "cell_type": "markdown",
   "metadata": {},
   "source": [
    "### Обучим токенизатор на тексте, который буду использовать в дальнейшем"
   ]
  },
  {
   "cell_type": "code",
   "execution_count": 13,
   "metadata": {},
   "outputs": [],
   "source": [
    "text = \"\"\n",
    "with open('../data/voina_i_mir.txt', 'r') as f:\n",
    "    text = f.read()\n",
    "tokenizer.train(text)"
   ]
  },
  {
   "cell_type": "markdown",
   "metadata": {},
   "source": [
    "### Сохраним предобученый токенизатор"
   ]
  },
  {
   "cell_type": "code",
   "execution_count": 14,
   "metadata": {},
   "outputs": [],
   "source": [
    "tokenizer.save_pretrained(\"../tokenizer/tokenizer.bin\")"
   ]
  },
  {
   "cell_type": "markdown",
   "metadata": {},
   "source": [
    "### Загрузка предобученого токенизатора"
   ]
  },
  {
   "cell_type": "code",
   "execution_count": 15,
   "metadata": {},
   "outputs": [],
   "source": [
    "tokenizer = AutoTokenizer(\"../tokenizer/tokenizer.bin\")"
   ]
  },
  {
   "cell_type": "code",
   "execution_count": 16,
   "metadata": {},
   "outputs": [
    {
     "data": {
      "text/plain": [
       "[23844, 16067, 14, 16448, 28203]"
      ]
     },
     "execution_count": 16,
     "metadata": {},
     "output_type": "execute_result"
    }
   ],
   "source": [
    "tokenizer.encode('Добрый день, Андрей!')"
   ]
  }
 ],
 "metadata": {
  "kernelspec": {
   "display_name": "Python 3",
   "language": "python",
   "name": "python3"
  },
  "language_info": {
   "codemirror_mode": {
    "name": "ipython",
    "version": 3
   },
   "file_extension": ".py",
   "mimetype": "text/x-python",
   "name": "python",
   "nbconvert_exporter": "python",
   "pygments_lexer": "ipython3",
   "version": "3.10.12"
  }
 },
 "nbformat": 4,
 "nbformat_minor": 2
}
