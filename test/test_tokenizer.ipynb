{
 "cells": [
  {
   "cell_type": "markdown",
   "metadata": {},
   "source": [
    "# Проверка работы токенизатора"
   ]
  },
  {
   "cell_type": "markdown",
   "metadata": {},
   "source": [
    "### Настраиваем корневую папку"
   ]
  },
  {
   "cell_type": "code",
   "execution_count": 1,
   "metadata": {},
   "outputs": [],
   "source": [
    "import first_script"
   ]
  },
  {
   "cell_type": "markdown",
   "metadata": {},
   "source": [
    "### Импортируем токенизатор"
   ]
  },
  {
   "cell_type": "code",
   "execution_count": 2,
   "metadata": {},
   "outputs": [],
   "source": [
    "from tokenizer import AutoTokenizer"
   ]
  },
  {
   "cell_type": "code",
   "execution_count": 3,
   "metadata": {},
   "outputs": [],
   "source": [
    "tokenizer = AutoTokenizer()"
   ]
  },
  {
   "cell_type": "code",
   "execution_count": 4,
   "metadata": {},
   "outputs": [
    {
     "data": {
      "text/plain": [
       "{'<UNK>': 0,\n",
       " '<BOS>': 1,\n",
       " '<EOS>': 2,\n",
       " '<BOP>': 3,\n",
       " '<EOP>': 4,\n",
       " '<BOT>': 5,\n",
       " '<EOT>': 6}"
      ]
     },
     "execution_count": 4,
     "metadata": {},
     "output_type": "execute_result"
    }
   ],
   "source": [
    "tokenizer.vocab"
   ]
  },
  {
   "cell_type": "markdown",
   "metadata": {},
   "source": [
    "### Обучаем токенизатор (загружает уникальные слова)"
   ]
  },
  {
   "cell_type": "code",
   "execution_count": 5,
   "metadata": {},
   "outputs": [],
   "source": [
    "text_train = 'Привет, меня зовут Миша. Как тебя зовут? миша...'\n",
    "tokenizer.train(text_train)"
   ]
  },
  {
   "cell_type": "code",
   "execution_count": 6,
   "metadata": {},
   "outputs": [
    {
     "data": {
      "text/plain": [
       "{'<UNK>': 0,\n",
       " '<BOS>': 1,\n",
       " '<EOS>': 2,\n",
       " '<BOP>': 3,\n",
       " '<EOP>': 4,\n",
       " '<BOT>': 5,\n",
       " '<EOT>': 6,\n",
       " '...': 7,\n",
       " 'Миша': 8,\n",
       " 'зовут': 9,\n",
       " 'миша': 10,\n",
       " 'тебя': 11,\n",
       " '?': 12,\n",
       " 'меня': 13,\n",
       " ',': 14,\n",
       " 'Привет': 15,\n",
       " '.': 16,\n",
       " 'Как': 17}"
      ]
     },
     "execution_count": 6,
     "metadata": {},
     "output_type": "execute_result"
    }
   ],
   "source": [
    "tokenizer.vocab"
   ]
  },
  {
   "cell_type": "markdown",
   "metadata": {},
   "source": [
    "### Проверка токенизатора на новом тексте и на тексте, на котором обучали"
   ]
  },
  {
   "cell_type": "code",
   "execution_count": 7,
   "metadata": {},
   "outputs": [
    {
     "name": "stdout",
     "output_type": "stream",
     "text": [
      "[15, 14, 8, 14, 13, 9]\n",
      "[15, 14, 13, 9, 8, 16, 17, 11, 9, 12, 10, 7]\n"
     ]
    }
   ],
   "source": [
    "text_test = 'Привет, Миша, меня зовут'\n",
    "print(tokenizer.encode(text_test))\n",
    "print(tokenizer.encode(text_train))"
   ]
  },
  {
   "cell_type": "markdown",
   "metadata": {},
   "source": [
    "### Метод decode - превращает индексы обратно в текст"
   ]
  },
  {
   "cell_type": "code",
   "execution_count": 8,
   "metadata": {},
   "outputs": [],
   "source": [
    "text_train_idx = tokenizer.encode(text_train)\n",
    "text_test_idx = tokenizer.encode(text_test)"
   ]
  },
  {
   "cell_type": "code",
   "execution_count": 9,
   "metadata": {},
   "outputs": [
    {
     "name": "stdout",
     "output_type": "stream",
     "text": [
      "Привет, меня зовут Миша. Как тебя зовут? миша...\n",
      "Привет, Миша, меня зовут\n"
     ]
    }
   ],
   "source": [
    "print(tokenizer.decode(text_train_idx, join=True))\n",
    "print(tokenizer.decode(text_test_idx, join=True))"
   ]
  },
  {
   "cell_type": "markdown",
   "metadata": {},
   "source": [
    "Гиперпараметр join объединяет токены в случае, если join=True. В ином случае выводится список токенов"
   ]
  },
  {
   "cell_type": "code",
   "execution_count": 10,
   "metadata": {},
   "outputs": [
    {
     "data": {
      "text/plain": [
       "['Привет',\n",
       " ',',\n",
       " 'меня',\n",
       " 'зовут',\n",
       " 'Миша',\n",
       " '.',\n",
       " 'Как',\n",
       " 'тебя',\n",
       " 'зовут',\n",
       " '?',\n",
       " 'миша',\n",
       " '...']"
      ]
     },
     "execution_count": 10,
     "metadata": {},
     "output_type": "execute_result"
    }
   ],
   "source": [
    "tokenizer.decode(text_train_idx)"
   ]
  },
  {
   "cell_type": "markdown",
   "metadata": {},
   "source": [
    "Замечу, что слова не приводятся в нижний регистр!"
   ]
  },
  {
   "cell_type": "markdown",
   "metadata": {},
   "source": [
    "### Обучим токенизатор на тексте, который буду использовать в дальнейшем"
   ]
  },
  {
   "cell_type": "code",
   "execution_count": null,
   "metadata": {},
   "outputs": [],
   "source": [
    "text = \"\"\n",
    "with open('../data/voina_i_mir.txt', 'r') as f:\n",
    "    text = f.read()\n",
    "tokenizer.train(text)"
   ]
  },
  {
   "cell_type": "markdown",
   "metadata": {},
   "source": [
    "### Сохраним предобученый токенизатор"
   ]
  },
  {
   "cell_type": "code",
   "execution_count": null,
   "metadata": {},
   "outputs": [],
   "source": [
    "tokenizer.save_pretrained(\"../tokenizer/tokenizer.bin\")"
   ]
  },
  {
   "cell_type": "markdown",
   "metadata": {},
   "source": [
    "### Загрузка предобученого токенизатора"
   ]
  },
  {
   "cell_type": "code",
   "execution_count": null,
   "metadata": {},
   "outputs": [],
   "source": [
    "tokenizer = AutoTokenizer(\"../tokenizer/tokenizer.bin\")"
   ]
  },
  {
   "cell_type": "code",
   "execution_count": null,
   "metadata": {},
   "outputs": [
    {
     "data": {
      "text/plain": [
       "[5, 47355, 51132, 8, 44749, 7353, 6]"
      ]
     },
     "execution_count": 14,
     "metadata": {},
     "output_type": "execute_result"
    }
   ],
   "source": [
    "tokenizer.encode('Добрый день, Андрей!')"
   ]
  }
 ],
 "metadata": {
  "kernelspec": {
   "display_name": "Python 3",
   "language": "python",
   "name": "python3"
  },
  "language_info": {
   "codemirror_mode": {
    "name": "ipython",
    "version": 3
   },
   "file_extension": ".py",
   "mimetype": "text/x-python",
   "name": "python",
   "nbconvert_exporter": "python",
   "pygments_lexer": "ipython3",
   "version": "3.10.12"
  }
 },
 "nbformat": 4,
 "nbformat_minor": 2
}
