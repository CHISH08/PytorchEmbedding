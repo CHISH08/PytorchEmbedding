{
 "cells": [
  {
   "cell_type": "markdown",
   "metadata": {},
   "source": [
    "# Проверка работы FastText"
   ]
  },
  {
   "cell_type": "code",
   "execution_count": 1,
   "metadata": {},
   "outputs": [],
   "source": [
    "import first_script"
   ]
  },
  {
   "cell_type": "code",
   "execution_count": 2,
   "metadata": {},
   "outputs": [],
   "source": [
    "from tokenizer import FastTextTokenizer\n",
    "from model import FastText\n",
    "import os"
   ]
  },
  {
   "cell_type": "markdown",
   "metadata": {},
   "source": [
    "## Основная особенность FastText - токенизатор, делящий слова на n-граммы"
   ]
  },
  {
   "cell_type": "code",
   "execution_count": 3,
   "metadata": {},
   "outputs": [],
   "source": [
    "tokenizer = FastTextTokenizer(n_gram=3)"
   ]
  },
  {
   "cell_type": "code",
   "execution_count": 4,
   "metadata": {},
   "outputs": [],
   "source": [
    "text_train = 'Привет, меня зовут Миша. Как тебя зовут? миша'\n",
    "tokenizer.train(text_train)"
   ]
  },
  {
   "cell_type": "code",
   "execution_count": 5,
   "metadata": {},
   "outputs": [
    {
     "name": "stdout",
     "output_type": "stream",
     "text": [
      "[21, 33, 14, 10, 12, 31, 20, 26, 23, 29, 8, 18, 7, 37, 19, 9, 34, 36, 13, 27]\n",
      "[21, 33, 14, 10, 12, 31, 8, 18, 7, 37, 19, 9, 34, 36, 13, 27, 20, 26, 23, 29, 16, 24, 35, 28, 22, 25, 32, 17, 9, 34, 36, 13, 27, 15, 11, 30, 23, 29]\n"
     ]
    }
   ],
   "source": [
    "text_test = 'Привет Миша, меня зовут'\n",
    "print(tokenizer.encode(text_test))\n",
    "print(tokenizer.encode(text_train))"
   ]
  },
  {
   "cell_type": "code",
   "execution_count": 6,
   "metadata": {},
   "outputs": [
    {
     "data": {
      "text/plain": [
       "['Привет', 'Миша', ',', 'меня', 'зовут']"
      ]
     },
     "execution_count": 6,
     "metadata": {},
     "output_type": "execute_result"
    }
   ],
   "source": [
    "text_test_idx = tokenizer.encode(text_test)\n",
    "tokenizer.decode(text_test_idx)"
   ]
  },
  {
   "cell_type": "code",
   "execution_count": 7,
   "metadata": {},
   "outputs": [
    {
     "data": {
      "text/plain": [
       "['<Пр',\n",
       " 'При',\n",
       " 'рив',\n",
       " 'иве',\n",
       " 'вет',\n",
       " 'ет>',\n",
       " '<Ми',\n",
       " 'Миш',\n",
       " 'иша',\n",
       " 'ша>',\n",
       " '<,>',\n",
       " '<ме',\n",
       " 'мен',\n",
       " 'еня',\n",
       " 'ня>',\n",
       " '<зо',\n",
       " 'зов',\n",
       " 'ову',\n",
       " 'вут',\n",
       " 'ут>']"
      ]
     },
     "execution_count": 7,
     "metadata": {},
     "output_type": "execute_result"
    }
   ],
   "source": [
    "tokenizer._tokenize(text_test)"
   ]
  },
  {
   "cell_type": "code",
   "execution_count": 8,
   "metadata": {},
   "outputs": [
    {
     "data": {
      "text/plain": [
       "['[BOP]', '[BOS]', 'Привет', 'Миша', ',', 'меня', 'зовут', '[EOS]', '[EOP]']"
      ]
     },
     "execution_count": 8,
     "metadata": {},
     "output_type": "execute_result"
    }
   ],
   "source": [
    "text_test_idx = tokenizer.encode(text_test, add_special_tokens=True)\n",
    "tokenizer.decode(text_test_idx, add_special_tokens=True)"
   ]
  },
  {
   "cell_type": "markdown",
   "metadata": {},
   "source": [
    "## Обучаем FastText"
   ]
  },
  {
   "cell_type": "code",
   "execution_count": 9,
   "metadata": {},
   "outputs": [],
   "source": [
    "tokenizer = FastTextTokenizer(n_gram=3)"
   ]
  },
  {
   "cell_type": "code",
   "execution_count": 10,
   "metadata": {},
   "outputs": [],
   "source": [
    "text = \"\"\n",
    "with open('../data/voina_i_mir.txt', 'r') as f:\n",
    "    text = f.read()\n",
    "tokenizer.train(text)"
   ]
  },
  {
   "cell_type": "code",
   "execution_count": 11,
   "metadata": {},
   "outputs": [],
   "source": [
    "text_idxs = tokenizer.encode(text, add_special_tokens=True)"
   ]
  },
  {
   "cell_type": "markdown",
   "metadata": {},
   "source": [
    "### Параметры модели"
   ]
  },
  {
   "cell_type": "code",
   "execution_count": 12,
   "metadata": {},
   "outputs": [],
   "source": [
    "embed_dim = 256\n",
    "window_size = 20\n",
    "device = 'cuda'"
   ]
  },
  {
   "cell_type": "markdown",
   "metadata": {},
   "source": [
    "### Параметры обучения"
   ]
  },
  {
   "cell_type": "code",
   "execution_count": 13,
   "metadata": {},
   "outputs": [],
   "source": [
    "num_epochs = 10\n",
    "batch_size = 8000\n",
    "num_workers = os.cpu_count()"
   ]
  },
  {
   "cell_type": "markdown",
   "metadata": {},
   "source": [
    "### Загружаем модель и обучаем"
   ]
  },
  {
   "cell_type": "code",
   "execution_count": 14,
   "metadata": {},
   "outputs": [
    {
     "name": "stdout",
     "output_type": "stream",
     "text": [
      "Epoch [1/10, time: 1.049 minutes]:\n",
      "                            Train Loss 12.470066, Train Perplexity 260423.805\n",
      "                            Test Loss 11.771999, Test Perplexity 129572.890\n",
      "Epoch [2/10, time: 2.121 minutes]:\n",
      "                            Train Loss 10.908654, Train Perplexity 54647.216\n",
      "                            Test Loss 10.299313, Test Perplexity 29712.211\n",
      "Epoch [3/10, time: 3.284 minutes]:\n",
      "                            Train Loss 9.655433, Train Perplexity 15606.340\n",
      "                            Test Loss 9.351883, Test Perplexity 11520.498\n",
      "Epoch [4/10, time: 4.516 minutes]:\n",
      "                            Train Loss 8.930647, Train Perplexity 7560.156\n",
      "                            Test Loss 8.800919, Test Perplexity 6640.342\n",
      "Epoch [5/10, time: 5.810 minutes]:\n",
      "                            Train Loss 8.452994, Train Perplexity 4689.092\n",
      "                            Test Loss 8.403258, Test Perplexity 4461.579\n",
      "Epoch [6/10, time: 7.098 minutes]:\n",
      "                            Train Loss 8.079410, Train Perplexity 3227.328\n",
      "                            Test Loss 8.079353, Test Perplexity 3227.144\n",
      "Epoch [7/10, time: 8.357 minutes]:\n",
      "                            Train Loss 7.764114, Train Perplexity 2354.572\n",
      "                            Test Loss 7.802309, Test Perplexity 2446.244\n",
      "Epoch [8/10, time: 9.632 minutes]:\n",
      "                            Train Loss 7.488668, Train Perplexity 1787.669\n",
      "                            Test Loss 7.558144, Test Perplexity 1916.286\n",
      "Epoch [9/10, time: 10.901 minutes]:\n",
      "                            Train Loss 7.243197, Train Perplexity 1398.558\n",
      "                            Test Loss 7.339725, Test Perplexity 1540.288\n",
      "Epoch [10/10, time: 12.198 minutes]:\n",
      "                            Train Loss 7.021483, Train Perplexity 1120.447\n",
      "                            Test Loss 7.141818, Test Perplexity 1263.724\n"
     ]
    }
   ],
   "source": [
    "model = FastText(embed_dim, window_size, len(tokenizer.words), device=device)\n",
    "res = model.fit(text_idxs, batch_size, num_epochs, num_workers=num_workers)"
   ]
  },
  {
   "cell_type": "markdown",
   "metadata": {},
   "source": [
    "### Визуализируем метрики"
   ]
  },
  {
   "cell_type": "code",
   "execution_count": 15,
   "metadata": {},
   "outputs": [
    {
     "data": {
      "application/vnd.plotly.v1+json": {
       "config": {
        "plotlyServerURL": "https://plot.ly"
       },
       "data": [
        {
         "line": {
          "color": "red"
         },
         "mode": "lines+markers",
         "name": "Train Loss",
         "type": "scatter",
         "x": [
          1,
          2,
          3,
          4,
          5,
          6,
          7,
          8,
          9,
          10
         ],
         "xaxis": "x",
         "y": [
          12.470065603586486,
          10.908653550536132,
          9.655432544550496,
          8.930647082275891,
          8.452994202650762,
          8.079409887327426,
          7.764114439113984,
          7.488667547300166,
          7.2431968924257175,
          7.0214828769644075
         ],
         "yaxis": "y"
        },
        {
         "line": {
          "color": "blue"
         },
         "mode": "lines+markers",
         "name": "Test Loss",
         "type": "scatter",
         "x": [
          1,
          2,
          3,
          4,
          5,
          6,
          7,
          8,
          9,
          10
         ],
         "xaxis": "x",
         "y": [
          11.77199885565163,
          10.299313374559645,
          9.351883161422373,
          8.800918704042186,
          8.403258130198761,
          8.079352914816733,
          7.802309061492248,
          7.558144328490549,
          7.339724512219119,
          7.141817900192381
         ],
         "yaxis": "y"
        },
        {
         "line": {
          "color": "green"
         },
         "mode": "lines+markers",
         "name": "Train Perplexity",
         "type": "scatter",
         "x": [
          1,
          2,
          3,
          4,
          5,
          6,
          7,
          8,
          9,
          10
         ],
         "xaxis": "x2",
         "y": [
          260423.80536394933,
          54647.21603221611,
          15606.34036860205,
          7560.155836659617,
          4689.0918282175135,
          3227.3281873411906,
          2354.5724477383983,
          1787.668520451772,
          1398.5578708248415,
          1120.4468713216907
         ],
         "yaxis": "y2"
        },
        {
         "line": {
          "color": "yellow"
         },
         "mode": "lines+markers",
         "name": "Test Perplexity",
         "type": "scatter",
         "x": [
          1,
          2,
          3,
          4,
          5,
          6,
          7,
          8,
          9,
          10
         ],
         "xaxis": "x2",
         "y": [
          129572.88957651827,
          29712.210687563194,
          11520.49798779032,
          6640.341713628613,
          4461.579499545737,
          3227.1443235891666,
          2446.2439890377595,
          1916.2862142182387,
          1540.2877247646989,
          1263.7236256328872
         ],
         "yaxis": "y2"
        }
       ],
       "layout": {
        "annotations": [
         {
          "font": {
           "size": 16
          },
          "showarrow": false,
          "text": "Loss over Epochs",
          "x": 0.5,
          "xanchor": "center",
          "xref": "paper",
          "y": 1,
          "yanchor": "bottom",
          "yref": "paper"
         },
         {
          "font": {
           "size": 16
          },
          "showarrow": false,
          "text": "Perplexity over Epochs",
          "x": 0.5,
          "xanchor": "center",
          "xref": "paper",
          "y": 0.375,
          "yanchor": "bottom",
          "yref": "paper"
         }
        ],
        "template": {
         "data": {
          "bar": [
           {
            "error_x": {
             "color": "#f2f5fa"
            },
            "error_y": {
             "color": "#f2f5fa"
            },
            "marker": {
             "line": {
              "color": "rgb(17,17,17)",
              "width": 0.5
             },
             "pattern": {
              "fillmode": "overlay",
              "size": 10,
              "solidity": 0.2
             }
            },
            "type": "bar"
           }
          ],
          "barpolar": [
           {
            "marker": {
             "line": {
              "color": "rgb(17,17,17)",
              "width": 0.5
             },
             "pattern": {
              "fillmode": "overlay",
              "size": 10,
              "solidity": 0.2
             }
            },
            "type": "barpolar"
           }
          ],
          "carpet": [
           {
            "aaxis": {
             "endlinecolor": "#A2B1C6",
             "gridcolor": "#506784",
             "linecolor": "#506784",
             "minorgridcolor": "#506784",
             "startlinecolor": "#A2B1C6"
            },
            "baxis": {
             "endlinecolor": "#A2B1C6",
             "gridcolor": "#506784",
             "linecolor": "#506784",
             "minorgridcolor": "#506784",
             "startlinecolor": "#A2B1C6"
            },
            "type": "carpet"
           }
          ],
          "choropleth": [
           {
            "colorbar": {
             "outlinewidth": 0,
             "ticks": ""
            },
            "type": "choropleth"
           }
          ],
          "contour": [
           {
            "colorbar": {
             "outlinewidth": 0,
             "ticks": ""
            },
            "colorscale": [
             [
              0,
              "#0d0887"
             ],
             [
              0.1111111111111111,
              "#46039f"
             ],
             [
              0.2222222222222222,
              "#7201a8"
             ],
             [
              0.3333333333333333,
              "#9c179e"
             ],
             [
              0.4444444444444444,
              "#bd3786"
             ],
             [
              0.5555555555555556,
              "#d8576b"
             ],
             [
              0.6666666666666666,
              "#ed7953"
             ],
             [
              0.7777777777777778,
              "#fb9f3a"
             ],
             [
              0.8888888888888888,
              "#fdca26"
             ],
             [
              1,
              "#f0f921"
             ]
            ],
            "type": "contour"
           }
          ],
          "contourcarpet": [
           {
            "colorbar": {
             "outlinewidth": 0,
             "ticks": ""
            },
            "type": "contourcarpet"
           }
          ],
          "heatmap": [
           {
            "colorbar": {
             "outlinewidth": 0,
             "ticks": ""
            },
            "colorscale": [
             [
              0,
              "#0d0887"
             ],
             [
              0.1111111111111111,
              "#46039f"
             ],
             [
              0.2222222222222222,
              "#7201a8"
             ],
             [
              0.3333333333333333,
              "#9c179e"
             ],
             [
              0.4444444444444444,
              "#bd3786"
             ],
             [
              0.5555555555555556,
              "#d8576b"
             ],
             [
              0.6666666666666666,
              "#ed7953"
             ],
             [
              0.7777777777777778,
              "#fb9f3a"
             ],
             [
              0.8888888888888888,
              "#fdca26"
             ],
             [
              1,
              "#f0f921"
             ]
            ],
            "type": "heatmap"
           }
          ],
          "heatmapgl": [
           {
            "colorbar": {
             "outlinewidth": 0,
             "ticks": ""
            },
            "colorscale": [
             [
              0,
              "#0d0887"
             ],
             [
              0.1111111111111111,
              "#46039f"
             ],
             [
              0.2222222222222222,
              "#7201a8"
             ],
             [
              0.3333333333333333,
              "#9c179e"
             ],
             [
              0.4444444444444444,
              "#bd3786"
             ],
             [
              0.5555555555555556,
              "#d8576b"
             ],
             [
              0.6666666666666666,
              "#ed7953"
             ],
             [
              0.7777777777777778,
              "#fb9f3a"
             ],
             [
              0.8888888888888888,
              "#fdca26"
             ],
             [
              1,
              "#f0f921"
             ]
            ],
            "type": "heatmapgl"
           }
          ],
          "histogram": [
           {
            "marker": {
             "pattern": {
              "fillmode": "overlay",
              "size": 10,
              "solidity": 0.2
             }
            },
            "type": "histogram"
           }
          ],
          "histogram2d": [
           {
            "colorbar": {
             "outlinewidth": 0,
             "ticks": ""
            },
            "colorscale": [
             [
              0,
              "#0d0887"
             ],
             [
              0.1111111111111111,
              "#46039f"
             ],
             [
              0.2222222222222222,
              "#7201a8"
             ],
             [
              0.3333333333333333,
              "#9c179e"
             ],
             [
              0.4444444444444444,
              "#bd3786"
             ],
             [
              0.5555555555555556,
              "#d8576b"
             ],
             [
              0.6666666666666666,
              "#ed7953"
             ],
             [
              0.7777777777777778,
              "#fb9f3a"
             ],
             [
              0.8888888888888888,
              "#fdca26"
             ],
             [
              1,
              "#f0f921"
             ]
            ],
            "type": "histogram2d"
           }
          ],
          "histogram2dcontour": [
           {
            "colorbar": {
             "outlinewidth": 0,
             "ticks": ""
            },
            "colorscale": [
             [
              0,
              "#0d0887"
             ],
             [
              0.1111111111111111,
              "#46039f"
             ],
             [
              0.2222222222222222,
              "#7201a8"
             ],
             [
              0.3333333333333333,
              "#9c179e"
             ],
             [
              0.4444444444444444,
              "#bd3786"
             ],
             [
              0.5555555555555556,
              "#d8576b"
             ],
             [
              0.6666666666666666,
              "#ed7953"
             ],
             [
              0.7777777777777778,
              "#fb9f3a"
             ],
             [
              0.8888888888888888,
              "#fdca26"
             ],
             [
              1,
              "#f0f921"
             ]
            ],
            "type": "histogram2dcontour"
           }
          ],
          "mesh3d": [
           {
            "colorbar": {
             "outlinewidth": 0,
             "ticks": ""
            },
            "type": "mesh3d"
           }
          ],
          "parcoords": [
           {
            "line": {
             "colorbar": {
              "outlinewidth": 0,
              "ticks": ""
             }
            },
            "type": "parcoords"
           }
          ],
          "pie": [
           {
            "automargin": true,
            "type": "pie"
           }
          ],
          "scatter": [
           {
            "marker": {
             "line": {
              "color": "#283442"
             }
            },
            "type": "scatter"
           }
          ],
          "scatter3d": [
           {
            "line": {
             "colorbar": {
              "outlinewidth": 0,
              "ticks": ""
             }
            },
            "marker": {
             "colorbar": {
              "outlinewidth": 0,
              "ticks": ""
             }
            },
            "type": "scatter3d"
           }
          ],
          "scattercarpet": [
           {
            "marker": {
             "colorbar": {
              "outlinewidth": 0,
              "ticks": ""
             }
            },
            "type": "scattercarpet"
           }
          ],
          "scattergeo": [
           {
            "marker": {
             "colorbar": {
              "outlinewidth": 0,
              "ticks": ""
             }
            },
            "type": "scattergeo"
           }
          ],
          "scattergl": [
           {
            "marker": {
             "line": {
              "color": "#283442"
             }
            },
            "type": "scattergl"
           }
          ],
          "scattermapbox": [
           {
            "marker": {
             "colorbar": {
              "outlinewidth": 0,
              "ticks": ""
             }
            },
            "type": "scattermapbox"
           }
          ],
          "scatterpolar": [
           {
            "marker": {
             "colorbar": {
              "outlinewidth": 0,
              "ticks": ""
             }
            },
            "type": "scatterpolar"
           }
          ],
          "scatterpolargl": [
           {
            "marker": {
             "colorbar": {
              "outlinewidth": 0,
              "ticks": ""
             }
            },
            "type": "scatterpolargl"
           }
          ],
          "scatterternary": [
           {
            "marker": {
             "colorbar": {
              "outlinewidth": 0,
              "ticks": ""
             }
            },
            "type": "scatterternary"
           }
          ],
          "surface": [
           {
            "colorbar": {
             "outlinewidth": 0,
             "ticks": ""
            },
            "colorscale": [
             [
              0,
              "#0d0887"
             ],
             [
              0.1111111111111111,
              "#46039f"
             ],
             [
              0.2222222222222222,
              "#7201a8"
             ],
             [
              0.3333333333333333,
              "#9c179e"
             ],
             [
              0.4444444444444444,
              "#bd3786"
             ],
             [
              0.5555555555555556,
              "#d8576b"
             ],
             [
              0.6666666666666666,
              "#ed7953"
             ],
             [
              0.7777777777777778,
              "#fb9f3a"
             ],
             [
              0.8888888888888888,
              "#fdca26"
             ],
             [
              1,
              "#f0f921"
             ]
            ],
            "type": "surface"
           }
          ],
          "table": [
           {
            "cells": {
             "fill": {
              "color": "#506784"
             },
             "line": {
              "color": "rgb(17,17,17)"
             }
            },
            "header": {
             "fill": {
              "color": "#2a3f5f"
             },
             "line": {
              "color": "rgb(17,17,17)"
             }
            },
            "type": "table"
           }
          ]
         },
         "layout": {
          "annotationdefaults": {
           "arrowcolor": "#f2f5fa",
           "arrowhead": 0,
           "arrowwidth": 1
          },
          "autotypenumbers": "strict",
          "coloraxis": {
           "colorbar": {
            "outlinewidth": 0,
            "ticks": ""
           }
          },
          "colorscale": {
           "diverging": [
            [
             0,
             "#8e0152"
            ],
            [
             0.1,
             "#c51b7d"
            ],
            [
             0.2,
             "#de77ae"
            ],
            [
             0.3,
             "#f1b6da"
            ],
            [
             0.4,
             "#fde0ef"
            ],
            [
             0.5,
             "#f7f7f7"
            ],
            [
             0.6,
             "#e6f5d0"
            ],
            [
             0.7,
             "#b8e186"
            ],
            [
             0.8,
             "#7fbc41"
            ],
            [
             0.9,
             "#4d9221"
            ],
            [
             1,
             "#276419"
            ]
           ],
           "sequential": [
            [
             0,
             "#0d0887"
            ],
            [
             0.1111111111111111,
             "#46039f"
            ],
            [
             0.2222222222222222,
             "#7201a8"
            ],
            [
             0.3333333333333333,
             "#9c179e"
            ],
            [
             0.4444444444444444,
             "#bd3786"
            ],
            [
             0.5555555555555556,
             "#d8576b"
            ],
            [
             0.6666666666666666,
             "#ed7953"
            ],
            [
             0.7777777777777778,
             "#fb9f3a"
            ],
            [
             0.8888888888888888,
             "#fdca26"
            ],
            [
             1,
             "#f0f921"
            ]
           ],
           "sequentialminus": [
            [
             0,
             "#0d0887"
            ],
            [
             0.1111111111111111,
             "#46039f"
            ],
            [
             0.2222222222222222,
             "#7201a8"
            ],
            [
             0.3333333333333333,
             "#9c179e"
            ],
            [
             0.4444444444444444,
             "#bd3786"
            ],
            [
             0.5555555555555556,
             "#d8576b"
            ],
            [
             0.6666666666666666,
             "#ed7953"
            ],
            [
             0.7777777777777778,
             "#fb9f3a"
            ],
            [
             0.8888888888888888,
             "#fdca26"
            ],
            [
             1,
             "#f0f921"
            ]
           ]
          },
          "colorway": [
           "#636efa",
           "#EF553B",
           "#00cc96",
           "#ab63fa",
           "#FFA15A",
           "#19d3f3",
           "#FF6692",
           "#B6E880",
           "#FF97FF",
           "#FECB52"
          ],
          "font": {
           "color": "#f2f5fa"
          },
          "geo": {
           "bgcolor": "rgb(17,17,17)",
           "lakecolor": "rgb(17,17,17)",
           "landcolor": "rgb(17,17,17)",
           "showlakes": true,
           "showland": true,
           "subunitcolor": "#506784"
          },
          "hoverlabel": {
           "align": "left"
          },
          "hovermode": "closest",
          "mapbox": {
           "style": "dark"
          },
          "paper_bgcolor": "rgb(17,17,17)",
          "plot_bgcolor": "rgb(17,17,17)",
          "polar": {
           "angularaxis": {
            "gridcolor": "#506784",
            "linecolor": "#506784",
            "ticks": ""
           },
           "bgcolor": "rgb(17,17,17)",
           "radialaxis": {
            "gridcolor": "#506784",
            "linecolor": "#506784",
            "ticks": ""
           }
          },
          "scene": {
           "xaxis": {
            "backgroundcolor": "rgb(17,17,17)",
            "gridcolor": "#506784",
            "gridwidth": 2,
            "linecolor": "#506784",
            "showbackground": true,
            "ticks": "",
            "zerolinecolor": "#C8D4E3"
           },
           "yaxis": {
            "backgroundcolor": "rgb(17,17,17)",
            "gridcolor": "#506784",
            "gridwidth": 2,
            "linecolor": "#506784",
            "showbackground": true,
            "ticks": "",
            "zerolinecolor": "#C8D4E3"
           },
           "zaxis": {
            "backgroundcolor": "rgb(17,17,17)",
            "gridcolor": "#506784",
            "gridwidth": 2,
            "linecolor": "#506784",
            "showbackground": true,
            "ticks": "",
            "zerolinecolor": "#C8D4E3"
           }
          },
          "shapedefaults": {
           "line": {
            "color": "#f2f5fa"
           }
          },
          "sliderdefaults": {
           "bgcolor": "#C8D4E3",
           "bordercolor": "rgb(17,17,17)",
           "borderwidth": 1,
           "tickwidth": 0
          },
          "ternary": {
           "aaxis": {
            "gridcolor": "#506784",
            "linecolor": "#506784",
            "ticks": ""
           },
           "baxis": {
            "gridcolor": "#506784",
            "linecolor": "#506784",
            "ticks": ""
           },
           "bgcolor": "rgb(17,17,17)",
           "caxis": {
            "gridcolor": "#506784",
            "linecolor": "#506784",
            "ticks": ""
           }
          },
          "title": {
           "x": 0.05
          },
          "updatemenudefaults": {
           "bgcolor": "#506784",
           "borderwidth": 0
          },
          "xaxis": {
           "automargin": true,
           "gridcolor": "#283442",
           "linecolor": "#506784",
           "ticks": "",
           "title": {
            "standoff": 15
           },
           "zerolinecolor": "#283442",
           "zerolinewidth": 2
          },
          "yaxis": {
           "automargin": true,
           "gridcolor": "#283442",
           "linecolor": "#506784",
           "ticks": "",
           "title": {
            "standoff": 15
           },
           "zerolinecolor": "#283442",
           "zerolinewidth": 2
          }
         }
        },
        "title": {
         "text": "Training and Testing Metrics"
        },
        "xaxis": {
         "anchor": "y",
         "domain": [
          0,
          1
         ],
         "title": {
          "text": "Epoch"
         }
        },
        "xaxis2": {
         "anchor": "y2",
         "domain": [
          0,
          1
         ],
         "title": {
          "text": "Epoch"
         }
        },
        "yaxis": {
         "anchor": "x",
         "domain": [
          0.625,
          1
         ],
         "title": {
          "text": "Loss"
         }
        },
        "yaxis2": {
         "anchor": "x2",
         "domain": [
          0,
          0.375
         ],
         "title": {
          "text": "Perplexity"
         }
        }
       }
      }
     },
     "metadata": {},
     "output_type": "display_data"
    }
   ],
   "source": [
    "FastText.plot_metrics(*res)"
   ]
  },
  {
   "cell_type": "markdown",
   "metadata": {},
   "source": [
    "### Слово разделяется на n-граммы"
   ]
  },
  {
   "cell_type": "code",
   "execution_count": 16,
   "metadata": {},
   "outputs": [
    {
     "name": "stdout",
     "output_type": "stream",
     "text": [
      "[9350, 8445, 9140, 9411, 1992, 1483]\n",
      "['Добрый']\n"
     ]
    }
   ],
   "source": [
    "test_text = 'Добрый'\n",
    "test_text_idx = tokenizer.encode(test_text)\n",
    "print(test_text_idx)\n",
    "dec_test_text_idx = tokenizer.decode(test_text_idx)\n",
    "print(dec_test_text_idx)"
   ]
  },
  {
   "cell_type": "code",
   "execution_count": 17,
   "metadata": {},
   "outputs": [],
   "source": [
    "embed = model[test_text_idx]"
   ]
  },
  {
   "cell_type": "code",
   "execution_count": 18,
   "metadata": {},
   "outputs": [
    {
     "data": {
      "text/plain": [
       "torch.Size([256])"
      ]
     },
     "execution_count": 18,
     "metadata": {},
     "output_type": "execute_result"
    }
   ],
   "source": [
    "embed.shape"
   ]
  },
  {
   "cell_type": "markdown",
   "metadata": {},
   "source": [
    "### Благодаря разделению на n-граммы можно получить эмбеддинг любой фразы"
   ]
  },
  {
   "cell_type": "code",
   "execution_count": 19,
   "metadata": {},
   "outputs": [
    {
     "name": "stdout",
     "output_type": "stream",
     "text": [
      "[9350, 8445, 9140, 9411, 1992, 1483, 15133, 10123, 6346, 11099, 6757, 475, 13152, 10973, 8931, 8563, 1483]\n",
      "['Добрый', 'и', 'позитивный']\n"
     ]
    }
   ],
   "source": [
    "test_text = 'Добрый и позитивный'\n",
    "test_text_idx = tokenizer.encode(test_text)\n",
    "print(test_text_idx)\n",
    "dec_test_text_idx = tokenizer.decode(test_text_idx)\n",
    "print(dec_test_text_idx)"
   ]
  },
  {
   "cell_type": "code",
   "execution_count": 20,
   "metadata": {},
   "outputs": [],
   "source": [
    "embed = model[test_text_idx]"
   ]
  },
  {
   "cell_type": "code",
   "execution_count": 21,
   "metadata": {},
   "outputs": [
    {
     "data": {
      "text/plain": [
       "torch.Size([256])"
      ]
     },
     "execution_count": 21,
     "metadata": {},
     "output_type": "execute_result"
    }
   ],
   "source": [
    "embed.shape"
   ]
  },
  {
   "cell_type": "markdown",
   "metadata": {},
   "source": [
    "### Почти любой..."
   ]
  },
  {
   "cell_type": "code",
   "execution_count": 22,
   "metadata": {},
   "outputs": [
    {
     "name": "stdout",
     "output_type": "stream",
     "text": [
      "[0, 0, 0, 4127, 1805]\n",
      "['м']\n"
     ]
    }
   ],
   "source": [
    "test_text = 'кмлум'\n",
    "test_text_idx = tokenizer.encode(test_text)\n",
    "print(test_text_idx)\n",
    "dec_test_text_idx = tokenizer.decode(test_text_idx)\n",
    "print(dec_test_text_idx)"
   ]
  },
  {
   "cell_type": "code",
   "execution_count": 23,
   "metadata": {},
   "outputs": [
    {
     "data": {
      "text/plain": [
       "torch.Size([256])"
      ]
     },
     "execution_count": 23,
     "metadata": {},
     "output_type": "execute_result"
    }
   ],
   "source": [
    "embed = model[test_text_idx]\n",
    "embed.shape"
   ]
  },
  {
   "cell_type": "markdown",
   "metadata": {},
   "source": [
    "### Чтобы вычислить ближайшие слова к данному нужно немного магии (а именно добавить индексы каждого слова)"
   ]
  },
  {
   "cell_type": "code",
   "execution_count": 24,
   "metadata": {},
   "outputs": [],
   "source": [
    "word1 = 'Андрей'\n",
    "word1_idx = tokenizer.encode(word1)\n",
    "all_words_idx = [tokenizer.encode(word) for word in tokenizer.real_words]\n",
    "near1 = model.k_Nearest(all_words_idx, word1_idx, k=10, use_cosine=False)"
   ]
  },
  {
   "cell_type": "code",
   "execution_count": 25,
   "metadata": {},
   "outputs": [
    {
     "name": "stdout",
     "output_type": "stream",
     "text": [
      "['Андрей', 'Андрее', 'Андрея', 'Андрею', 'Андреевской', 'Андреем', 'Андреич', 'Андреевич', 'Андреича', 'Андреевичу', 'Андреи']\n"
     ]
    }
   ],
   "source": [
    "print([tokenizer.real_words[near1_idx] for near1_idx in near1])"
   ]
  },
  {
   "cell_type": "code",
   "execution_count": 26,
   "metadata": {},
   "outputs": [
    {
     "data": {
      "application/vnd.plotly.v1+json": {
       "config": {
        "plotlyServerURL": "https://plot.ly"
       },
       "data": [
        {
         "marker": {
          "color": "rgba(135, 206, 250, 0.6)",
          "line": {
           "color": "DarkSlateGrey",
           "width": 1
          },
          "size": 8
         },
         "mode": "markers+text",
         "name": "Андрей",
         "text": [
          "Андрей"
         ],
         "textposition": "top center",
         "type": "scatter",
         "x": [
          -2.5665853023529053
         ],
         "y": [
          -1.7995550632476807
         ]
        },
        {
         "marker": {
          "color": "rgba(135, 206, 250, 0.6)",
          "line": {
           "color": "DarkSlateGrey",
           "width": 1
          },
          "size": 8
         },
         "mode": "markers+text",
         "name": "Андрее",
         "text": [
          "Андрее"
         ],
         "textposition": "top center",
         "type": "scatter",
         "x": [
          -3.1603801250457764
         ],
         "y": [
          -1.0140552520751953
         ]
        },
        {
         "marker": {
          "color": "rgba(135, 206, 250, 0.6)",
          "line": {
           "color": "DarkSlateGrey",
           "width": 1
          },
          "size": 8
         },
         "mode": "markers+text",
         "name": "Андрея",
         "text": [
          "Андрея"
         ],
         "textposition": "top center",
         "type": "scatter",
         "x": [
          -3.436915874481201
         ],
         "y": [
          -1.7734906673431396
         ]
        },
        {
         "marker": {
          "color": "rgba(135, 206, 250, 0.6)",
          "line": {
           "color": "DarkSlateGrey",
           "width": 1
          },
          "size": 8
         },
         "mode": "markers+text",
         "name": "Андрею",
         "text": [
          "Андрею"
         ],
         "textposition": "top center",
         "type": "scatter",
         "x": [
          -3.259721040725708
         ],
         "y": [
          -1.559650182723999
         ]
        },
        {
         "marker": {
          "color": "rgba(135, 206, 250, 0.6)",
          "line": {
           "color": "DarkSlateGrey",
           "width": 1
          },
          "size": 8
         },
         "mode": "markers+text",
         "name": "дрей",
         "text": [
          "дрей"
         ],
         "textposition": "top center",
         "type": "scatter",
         "x": [
          -1.701321005821228
         ],
         "y": [
          -3.2887232303619385
         ]
        },
        {
         "marker": {
          "color": "rgba(135, 206, 250, 0.6)",
          "line": {
           "color": "DarkSlateGrey",
           "width": 1
          },
          "size": 8
         },
         "mode": "markers+text",
         "name": "Андреи",
         "text": [
          "Андреи"
         ],
         "textposition": "top center",
         "type": "scatter",
         "x": [
          -4.215098857879639
         ],
         "y": [
          -1.5585062503814697
         ]
        },
        {
         "marker": {
          "color": "rgba(135, 206, 250, 0.6)",
          "line": {
           "color": "DarkSlateGrey",
           "width": 1
          },
          "size": 8
         },
         "mode": "markers+text",
         "name": "Андреич",
         "text": [
          "Андреич"
         ],
         "textposition": "top center",
         "type": "scatter",
         "x": [
          -4.389828205108643
         ],
         "y": [
          -1.1929997205734253
         ]
        },
        {
         "marker": {
          "color": "rgba(135, 206, 250, 0.6)",
          "line": {
           "color": "DarkSlateGrey",
           "width": 1
          },
          "size": 8
         },
         "mode": "markers+text",
         "name": "Андреем",
         "text": [
          "Андреем"
         ],
         "textposition": "top center",
         "type": "scatter",
         "x": [
          -3.065617322921753
         ],
         "y": [
          -0.9929836392402649
         ]
        },
        {
         "marker": {
          "color": "rgba(135, 206, 250, 0.6)",
          "line": {
           "color": "DarkSlateGrey",
           "width": 1
          },
          "size": 8
         },
         "mode": "markers+text",
         "name": "Андреича",
         "text": [
          "Андреича"
         ],
         "textposition": "top center",
         "type": "scatter",
         "x": [
          -4.317235946655273
         ],
         "y": [
          -1.0288147926330566
         ]
        },
        {
         "marker": {
          "color": "rgba(135, 206, 250, 0.6)",
          "line": {
           "color": "DarkSlateGrey",
           "width": 1
          },
          "size": 8
         },
         "mode": "markers+text",
         "name": "Андреевской",
         "text": [
          "Андреевской"
         ],
         "textposition": "top center",
         "type": "scatter",
         "x": [
          -2.6769518852233887
         ],
         "y": [
          -0.42213571071624756
         ]
        },
        {
         "marker": {
          "color": "rgba(135, 206, 250, 0.6)",
          "line": {
           "color": "DarkSlateGrey",
           "width": 1
          },
          "size": 8
         },
         "mode": "markers+text",
         "name": "Андреичу",
         "text": [
          "Андреичу"
         ],
         "textposition": "top center",
         "type": "scatter",
         "x": [
          -4.476296901702881
         ],
         "y": [
          -1.1400655508041382
         ]
        },
        {
         "marker": {
          "color": "rgba(135, 206, 250, 0.6)",
          "line": {
           "color": "DarkSlateGrey",
           "width": 1
          },
          "size": 8
         },
         "mode": "markers+text",
         "name": "Aндрей",
         "text": [
          "Aндрей"
         ],
         "textposition": "top center",
         "type": "scatter",
         "x": [
          -1.81988525390625
         ],
         "y": [
          -2.32930588722229
         ]
        },
        {
         "marker": {
          "color": "rgba(135, 206, 250, 0.6)",
          "line": {
           "color": "DarkSlateGrey",
           "width": 1
          },
          "size": 8
         },
         "mode": "markers+text",
         "name": "Андреичем",
         "text": [
          "Андреичем"
         ],
         "textposition": "top center",
         "type": "scatter",
         "x": [
          -4.4007768630981445
         ],
         "y": [
          -1.070664882659912
         ]
        },
        {
         "marker": {
          "color": "rgba(135, 206, 250, 0.6)",
          "line": {
           "color": "DarkSlateGrey",
           "width": 1
          },
          "size": 8
         },
         "mode": "markers+text",
         "name": "Андреевич",
         "text": [
          "Андреевич"
         ],
         "textposition": "top center",
         "type": "scatter",
         "x": [
          -2.894131660461426
         ],
         "y": [
          -0.2405373454093933
         ]
        },
        {
         "marker": {
          "color": "rgba(135, 206, 250, 0.6)",
          "line": {
           "color": "DarkSlateGrey",
           "width": 1
          },
          "size": 8
         },
         "mode": "markers+text",
         "name": "Андреевичу",
         "text": [
          "Андреевичу"
         ],
         "textposition": "top center",
         "type": "scatter",
         "x": [
          -2.970733165740967
         ],
         "y": [
          -0.22510133683681488
         ]
        },
        {
         "marker": {
          "color": "rgba(135, 206, 250, 0.6)",
          "line": {
           "color": "DarkSlateGrey",
           "width": 1
          },
          "size": 8
         },
         "mode": "markers+text",
         "name": "Андреевича",
         "text": [
          "Андреевича"
         ],
         "textposition": "top center",
         "type": "scatter",
         "x": [
          -2.8947436809539795
         ],
         "y": [
          -0.16561293601989746
         ]
        },
        {
         "marker": {
          "color": "rgba(135, 206, 250, 0.6)",
          "line": {
           "color": "DarkSlateGrey",
           "width": 1
          },
          "size": 8
         },
         "mode": "markers+text",
         "name": "брей",
         "text": [
          "брей"
         ],
         "textposition": "top center",
         "type": "scatter",
         "x": [
          5.364137649536133
         ],
         "y": [
          0.8532394766807556
         ]
        },
        {
         "marker": {
          "color": "rgba(135, 206, 250, 0.6)",
          "line": {
           "color": "DarkSlateGrey",
           "width": 1
          },
          "size": 8
         },
         "mode": "markers+text",
         "name": "скорей",
         "text": [
          "скорей"
         ],
         "textposition": "top center",
         "type": "scatter",
         "x": [
          4.490288257598877
         ],
         "y": [
          -1.006078839302063
         ]
        },
        {
         "marker": {
          "color": "rgba(135, 206, 250, 0.6)",
          "line": {
           "color": "DarkSlateGrey",
           "width": 1
          },
          "size": 8
         },
         "mode": "markers+text",
         "name": "[  Андрей,]",
         "text": [
          "[  Андрей,]"
         ],
         "textposition": "top center",
         "type": "scatter",
         "x": [
          0.5737243890762329
         ],
         "y": [
          1.9303728342056274
         ]
        },
        {
         "marker": {
          "color": "rgba(135, 206, 250, 0.6)",
          "line": {
           "color": "DarkSlateGrey",
           "width": 1
          },
          "size": 8
         },
         "mode": "markers+text",
         "name": "дверей",
         "text": [
          "дверей"
         ],
         "textposition": "top center",
         "type": "scatter",
         "x": [
          4.224436283111572
         ],
         "y": [
          0.5090993046760559
         ]
        },
        {
         "marker": {
          "color": "rgba(135, 206, 250, 0.6)",
          "line": {
           "color": "DarkSlateGrey",
           "width": 1
          },
          "size": 8
         },
         "mode": "markers+text",
         "name": "поскорей",
         "text": [
          "поскорей"
         ],
         "textposition": "top center",
         "type": "scatter",
         "x": [
          4.343918323516846
         ],
         "y": [
          -0.8854533433914185
         ]
        },
        {
         "marker": {
          "color": "rgba(135, 206, 250, 0.6)",
          "line": {
           "color": "DarkSlateGrey",
           "width": 1
          },
          "size": 8
         },
         "mode": "markers+text",
         "name": "Андрюши",
         "text": [
          "Андрюши"
         ],
         "textposition": "top center",
         "type": "scatter",
         "x": [
          -4.9048333168029785
         ],
         "y": [
          1.7551251649856567
         ]
        },
        {
         "marker": {
          "color": "rgba(135, 206, 250, 0.6)",
          "line": {
           "color": "DarkSlateGrey",
           "width": 1
          },
          "size": 8
         },
         "mode": "markers+text",
         "name": "лекарей",
         "text": [
          "лекарей"
         ],
         "textposition": "top center",
         "type": "scatter",
         "x": [
          5.295767307281494
         ],
         "y": [
          2.3555774688720703
         ]
        },
        {
         "marker": {
          "color": "rgba(135, 206, 250, 0.6)",
          "line": {
           "color": "DarkSlateGrey",
           "width": 1
          },
          "size": 8
         },
         "mode": "markers+text",
         "name": "батарей",
         "text": [
          "батарей"
         ],
         "textposition": "top center",
         "type": "scatter",
         "x": [
          4.783769130706787
         ],
         "y": [
          2.853965997695923
         ]
        },
        {
         "marker": {
          "color": "rgba(135, 206, 250, 0.6)",
          "line": {
           "color": "DarkSlateGrey",
           "width": 1
          },
          "size": 8
         },
         "mode": "markers+text",
         "name": "Андрюшу",
         "text": [
          "Андрюшу"
         ],
         "textposition": "top center",
         "type": "scatter",
         "x": [
          -4.88843297958374
         ],
         "y": [
          1.7716771364212036
         ]
        },
        {
         "marker": {
          "color": "rgba(135, 206, 250, 0.6)",
          "line": {
           "color": "DarkSlateGrey",
           "width": 1
          },
          "size": 8
         },
         "mode": "markers+text",
         "name": "Борей",
         "text": [
          "Борей"
         ],
         "textposition": "top center",
         "type": "scatter",
         "x": [
          4.818061351776123
         ],
         "y": [
          -1.1399292945861816
         ]
        },
        {
         "marker": {
          "color": "rgba(135, 206, 250, 0.6)",
          "line": {
           "color": "DarkSlateGrey",
           "width": 1
          },
          "size": 8
         },
         "mode": "markers+text",
         "name": "левей",
         "text": [
          "левей"
         ],
         "textposition": "top center",
         "type": "scatter",
         "x": [
          6.434197425842285
         ],
         "y": [
          -0.20430508255958557
         ]
        },
        {
         "marker": {
          "color": "rgba(135, 206, 250, 0.6)",
          "line": {
           "color": "DarkSlateGrey",
           "width": 1
          },
          "size": 8
         },
         "mode": "markers+text",
         "name": "[  Андрей, уже!]",
         "text": [
          "[  Андрей, уже!]"
         ],
         "textposition": "top center",
         "type": "scatter",
         "x": [
          0.8293865323066711
         ],
         "y": [
          1.687290906906128
         ]
        },
        {
         "marker": {
          "color": "rgba(135, 206, 250, 0.6)",
          "line": {
           "color": "DarkSlateGrey",
           "width": 1
          },
          "size": 8
         },
         "mode": "markers+text",
         "name": "мудрейших",
         "text": [
          "мудрейших"
         ],
         "textposition": "top center",
         "type": "scatter",
         "x": [
          0.07251104712486267
         ],
         "y": [
          -1.439812183380127
         ]
        },
        {
         "marker": {
          "color": "rgba(135, 206, 250, 0.6)",
          "line": {
           "color": "DarkSlateGrey",
           "width": 1
          },
          "size": 8
         },
         "mode": "markers+text",
         "name": "зарей",
         "text": [
          "зарей"
         ],
         "textposition": "top center",
         "type": "scatter",
         "x": [
          5.9853692054748535
         ],
         "y": [
          2.773569345474243
         ]
        },
        {
         "marker": {
          "color": "rgba(135, 206, 250, 0.6)",
          "line": {
           "color": "DarkSlateGrey",
           "width": 1
          },
          "size": 8
         },
         "mode": "markers+text",
         "name": "Злодей",
         "text": [
          "Злодей"
         ],
         "textposition": "top center",
         "type": "scatter",
         "x": [
          2.6075599193573
         ],
         "y": [
          5.6035237312316895
         ]
        },
        {
         "marker": {
          "color": "rgba(135, 206, 250, 0.6)",
          "line": {
           "color": "DarkSlateGrey",
           "width": 1
          },
          "size": 8
         },
         "mode": "markers+text",
         "name": "моей",
         "text": [
          "моей"
         ],
         "textposition": "top center",
         "type": "scatter",
         "x": [
          0.3104696273803711
         ],
         "y": [
          6.229211807250977
         ]
        },
        {
         "marker": {
          "color": "rgba(135, 206, 250, 0.6)",
          "line": {
           "color": "DarkSlateGrey",
           "width": 1
          },
          "size": 8
         },
         "mode": "markers+text",
         "name": "[  Отец! Андрей?]",
         "text": [
          "[  Отец! Андрей?]"
         ],
         "textposition": "top center",
         "type": "scatter",
         "x": [
          0.6467444896697998
         ],
         "y": [
          1.8740674257278442
         ]
        },
        {
         "marker": {
          "color": "rgba(135, 206, 250, 0.6)",
          "line": {
           "color": "DarkSlateGrey",
           "width": 1
          },
          "size": 8
         },
         "mode": "markers+text",
         "name": "матерей",
         "text": [
          "матерей"
         ],
         "textposition": "top center",
         "type": "scatter",
         "x": [
          3.802713632583618
         ],
         "y": [
          0.8288789391517639
         ]
        },
        {
         "marker": {
          "color": "rgba(135, 206, 250, 0.6)",
          "line": {
           "color": "DarkSlateGrey",
           "width": 1
          },
          "size": 8
         },
         "mode": "markers+text",
         "name": "делалась",
         "text": [
          "делалась"
         ],
         "textposition": "top center",
         "type": "scatter",
         "x": [
          -2.4225621223449707
         ],
         "y": [
          2.7043142318725586
         ]
        },
        {
         "marker": {
          "color": "rgba(135, 206, 250, 0.6)",
          "line": {
           "color": "DarkSlateGrey",
           "width": 1
          },
          "size": 8
         },
         "mode": "markers+text",
         "name": "[  Андрей, почему не предупредили меня?]",
         "text": [
          "[  Андрей, почему не предупредили меня?]"
         ],
         "textposition": "top center",
         "type": "scatter",
         "x": [
          0.9863702058792114
         ],
         "y": [
          1.2668813467025757
         ]
        },
        {
         "marker": {
          "color": "rgba(135, 206, 250, 0.6)",
          "line": {
           "color": "DarkSlateGrey",
           "width": 1
          },
          "size": 8
         },
         "mode": "markers+text",
         "name": "Андг",
         "text": [
          "Андг"
         ],
         "textposition": "top center",
         "type": "scatter",
         "x": [
          -4.353147506713867
         ],
         "y": [
          0.5134333968162537
         ]
        },
        {
         "marker": {
          "color": "rgba(135, 206, 250, 0.6)",
          "line": {
           "color": "DarkSlateGrey",
           "width": 1
          },
          "size": 8
         },
         "mode": "markers+text",
         "name": "тварей",
         "text": [
          "тварей"
         ],
         "textposition": "top center",
         "type": "scatter",
         "x": [
          5.7651543617248535
         ],
         "y": [
          2.6111867427825928
         ]
        },
        {
         "marker": {
          "color": "rgba(135, 206, 250, 0.6)",
          "line": {
           "color": "DarkSlateGrey",
           "width": 1
          },
          "size": 8
         },
         "mode": "markers+text",
         "name": "Андрюша",
         "text": [
          "Андрюша"
         ],
         "textposition": "top center",
         "type": "scatter",
         "x": [
          -4.86817741394043
         ],
         "y": [
          1.7293415069580078
         ]
        },
        {
         "marker": {
          "color": "rgba(135, 206, 250, 0.6)",
          "line": {
           "color": "DarkSlateGrey",
           "width": 1
          },
          "size": 8
         },
         "mode": "markers+text",
         "name": "Англией",
         "text": [
          "Англией"
         ],
         "textposition": "top center",
         "type": "scatter",
         "x": [
          1.3550225496292114
         ],
         "y": [
          -2.346325397491455
         ]
        },
        {
         "marker": {
          "color": "rgba(135, 206, 250, 0.6)",
          "line": {
           "color": "DarkSlateGrey",
           "width": 1
          },
          "size": 8
         },
         "mode": "markers+text",
         "name": "[  Андрей, ради Бога!]",
         "text": [
          "[  Андрей, ради Бога!]"
         ],
         "textposition": "top center",
         "type": "scatter",
         "x": [
          0.9625388979911804
         ],
         "y": [
          1.5240058898925781
         ]
        },
        {
         "marker": {
          "color": "rgba(135, 206, 250, 0.6)",
          "line": {
           "color": "DarkSlateGrey",
           "width": 1
          },
          "size": 8
         },
         "mode": "markers+text",
         "name": "зверей",
         "text": [
          "зверей"
         ],
         "textposition": "top center",
         "type": "scatter",
         "x": [
          4.381529808044434
         ],
         "y": [
          0.548484742641449
         ]
        },
        {
         "marker": {
          "color": "rgba(135, 206, 250, 0.6)",
          "line": {
           "color": "DarkSlateGrey",
           "width": 1
          },
          "size": 8
         },
         "mode": "markers+text",
         "name": "прелестей",
         "text": [
          "прелестей"
         ],
         "textposition": "top center",
         "type": "scatter",
         "x": [
          1.0254871845245361
         ],
         "y": [
          0.08960849046707153
         ]
        },
        {
         "marker": {
          "color": "rgba(135, 206, 250, 0.6)",
          "line": {
           "color": "DarkSlateGrey",
           "width": 1
          },
          "size": 8
         },
         "mode": "markers+text",
         "name": "делала",
         "text": [
          "делала"
         ],
         "textposition": "top center",
         "type": "scatter",
         "x": [
          -2.6754722595214844
         ],
         "y": [
          2.928389549255371
         ]
        },
        {
         "marker": {
          "color": "rgba(135, 206, 250, 0.6)",
          "line": {
           "color": "DarkSlateGrey",
           "width": 1
          },
          "size": 8
         },
         "mode": "markers+text",
         "name": "царей",
         "text": [
          "царей"
         ],
         "textposition": "top center",
         "type": "scatter",
         "x": [
          5.812856674194336
         ],
         "y": [
          3.354416608810425
         ]
        },
        {
         "marker": {
          "color": "rgba(135, 206, 250, 0.6)",
          "line": {
           "color": "DarkSlateGrey",
           "width": 1
          },
          "size": 8
         },
         "mode": "markers+text",
         "name": "вышедшей",
         "text": [
          "вышедшей"
         ],
         "textposition": "top center",
         "type": "scatter",
         "x": [
          1.5181586742401123
         ],
         "y": [
          2.3338828086853027
         ]
        },
        {
         "marker": {
          "color": "rgba(135, 206, 250, 0.6)",
          "line": {
           "color": "DarkSlateGrey",
           "width": 1
          },
          "size": 8
         },
         "mode": "markers+text",
         "name": "потерей",
         "text": [
          "потерей"
         ],
         "textposition": "top center",
         "type": "scatter",
         "x": [
          3.831730842590332
         ],
         "y": [
          0.7664809823036194
         ]
        },
        {
         "marker": {
          "color": "rgba(135, 206, 250, 0.6)",
          "line": {
           "color": "DarkSlateGrey",
           "width": 1
          },
          "size": 8
         },
         "mode": "markers+text",
         "name": "[  сливки настоящего хорошего общества, цвет интеллектуальной эссенции петербургского общества,]",
         "text": [
          "[  сливки настоящего хорошего общества, цвет интеллектуальной эссенции петербургского общества,]"
         ],
         "textposition": "top center",
         "type": "scatter",
         "x": [
          1.0780155658721924
         ],
         "y": [
          1.1639530658721924
         ]
        },
        {
         "marker": {
          "color": "rgba(135, 206, 250, 0.6)",
          "line": {
           "color": "DarkSlateGrey",
           "width": 1
          },
          "size": 8
         },
         "mode": "markers+text",
         "name": "торговлей",
         "text": [
          "торговлей"
         ],
         "textposition": "top center",
         "type": "scatter",
         "x": [
          0.8944674134254456
         ],
         "y": [
          3.0434584617614746
         ]
        },
        {
         "marker": {
          "color": "rgba(135, 206, 250, 0.6)",
          "line": {
           "color": "DarkSlateGrey",
           "width": 1
          },
          "size": 8
         },
         "mode": "markers+text",
         "name": "слушателей",
         "text": [
          "слушателей"
         ],
         "textposition": "top center",
         "type": "scatter",
         "x": [
          2.0036988258361816
         ],
         "y": [
          -0.12757378816604614
         ]
        },
        {
         "marker": {
          "color": "rgba(135, 206, 250, 0.6)",
          "line": {
           "color": "DarkSlateGrey",
           "width": 1
          },
          "size": 8
         },
         "mode": "markers+text",
         "name": "дочерей",
         "text": [
          "дочерей"
         ],
         "textposition": "top center",
         "type": "scatter",
         "x": [
          4.233105182647705
         ],
         "y": [
          0.9133700132369995
         ]
        },
        {
         "marker": {
          "color": "rgba(135, 206, 250, 0.6)",
          "line": {
           "color": "DarkSlateGrey",
           "width": 1
          },
          "size": 8
         },
         "mode": "markers+text",
         "name": "государей",
         "text": [
          "государей"
         ],
         "textposition": "top center",
         "type": "scatter",
         "x": [
          3.840924024581909
         ],
         "y": [
          2.3222079277038574
         ]
        },
        {
         "marker": {
          "color": "rgba(135, 206, 250, 0.6)",
          "line": {
           "color": "DarkSlateGrey",
           "width": 1
          },
          "size": 8
         },
         "mode": "markers+text",
         "name": "князей",
         "text": [
          "князей"
         ],
         "textposition": "top center",
         "type": "scatter",
         "x": [
          2.960952043533325
         ],
         "y": [
          2.698439598083496
         ]
        },
        {
         "marker": {
          "color": "rgba(135, 206, 250, 0.6)",
          "line": {
           "color": "DarkSlateGrey",
           "width": 1
          },
          "size": 8
         },
         "mode": "markers+text",
         "name": "[  Ax, Андрей! Какое сокровище твоя жена,]",
         "text": [
          "[  Ax, Андрей! Какое сокровище твоя жена,]"
         ],
         "textposition": "top center",
         "type": "scatter",
         "x": [
          0.9293546080589294
         ],
         "y": [
          1.2913148403167725
         ]
        },
        {
         "marker": {
          "color": "rgba(135, 206, 250, 0.6)",
          "line": {
           "color": "DarkSlateGrey",
           "width": 1
          },
          "size": 8
         },
         "mode": "markers+text",
         "name": "ней",
         "text": [
          "ней"
         ],
         "textposition": "top center",
         "type": "scatter",
         "x": [
          -1.2071397304534912
         ],
         "y": [
          4.575148105621338
         ]
        },
        {
         "marker": {
          "color": "rgba(135, 206, 250, 0.6)",
          "line": {
           "color": "DarkSlateGrey",
           "width": 1
          },
          "size": 8
         },
         "mode": "markers+text",
         "name": "тысячей",
         "text": [
          "тысячей"
         ],
         "textposition": "top center",
         "type": "scatter",
         "x": [
          1.8308433294296265
         ],
         "y": [
          0.9257873892784119
         ]
        },
        {
         "marker": {
          "color": "rgba(135, 206, 250, 0.6)",
          "line": {
           "color": "DarkSlateGrey",
           "width": 1
          },
          "size": 8
         },
         "mode": "markers+text",
         "name": "Анисьей",
         "text": [
          "Анисьей"
         ],
         "textposition": "top center",
         "type": "scatter",
         "x": [
          1.5080609321594238
         ],
         "y": [
          -1.59315824508667
         ]
        },
        {
         "marker": {
          "color": "rgba(135, 206, 250, 0.6)",
          "line": {
           "color": "DarkSlateGrey",
           "width": 1
          },
          "size": 8
         },
         "mode": "markers+text",
         "name": "Александре",
         "text": [
          "Александре"
         ],
         "textposition": "top center",
         "type": "scatter",
         "x": [
          -0.19815106689929962
         ],
         "y": [
          2.042677402496338
         ]
        },
        {
         "marker": {
          "color": "rgba(135, 206, 250, 0.6)",
          "line": {
           "color": "DarkSlateGrey",
           "width": 1
          },
          "size": 8
         },
         "mode": "markers+text",
         "name": "древнего",
         "text": [
          "древнего"
         ],
         "textposition": "top center",
         "type": "scatter",
         "x": [
          -0.4687883257865906
         ],
         "y": [
          -2.9912877082824707
         ]
        },
        {
         "marker": {
          "color": "rgba(135, 206, 250, 0.6)",
          "line": {
           "color": "DarkSlateGrey",
           "width": 1
          },
          "size": 8
         },
         "mode": "markers+text",
         "name": "фонарей",
         "text": [
          "фонарей"
         ],
         "textposition": "top center",
         "type": "scatter",
         "x": [
          4.759708881378174
         ],
         "y": [
          2.572202205657959
         ]
        },
        {
         "marker": {
          "color": "rgba(135, 206, 250, 0.6)",
          "line": {
           "color": "DarkSlateGrey",
           "width": 1
          },
          "size": 8
         },
         "mode": "markers+text",
         "name": "Сергей",
         "text": [
          "Сергей"
         ],
         "textposition": "top center",
         "type": "scatter",
         "x": [
          2.0147438049316406
         ],
         "y": [
          1.8924498558044434
         ]
        },
        {
         "marker": {
          "color": "rgba(135, 206, 250, 0.6)",
          "line": {
           "color": "DarkSlateGrey",
           "width": 1
          },
          "size": 8
         },
         "mode": "markers+text",
         "name": "рыцарей",
         "text": [
          "рыцарей"
         ],
         "textposition": "top center",
         "type": "scatter",
         "x": [
          5.7287397384643555
         ],
         "y": [
          3.4567201137542725
         ]
        },
        {
         "marker": {
          "color": "rgba(135, 206, 250, 0.6)",
          "line": {
           "color": "DarkSlateGrey",
           "width": 1
          },
          "size": 8
         },
         "mode": "markers+text",
         "name": "кесарей",
         "text": [
          "кесарей"
         ],
         "textposition": "top center",
         "type": "scatter",
         "x": [
          4.532851696014404
         ],
         "y": [
          3.426787853240967
         ]
        },
        {
         "marker": {
          "color": "rgba(135, 206, 250, 0.6)",
          "line": {
           "color": "DarkSlateGrey",
           "width": 1
          },
          "size": 8
         },
         "mode": "markers+text",
         "name": "случайностей",
         "text": [
          "случайностей"
         ],
         "textposition": "top center",
         "type": "scatter",
         "x": [
          0.9159754514694214
         ],
         "y": [
          0.18920476734638214
         ]
        },
        {
         "marker": {
          "color": "rgba(135, 206, 250, 0.6)",
          "line": {
           "color": "DarkSlateGrey",
           "width": 1
          },
          "size": 8
         },
         "mode": "markers+text",
         "name": "жителей",
         "text": [
          "жителей"
         ],
         "textposition": "top center",
         "type": "scatter",
         "x": [
          2.360812187194824
         ],
         "y": [
          -0.36369508504867554
         ]
        },
        {
         "marker": {
          "color": "rgba(135, 206, 250, 0.6)",
          "line": {
           "color": "DarkSlateGrey",
           "width": 1
          },
          "size": 8
         },
         "mode": "markers+text",
         "name": "сластей",
         "text": [
          "сластей"
         ],
         "textposition": "top center",
         "type": "scatter",
         "x": [
          0.9052184820175171
         ],
         "y": [
          -0.5903973579406738
         ]
        },
        {
         "marker": {
          "color": "rgba(135, 206, 250, 0.6)",
          "line": {
           "color": "DarkSlateGrey",
           "width": 1
          },
          "size": 8
         },
         "mode": "markers+text",
         "name": "зашевелилась",
         "text": [
          "зашевелилась"
         ],
         "textposition": "top center",
         "type": "scatter",
         "x": [
          -0.9821165204048157
         ],
         "y": [
          2.5132834911346436
         ]
        },
        {
         "marker": {
          "color": "rgba(135, 206, 250, 0.6)",
          "line": {
           "color": "DarkSlateGrey",
           "width": 1
          },
          "size": 8
         },
         "mode": "markers+text",
         "name": "толки",
         "text": [
          "толки"
         ],
         "textposition": "top center",
         "type": "scatter",
         "x": [
          -0.4642626941204071
         ],
         "y": [
          -0.2181621938943863
         ]
        },
        {
         "marker": {
          "color": "rgba(135, 206, 250, 0.6)",
          "line": {
           "color": "DarkSlateGrey",
           "width": 1
          },
          "size": 8
         },
         "mode": "markers+text",
         "name": "выпей",
         "text": [
          "выпей"
         ],
         "textposition": "top center",
         "type": "scatter",
         "x": [
          2.710994243621826
         ],
         "y": [
          -2.7884843349456787
         ]
        },
        {
         "marker": {
          "color": "rgba(135, 206, 250, 0.6)",
          "line": {
           "color": "DarkSlateGrey",
           "width": 1
          },
          "size": 8
         },
         "mode": "markers+text",
         "name": "Ларрей",
         "text": [
          "Ларрей"
         ],
         "textposition": "top center",
         "type": "scatter",
         "x": [
          3.0258965492248535
         ],
         "y": [
          1.8797717094421387
         ]
        },
        {
         "marker": {
          "color": "rgba(135, 206, 250, 0.6)",
          "line": {
           "color": "DarkSlateGrey",
           "width": 1
          },
          "size": 8
         },
         "mode": "markers+text",
         "name": "служившей",
         "text": [
          "служившей"
         ],
         "textposition": "top center",
         "type": "scatter",
         "x": [
          0.47200730443000793
         ],
         "y": [
          0.04319990426301956
         ]
        },
        {
         "marker": {
          "color": "rgba(135, 206, 250, 0.6)",
          "line": {
           "color": "DarkSlateGrey",
           "width": 1
          },
          "size": 8
         },
         "mode": "markers+text",
         "name": "своей",
         "text": [
          "своей"
         ],
         "textposition": "top center",
         "type": "scatter",
         "x": [
          0.2919071316719055
         ],
         "y": [
          5.900589942932129
         ]
        },
        {
         "marker": {
          "color": "rgba(135, 206, 250, 0.6)",
          "line": {
           "color": "DarkSlateGrey",
           "width": 1
          },
          "size": 8
         },
         "mode": "markers+text",
         "name": "злодей",
         "text": [
          "злодей"
         ],
         "textposition": "top center",
         "type": "scatter",
         "x": [
          2.604839324951172
         ],
         "y": [
          5.5619282722473145
         ]
        },
        {
         "marker": {
          "color": "rgba(135, 206, 250, 0.6)",
          "line": {
           "color": "DarkSlateGrey",
           "width": 1
          },
          "size": 8
         },
         "mode": "markers+text",
         "name": "мудреного",
         "text": [
          "мудреного"
         ],
         "textposition": "top center",
         "type": "scatter",
         "x": [
          0.006049935705959797
         ],
         "y": [
          -1.5050890445709229
         ]
        },
        {
         "marker": {
          "color": "rgba(135, 206, 250, 0.6)",
          "line": {
           "color": "DarkSlateGrey",
           "width": 1
          },
          "size": 8
         },
         "mode": "markers+text",
         "name": "кушей",
         "text": [
          "кушей"
         ],
         "textposition": "top center",
         "type": "scatter",
         "x": [
          2.906217098236084
         ],
         "y": [
          3.9415664672851562
         ]
        },
        {
         "marker": {
          "color": "rgba(135, 206, 250, 0.6)",
          "line": {
           "color": "DarkSlateGrey",
           "width": 1
          },
          "size": 8
         },
         "mode": "markers+text",
         "name": "направилась",
         "text": [
          "направилась"
         ],
         "textposition": "top center",
         "type": "scatter",
         "x": [
          -0.9976513385772705
         ],
         "y": [
          2.2151057720184326
         ]
        },
        {
         "marker": {
          "color": "rgba(135, 206, 250, 0.6)",
          "line": {
           "color": "DarkSlateGrey",
           "width": 1
          },
          "size": 8
         },
         "mode": "markers+text",
         "name": "умершей",
         "text": [
          "умершей"
         ],
         "textposition": "top center",
         "type": "scatter",
         "x": [
          2.0517945289611816
         ],
         "y": [
          3.4654247760772705
         ]
        },
        {
         "marker": {
          "color": "rgba(135, 206, 250, 0.6)",
          "line": {
           "color": "DarkSlateGrey",
           "width": 1
          },
          "size": 8
         },
         "mode": "markers+text",
         "name": "твоей",
         "text": [
          "твоей"
         ],
         "textposition": "top center",
         "type": "scatter",
         "x": [
          0.2848251163959503
         ],
         "y": [
          5.9531755447387695
         ]
        },
        {
         "marker": {
          "color": "rgba(135, 206, 250, 0.6)",
          "line": {
           "color": "DarkSlateGrey",
           "width": 1
          },
          "size": 8
         },
         "mode": "markers+text",
         "name": "шевелилась",
         "text": [
          "шевелилась"
         ],
         "textposition": "top center",
         "type": "scatter",
         "x": [
          -1.1362767219543457
         ],
         "y": [
          2.681185483932495
         ]
        },
        {
         "marker": {
          "color": "rgba(135, 206, 250, 0.6)",
          "line": {
           "color": "DarkSlateGrey",
           "width": 1
          },
          "size": 8
         },
         "mode": "markers+text",
         "name": "ей",
         "text": [
          "ей"
         ],
         "textposition": "top center",
         "type": "scatter",
         "x": [
          6.7579121589660645
         ],
         "y": [
          -0.2485077679157257
         ]
        },
        {
         "marker": {
          "color": "rgba(135, 206, 250, 0.6)",
          "line": {
           "color": "DarkSlateGrey",
           "width": 1
          },
          "size": 8
         },
         "mode": "markers+text",
         "name": "Анну",
         "text": [
          "Анну"
         ],
         "textposition": "top center",
         "type": "scatter",
         "x": [
          -1.3620762825012207
         ],
         "y": [
          -0.9590069651603699
         ]
        },
        {
         "marker": {
          "color": "rgba(135, 206, 250, 0.6)",
          "line": {
           "color": "DarkSlateGrey",
           "width": 1
          },
          "size": 8
         },
         "mode": "markers+text",
         "name": "деятельностей",
         "text": [
          "деятельностей"
         ],
         "textposition": "top center",
         "type": "scatter",
         "x": [
          0.48380380868911743
         ],
         "y": [
          0.6177285313606262
         ]
        },
        {
         "marker": {
          "color": "rgba(135, 206, 250, 0.6)",
          "line": {
           "color": "DarkSlateGrey",
           "width": 1
          },
          "size": 8
         },
         "mode": "markers+text",
         "name": "монастырей",
         "text": [
          "монастырей"
         ],
         "textposition": "top center",
         "type": "scatter",
         "x": [
          2.2173380851745605
         ],
         "y": [
          1.2818267345428467
         ]
        },
        {
         "marker": {
          "color": "rgba(135, 206, 250, 0.6)",
          "line": {
           "color": "DarkSlateGrey",
           "width": 1
          },
          "size": 8
         },
         "mode": "markers+text",
         "name": "действительного",
         "text": [
          "действительного"
         ],
         "textposition": "top center",
         "type": "scatter",
         "x": [
          0.17218656837940216
         ],
         "y": [
          1.2073163986206055
         ]
        },
        {
         "marker": {
          "color": "rgba(135, 206, 250, 0.6)",
          "line": {
           "color": "DarkSlateGrey",
           "width": 1
          },
          "size": 8
         },
         "mode": "markers+text",
         "name": "древним",
         "text": [
          "древним"
         ],
         "textposition": "top center",
         "type": "scatter",
         "x": [
          -0.49764078855514526
         ],
         "y": [
          -3.161029577255249
         ]
        },
        {
         "marker": {
          "color": "rgba(135, 206, 250, 0.6)",
          "line": {
           "color": "DarkSlateGrey",
           "width": 1
          },
          "size": 8
         },
         "mode": "markers+text",
         "name": "волновалась",
         "text": [
          "волновалась"
         ],
         "textposition": "top center",
         "type": "scatter",
         "x": [
          -1.4765031337738037
         ],
         "y": [
          1.7302281856536865
         ]
        },
        {
         "marker": {
          "color": "rgba(135, 206, 250, 0.6)",
          "line": {
           "color": "DarkSlateGrey",
           "width": 1
          },
          "size": 8
         },
         "mode": "markers+text",
         "name": "малейшей",
         "text": [
          "малейшей"
         ],
         "textposition": "top center",
         "type": "scatter",
         "x": [
          1.8758935928344727
         ],
         "y": [
          2.904087781906128
         ]
        },
        {
         "marker": {
          "color": "rgba(135, 206, 250, 0.6)",
          "line": {
           "color": "DarkSlateGrey",
           "width": 1
          },
          "size": 8
         },
         "mode": "markers+text",
         "name": "участвовала",
         "text": [
          "участвовала"
         ],
         "textposition": "top center",
         "type": "scatter",
         "x": [
          -0.9828590750694275
         ],
         "y": [
          0.8517926335334778
         ]
        },
        {
         "marker": {
          "color": "rgba(135, 206, 250, 0.6)",
          "line": {
           "color": "DarkSlateGrey",
           "width": 1
          },
          "size": 8
         },
         "mode": "markers+text",
         "name": "оранжерей",
         "text": [
          "оранжерей"
         ],
         "textposition": "top center",
         "type": "scatter",
         "x": [
          2.9685897827148438
         ],
         "y": [
          0.7744132876396179
         ]
        },
        {
         "marker": {
          "color": "rgba(135, 206, 250, 0.6)",
          "line": {
           "color": "DarkSlateGrey",
           "width": 1
          },
          "size": 8
         },
         "mode": "markers+text",
         "name": "людей",
         "text": [
          "людей"
         ],
         "textposition": "top center",
         "type": "scatter",
         "x": [
          -0.15277473628520966
         ],
         "y": [
          3.8490521907806396
         ]
        },
        {
         "marker": {
          "color": "rgba(135, 206, 250, 0.6)",
          "line": {
           "color": "DarkSlateGrey",
           "width": 1
          },
          "size": 8
         },
         "mode": "markers+text",
         "name": "разрешалась",
         "text": [
          "разрешалась"
         ],
         "textposition": "top center",
         "type": "scatter",
         "x": [
          -2.0107851028442383
         ],
         "y": [
          1.8878785371780396
         ]
        },
        {
         "marker": {
          "color": "rgba(135, 206, 250, 0.6)",
          "line": {
           "color": "DarkSlateGrey",
           "width": 1
          },
          "size": 8
         },
         "mode": "markers+text",
         "name": "светлей",
         "text": [
          "светлей"
         ],
         "textposition": "top center",
         "type": "scatter",
         "x": [
          1.2733103036880493
         ],
         "y": [
          3.9424657821655273
         ]
        },
        {
         "marker": {
          "color": "rgba(135, 206, 250, 0.6)",
          "line": {
           "color": "DarkSlateGrey",
           "width": 1
          },
          "size": 8
         },
         "mode": "markers+text",
         "name": "значительней",
         "text": [
          "значительней"
         ],
         "textposition": "top center",
         "type": "scatter",
         "x": [
          0.19369515776634216
         ],
         "y": [
          1.008776068687439
         ]
        },
        {
         "marker": {
          "color": "rgba(135, 206, 250, 0.6)",
          "line": {
           "color": "DarkSlateGrey",
           "width": 1
          },
          "size": 8
         },
         "mode": "markers+text",
         "name": "Действия",
         "text": [
          "Действия"
         ],
         "textposition": "top center",
         "type": "scatter",
         "x": [
          0.09375660866498947
         ],
         "y": [
          2.960143566131592
         ]
        },
        {
         "marker": {
          "color": "rgba(135, 206, 250, 0.6)",
          "line": {
           "color": "DarkSlateGrey",
           "width": 1
          },
          "size": 8
         },
         "mode": "markers+text",
         "name": "решалась",
         "text": [
          "решалась"
         ],
         "textposition": "top center",
         "type": "scatter",
         "x": [
          -2.1421866416931152
         ],
         "y": [
          1.9104012250900269
         ]
        },
        {
         "marker": {
          "color": "rgba(135, 206, 250, 0.6)",
          "line": {
           "color": "DarkSlateGrey",
           "width": 1
          },
          "size": 8
         },
         "mode": "markers+text",
         "name": "речей",
         "text": [
          "речей"
         ],
         "textposition": "top center",
         "type": "scatter",
         "x": [
          3.140421152114868
         ],
         "y": [
          -1.2798192501068115
         ]
        },
        {
         "marker": {
          "color": "rgba(135, 206, 250, 0.6)",
          "line": {
           "color": "DarkSlateGrey",
           "width": 1
          },
          "size": 8
         },
         "mode": "markers+text",
         "name": "выговаривала",
         "text": [
          "выговаривала"
         ],
         "textposition": "top center",
         "type": "scatter",
         "x": [
          -0.7202791571617126
         ],
         "y": [
          0.9386680722236633
         ]
        },
        {
         "marker": {
          "color": "rgba(135, 206, 250, 0.6)",
          "line": {
           "color": "DarkSlateGrey",
           "width": 1
          },
          "size": 8
         },
         "mode": "markers+text",
         "name": "поздравителей",
         "text": [
          "поздравителей"
         ],
         "textposition": "top center",
         "type": "scatter",
         "x": [
          2.1082544326782227
         ],
         "y": [
          0.23209057748317719
         ]
        },
        {
         "marker": {
          "color": "rgba(135, 206, 250, 0.6)",
          "line": {
           "color": "DarkSlateGrey",
           "width": 1
          },
          "size": 8
         },
         "mode": "markers+text",
         "name": "подозвала",
         "text": [
          "подозвала"
         ],
         "textposition": "top center",
         "type": "scatter",
         "x": [
          -1.1401845216751099
         ],
         "y": [
          0.7379355430603027
         ]
        },
        {
         "marker": {
          "color": "rgba(135, 206, 250, 0.6)",
          "line": {
           "color": "DarkSlateGrey",
           "width": 1
          },
          "size": 8
         },
         "mode": "markers+text",
         "name": "учителей",
         "text": [
          "учителей"
         ],
         "textposition": "top center",
         "type": "scatter",
         "x": [
          2.2878611087799072
         ],
         "y": [
          -0.36386433243751526
         ]
        },
        {
         "marker": {
          "color": "rgba(135, 206, 250, 0.6)",
          "line": {
           "color": "DarkSlateGrey",
           "width": 1
          },
          "size": 8
         },
         "mode": "markers+text",
         "name": "разочаровалась",
         "text": [
          "разочаровалась"
         ],
         "textposition": "top center",
         "type": "scatter",
         "x": [
          -1.1304144859313965
         ],
         "y": [
          1.7160512208938599
         ]
        }
       ],
       "layout": {
        "height": 1000,
        "showlegend": true,
        "template": {
         "data": {
          "bar": [
           {
            "error_x": {
             "color": "#f2f5fa"
            },
            "error_y": {
             "color": "#f2f5fa"
            },
            "marker": {
             "line": {
              "color": "rgb(17,17,17)",
              "width": 0.5
             },
             "pattern": {
              "fillmode": "overlay",
              "size": 10,
              "solidity": 0.2
             }
            },
            "type": "bar"
           }
          ],
          "barpolar": [
           {
            "marker": {
             "line": {
              "color": "rgb(17,17,17)",
              "width": 0.5
             },
             "pattern": {
              "fillmode": "overlay",
              "size": 10,
              "solidity": 0.2
             }
            },
            "type": "barpolar"
           }
          ],
          "carpet": [
           {
            "aaxis": {
             "endlinecolor": "#A2B1C6",
             "gridcolor": "#506784",
             "linecolor": "#506784",
             "minorgridcolor": "#506784",
             "startlinecolor": "#A2B1C6"
            },
            "baxis": {
             "endlinecolor": "#A2B1C6",
             "gridcolor": "#506784",
             "linecolor": "#506784",
             "minorgridcolor": "#506784",
             "startlinecolor": "#A2B1C6"
            },
            "type": "carpet"
           }
          ],
          "choropleth": [
           {
            "colorbar": {
             "outlinewidth": 0,
             "ticks": ""
            },
            "type": "choropleth"
           }
          ],
          "contour": [
           {
            "colorbar": {
             "outlinewidth": 0,
             "ticks": ""
            },
            "colorscale": [
             [
              0,
              "#0d0887"
             ],
             [
              0.1111111111111111,
              "#46039f"
             ],
             [
              0.2222222222222222,
              "#7201a8"
             ],
             [
              0.3333333333333333,
              "#9c179e"
             ],
             [
              0.4444444444444444,
              "#bd3786"
             ],
             [
              0.5555555555555556,
              "#d8576b"
             ],
             [
              0.6666666666666666,
              "#ed7953"
             ],
             [
              0.7777777777777778,
              "#fb9f3a"
             ],
             [
              0.8888888888888888,
              "#fdca26"
             ],
             [
              1,
              "#f0f921"
             ]
            ],
            "type": "contour"
           }
          ],
          "contourcarpet": [
           {
            "colorbar": {
             "outlinewidth": 0,
             "ticks": ""
            },
            "type": "contourcarpet"
           }
          ],
          "heatmap": [
           {
            "colorbar": {
             "outlinewidth": 0,
             "ticks": ""
            },
            "colorscale": [
             [
              0,
              "#0d0887"
             ],
             [
              0.1111111111111111,
              "#46039f"
             ],
             [
              0.2222222222222222,
              "#7201a8"
             ],
             [
              0.3333333333333333,
              "#9c179e"
             ],
             [
              0.4444444444444444,
              "#bd3786"
             ],
             [
              0.5555555555555556,
              "#d8576b"
             ],
             [
              0.6666666666666666,
              "#ed7953"
             ],
             [
              0.7777777777777778,
              "#fb9f3a"
             ],
             [
              0.8888888888888888,
              "#fdca26"
             ],
             [
              1,
              "#f0f921"
             ]
            ],
            "type": "heatmap"
           }
          ],
          "heatmapgl": [
           {
            "colorbar": {
             "outlinewidth": 0,
             "ticks": ""
            },
            "colorscale": [
             [
              0,
              "#0d0887"
             ],
             [
              0.1111111111111111,
              "#46039f"
             ],
             [
              0.2222222222222222,
              "#7201a8"
             ],
             [
              0.3333333333333333,
              "#9c179e"
             ],
             [
              0.4444444444444444,
              "#bd3786"
             ],
             [
              0.5555555555555556,
              "#d8576b"
             ],
             [
              0.6666666666666666,
              "#ed7953"
             ],
             [
              0.7777777777777778,
              "#fb9f3a"
             ],
             [
              0.8888888888888888,
              "#fdca26"
             ],
             [
              1,
              "#f0f921"
             ]
            ],
            "type": "heatmapgl"
           }
          ],
          "histogram": [
           {
            "marker": {
             "pattern": {
              "fillmode": "overlay",
              "size": 10,
              "solidity": 0.2
             }
            },
            "type": "histogram"
           }
          ],
          "histogram2d": [
           {
            "colorbar": {
             "outlinewidth": 0,
             "ticks": ""
            },
            "colorscale": [
             [
              0,
              "#0d0887"
             ],
             [
              0.1111111111111111,
              "#46039f"
             ],
             [
              0.2222222222222222,
              "#7201a8"
             ],
             [
              0.3333333333333333,
              "#9c179e"
             ],
             [
              0.4444444444444444,
              "#bd3786"
             ],
             [
              0.5555555555555556,
              "#d8576b"
             ],
             [
              0.6666666666666666,
              "#ed7953"
             ],
             [
              0.7777777777777778,
              "#fb9f3a"
             ],
             [
              0.8888888888888888,
              "#fdca26"
             ],
             [
              1,
              "#f0f921"
             ]
            ],
            "type": "histogram2d"
           }
          ],
          "histogram2dcontour": [
           {
            "colorbar": {
             "outlinewidth": 0,
             "ticks": ""
            },
            "colorscale": [
             [
              0,
              "#0d0887"
             ],
             [
              0.1111111111111111,
              "#46039f"
             ],
             [
              0.2222222222222222,
              "#7201a8"
             ],
             [
              0.3333333333333333,
              "#9c179e"
             ],
             [
              0.4444444444444444,
              "#bd3786"
             ],
             [
              0.5555555555555556,
              "#d8576b"
             ],
             [
              0.6666666666666666,
              "#ed7953"
             ],
             [
              0.7777777777777778,
              "#fb9f3a"
             ],
             [
              0.8888888888888888,
              "#fdca26"
             ],
             [
              1,
              "#f0f921"
             ]
            ],
            "type": "histogram2dcontour"
           }
          ],
          "mesh3d": [
           {
            "colorbar": {
             "outlinewidth": 0,
             "ticks": ""
            },
            "type": "mesh3d"
           }
          ],
          "parcoords": [
           {
            "line": {
             "colorbar": {
              "outlinewidth": 0,
              "ticks": ""
             }
            },
            "type": "parcoords"
           }
          ],
          "pie": [
           {
            "automargin": true,
            "type": "pie"
           }
          ],
          "scatter": [
           {
            "marker": {
             "line": {
              "color": "#283442"
             }
            },
            "type": "scatter"
           }
          ],
          "scatter3d": [
           {
            "line": {
             "colorbar": {
              "outlinewidth": 0,
              "ticks": ""
             }
            },
            "marker": {
             "colorbar": {
              "outlinewidth": 0,
              "ticks": ""
             }
            },
            "type": "scatter3d"
           }
          ],
          "scattercarpet": [
           {
            "marker": {
             "colorbar": {
              "outlinewidth": 0,
              "ticks": ""
             }
            },
            "type": "scattercarpet"
           }
          ],
          "scattergeo": [
           {
            "marker": {
             "colorbar": {
              "outlinewidth": 0,
              "ticks": ""
             }
            },
            "type": "scattergeo"
           }
          ],
          "scattergl": [
           {
            "marker": {
             "line": {
              "color": "#283442"
             }
            },
            "type": "scattergl"
           }
          ],
          "scattermapbox": [
           {
            "marker": {
             "colorbar": {
              "outlinewidth": 0,
              "ticks": ""
             }
            },
            "type": "scattermapbox"
           }
          ],
          "scatterpolar": [
           {
            "marker": {
             "colorbar": {
              "outlinewidth": 0,
              "ticks": ""
             }
            },
            "type": "scatterpolar"
           }
          ],
          "scatterpolargl": [
           {
            "marker": {
             "colorbar": {
              "outlinewidth": 0,
              "ticks": ""
             }
            },
            "type": "scatterpolargl"
           }
          ],
          "scatterternary": [
           {
            "marker": {
             "colorbar": {
              "outlinewidth": 0,
              "ticks": ""
             }
            },
            "type": "scatterternary"
           }
          ],
          "surface": [
           {
            "colorbar": {
             "outlinewidth": 0,
             "ticks": ""
            },
            "colorscale": [
             [
              0,
              "#0d0887"
             ],
             [
              0.1111111111111111,
              "#46039f"
             ],
             [
              0.2222222222222222,
              "#7201a8"
             ],
             [
              0.3333333333333333,
              "#9c179e"
             ],
             [
              0.4444444444444444,
              "#bd3786"
             ],
             [
              0.5555555555555556,
              "#d8576b"
             ],
             [
              0.6666666666666666,
              "#ed7953"
             ],
             [
              0.7777777777777778,
              "#fb9f3a"
             ],
             [
              0.8888888888888888,
              "#fdca26"
             ],
             [
              1,
              "#f0f921"
             ]
            ],
            "type": "surface"
           }
          ],
          "table": [
           {
            "cells": {
             "fill": {
              "color": "#506784"
             },
             "line": {
              "color": "rgb(17,17,17)"
             }
            },
            "header": {
             "fill": {
              "color": "#2a3f5f"
             },
             "line": {
              "color": "rgb(17,17,17)"
             }
            },
            "type": "table"
           }
          ]
         },
         "layout": {
          "annotationdefaults": {
           "arrowcolor": "#f2f5fa",
           "arrowhead": 0,
           "arrowwidth": 1
          },
          "autotypenumbers": "strict",
          "coloraxis": {
           "colorbar": {
            "outlinewidth": 0,
            "ticks": ""
           }
          },
          "colorscale": {
           "diverging": [
            [
             0,
             "#8e0152"
            ],
            [
             0.1,
             "#c51b7d"
            ],
            [
             0.2,
             "#de77ae"
            ],
            [
             0.3,
             "#f1b6da"
            ],
            [
             0.4,
             "#fde0ef"
            ],
            [
             0.5,
             "#f7f7f7"
            ],
            [
             0.6,
             "#e6f5d0"
            ],
            [
             0.7,
             "#b8e186"
            ],
            [
             0.8,
             "#7fbc41"
            ],
            [
             0.9,
             "#4d9221"
            ],
            [
             1,
             "#276419"
            ]
           ],
           "sequential": [
            [
             0,
             "#0d0887"
            ],
            [
             0.1111111111111111,
             "#46039f"
            ],
            [
             0.2222222222222222,
             "#7201a8"
            ],
            [
             0.3333333333333333,
             "#9c179e"
            ],
            [
             0.4444444444444444,
             "#bd3786"
            ],
            [
             0.5555555555555556,
             "#d8576b"
            ],
            [
             0.6666666666666666,
             "#ed7953"
            ],
            [
             0.7777777777777778,
             "#fb9f3a"
            ],
            [
             0.8888888888888888,
             "#fdca26"
            ],
            [
             1,
             "#f0f921"
            ]
           ],
           "sequentialminus": [
            [
             0,
             "#0d0887"
            ],
            [
             0.1111111111111111,
             "#46039f"
            ],
            [
             0.2222222222222222,
             "#7201a8"
            ],
            [
             0.3333333333333333,
             "#9c179e"
            ],
            [
             0.4444444444444444,
             "#bd3786"
            ],
            [
             0.5555555555555556,
             "#d8576b"
            ],
            [
             0.6666666666666666,
             "#ed7953"
            ],
            [
             0.7777777777777778,
             "#fb9f3a"
            ],
            [
             0.8888888888888888,
             "#fdca26"
            ],
            [
             1,
             "#f0f921"
            ]
           ]
          },
          "colorway": [
           "#636efa",
           "#EF553B",
           "#00cc96",
           "#ab63fa",
           "#FFA15A",
           "#19d3f3",
           "#FF6692",
           "#B6E880",
           "#FF97FF",
           "#FECB52"
          ],
          "font": {
           "color": "#f2f5fa"
          },
          "geo": {
           "bgcolor": "rgb(17,17,17)",
           "lakecolor": "rgb(17,17,17)",
           "landcolor": "rgb(17,17,17)",
           "showlakes": true,
           "showland": true,
           "subunitcolor": "#506784"
          },
          "hoverlabel": {
           "align": "left"
          },
          "hovermode": "closest",
          "mapbox": {
           "style": "dark"
          },
          "paper_bgcolor": "rgb(17,17,17)",
          "plot_bgcolor": "rgb(17,17,17)",
          "polar": {
           "angularaxis": {
            "gridcolor": "#506784",
            "linecolor": "#506784",
            "ticks": ""
           },
           "bgcolor": "rgb(17,17,17)",
           "radialaxis": {
            "gridcolor": "#506784",
            "linecolor": "#506784",
            "ticks": ""
           }
          },
          "scene": {
           "xaxis": {
            "backgroundcolor": "rgb(17,17,17)",
            "gridcolor": "#506784",
            "gridwidth": 2,
            "linecolor": "#506784",
            "showbackground": true,
            "ticks": "",
            "zerolinecolor": "#C8D4E3"
           },
           "yaxis": {
            "backgroundcolor": "rgb(17,17,17)",
            "gridcolor": "#506784",
            "gridwidth": 2,
            "linecolor": "#506784",
            "showbackground": true,
            "ticks": "",
            "zerolinecolor": "#C8D4E3"
           },
           "zaxis": {
            "backgroundcolor": "rgb(17,17,17)",
            "gridcolor": "#506784",
            "gridwidth": 2,
            "linecolor": "#506784",
            "showbackground": true,
            "ticks": "",
            "zerolinecolor": "#C8D4E3"
           }
          },
          "shapedefaults": {
           "line": {
            "color": "#f2f5fa"
           }
          },
          "sliderdefaults": {
           "bgcolor": "#C8D4E3",
           "bordercolor": "rgb(17,17,17)",
           "borderwidth": 1,
           "tickwidth": 0
          },
          "ternary": {
           "aaxis": {
            "gridcolor": "#506784",
            "linecolor": "#506784",
            "ticks": ""
           },
           "baxis": {
            "gridcolor": "#506784",
            "linecolor": "#506784",
            "ticks": ""
           },
           "bgcolor": "rgb(17,17,17)",
           "caxis": {
            "gridcolor": "#506784",
            "linecolor": "#506784",
            "ticks": ""
           }
          },
          "title": {
           "x": 0.05
          },
          "updatemenudefaults": {
           "bgcolor": "#506784",
           "borderwidth": 0
          },
          "xaxis": {
           "automargin": true,
           "gridcolor": "#283442",
           "linecolor": "#506784",
           "ticks": "",
           "title": {
            "standoff": 15
           },
           "zerolinecolor": "#283442",
           "zerolinewidth": 2
          },
          "yaxis": {
           "automargin": true,
           "gridcolor": "#283442",
           "linecolor": "#506784",
           "ticks": "",
           "title": {
            "standoff": 15
           },
           "zerolinecolor": "#283442",
           "zerolinewidth": 2
          }
         }
        },
        "title": {
         "text": "Word Embeddings Visualization"
        },
        "xaxis": {
         "title": {
          "text": "TSNE Component 1"
         }
        },
        "yaxis": {
         "title": {
          "text": "TSNE Component 2"
         }
        }
       }
      }
     },
     "metadata": {},
     "output_type": "display_data"
    }
   ],
   "source": [
    "near1, embeds = model.k_Nearest(all_words_idx, word1_idx, k=100, use_cosine=True, return_embed=True)\n",
    "model.plot_embeddings([tokenizer.real_words[near1_idx] for near1_idx in near1], embeds)"
   ]
  },
  {
   "cell_type": "code",
   "execution_count": 29,
   "metadata": {},
   "outputs": [
    {
     "data": {
      "text/plain": [
       "['[24]',\n",
       " '[  вам одним могу признаться. Мои дети – обуза моего существования.]',\n",
       " '[  Женщина – подруга мужчины,]',\n",
       " '[  Вы говорите про Буонапарта?]',\n",
       " '[  Тому, кто храбрее всех показал себя во время войны,]',\n",
       " '[  словечек]',\n",
       " '[(сноска 42)]',\n",
       " '[  Были примеры – Шварценберг.]',\n",
       " '[(сноска 99)]',\n",
       " '[  Если бы ты имел веру, то обратился бы к Богу с молитвою, чтоб Он даровал тебе любовь, которую ты не чувствуешь, и молитва твоя была бы услышана.]',\n",
       " '[  из газа цвета металла,]',\n",
       " '[(сноска 58)]',\n",
       " '[  Раз он перейдет в гвардию…]',\n",
       " '[23]',\n",
       " '[(сноска 76)]',\n",
       " '[  почтеннейший]',\n",
       " '[(сноска 103)]',\n",
       " '[  Если вы так смотрите на предмет,]',\n",
       " '[  так проходит мирская слава.]',\n",
       " '[  Но, мой милый,]',\n",
       " '[(сноска 70)]',\n",
       " '[(сноска 33)]',\n",
       " '[  Александр, Россия, величие;]',\n",
       " '[  любимица,]',\n",
       " '[(сноска 35)]',\n",
       " '[(сноска 52)]',\n",
       " '[  убирайся,]',\n",
       " '[  Кодекса Наполеона и Юстиниана,]',\n",
       " '[81]',\n",
       " '[  Его сиятельство князь Курагин с сыном, сколько я слышала?]',\n",
       " '[  Никакого,]',\n",
       " '[  Но вы так чисты, вы презираете меня; вы никогда не поймете этого увлечения страсти. Ах, моя бедная мать…]',\n",
       " '[(сноска 29)]',\n",
       " '[  Павлоградские гусары?]',\n",
       " '[  мой паж]',\n",
       " '[  Чего вы хотите? Лафатер сказал бы, что у меня нет шишки родительской любви,]',\n",
       " '[(сноска 117)]',\n",
       " '[26]',\n",
       " '[  Здравствуйте, моя милая, поздравляю вас,]',\n",
       " '[  Да здравствует император, император!]',\n",
       " '[  Но, моя дорогая Катишь, это ясно, как день.]',\n",
       " '[  но за каким чортом понесло его на эту галеру?]',\n",
       " '[(сноска15)]',\n",
       " '[9]',\n",
       " '[19]',\n",
       " '[(сноска 127)]',\n",
       " '[  Это шулерство, вовсе не похожее на образ действий великого человека.]',\n",
       " '[120]',\n",
       " \"[  Тут произошла та атака, про которую Тьер говорит: «Les russes se conduisirent vaillamment, et chose rare a la guerre, on vit deux masses d'infanterie Mariecher resolument l'une contre l'autre sans qu'aucune des deux ceda avant d'etre abordee»; а Наполеон на острове Св. Елены сказал: «Quelques bataillons russes montrerent de l'intrepidite„. [  Русские вели себя доблестно, и вещь – редкая на войне, две массы пехоты шли решительно одна против другой, и ни одна из двух не уступила до самого столкновения“. Слова Наполеона: [  Несколько русских батальонов проявили бесстрашие.]\",\n",
       " '[  прелестной женщины, столь же умной, сколько красивой.]',\n",
       " '[(сноска18)]',\n",
       " '[  женщины Курагина, женщины и вино,]',\n",
       " '[93]',\n",
       " '[  Восхитительно, божественно, чудесно!]',\n",
       " '[128]',\n",
       " '[  Ах, какая радость для княжны! Наконец! Надо ее предупредить.]',\n",
       " '[  Урок из географии,]',\n",
       " '[  как честный человек]',\n",
       " '[  Ну, что, князь, Генуа и Лукка стали не больше, как поместьями фамилии Бонапарте. Нет, я вас предупреждаю, если вы мне не скажете, что у нас война, если вы еще позволите себе защищать все гадости, все ужасы этого Антихриста (право, я верю, что он Антихрист) – я вас больше не знаю, вы уж не друг мой, вы уж не мой верный раб, как вы говорите.]',\n",
       " '[  Государи! Я не говорю о России. Государи! Но что они сделали для Людовика XVII, для королевы, для Елизаветы? Ничего. И, поверьте мне, они несут наказание за свою измену делу Бурбонов. Государи! Они шлют послов приветствовать похитителя престола.]',\n",
       " '[  Ах, милая, я не узнала вас,]',\n",
       " '[  Хорошо, хорошо…]',\n",
       " '[(сноска 2)]',\n",
       " '[  Лента – это другое дело…]',\n",
       " '[  Вы знаете, князь, что я не бонапартистка.]',\n",
       " '[  в конце концов,]',\n",
       " '[61]',\n",
       " '[(сноска 106)]',\n",
       " '[  самая обворожительная женщина в Петербурге,]',\n",
       " '[133]',\n",
       " '[33]',\n",
       " '[  Моя милая матушка]',\n",
       " '[  По крайней мере, перемените прическу. У Мари одно из тех лиц, которым этот род прически совсем нейдет. Перемените, пожалуйста.]',\n",
       " '[  Молод же явился он состязаться с нами.]',\n",
       " '[  Господин виконт]',\n",
       " '[  Генералу Кутузову угодно меня к себе в адъютанты.]',\n",
       " '[36]',\n",
       " '[(сноска29)]',\n",
       " '[20]',\n",
       " '[(сноска 100)]',\n",
       " '[  в этой скверной моравской дыре]',\n",
       " '[  принудят Австрию,]',\n",
       " '[(сноска 128)]',\n",
       " '[  Это проходимец, что бы вы ни говорили,]',\n",
       " '[(сноска 79)]',\n",
       " '[  смешное]',\n",
       " '[  Она все так же прелестна и меланхолична, эта милая Жюли.]',\n",
       " '[105]',\n",
       " '[  Полчаса назад у него был еще удар. Не унывать, мой друг…]',\n",
       " '[  вот еще поклонник вашего холопского императора…]',\n",
       " '[  Ничто так не восстановляет после бессонной ночи, как чашка этого превосходного русского чаю.]',\n",
       " '[  О, моя прелестная!]',\n",
       " '[  дураки.]',\n",
       " '[  Ну, княжна, еще маленькое усилие.]',\n",
       " '[  Так как неприятель опирается левым крылом своим на покрытые лесом горы, а правым крылом тянется вдоль Кобельница и Сокольница позади находящихся там прудов, а мы, напротив, превосходим нашим левым крылом его правое, то выгодно нам атаковать сие последнее неприятельское крыло, особливо если мы займем деревни Сокольниц и Кобельниц, будучи поставлены в возможность нападать на фланг неприятеля и преследовать его в равнине между Шлапаницем и лесом Тюрасским, избегая вместе с тем дефилеи между Шлапаницем и Беловицем, которою прикрыт неприятельский фронт. Для этой цели необходимо… Первая колонна марширует… вторая колонна марширует… третья колонна марширует…]',\n",
       " '[(сноска 16)]',\n",
       " '[  что вы дурак,]',\n",
       " '[83]',\n",
       " '[  Вот удовольствие лагеря, князь,]',\n",
       " '[(сноска 126)]',\n",
       " '[  Красавцы!]',\n",
       " '[  Всё делается им.]',\n",
       " '[  в восхищении, что вижу вас,]',\n",
       " '[  Я знаю в жизни только два настоящих несчастья: это угрызение совести и болезнь. И единственное благо есть отсутствие этих зол.]',\n",
       " '[  Княгиня, до свиданья,]',\n",
       " '[(сноска48)]',\n",
       " '[  Да здравствует Император!]',\n",
       " '[100]',\n",
       " '[(сноска 118)]',\n",
       " '[(сноска 60)]',\n",
       " '[  Одно слово, только одно, ради Бога,]',\n",
       " '[  Судьба моего сына в ваших руках. Решите, моя милая, моя дорогая, моя кроткая Мари, которую я всегда любил, как дочь.]',\n",
       " '[(сноска36)]',\n",
       " '[(сноска24)]',\n",
       " '[(сноска 59)]',\n",
       " '[  Еще один проситель,]',\n",
       " '[  Вот выгода быть отцом.]',\n",
       " '[  Бедовое дело – двоюродные братцы и сестрицы,]',\n",
       " '[  Да, мой друг, это великая потеря для всех нас, не говоря о вас. Но Бог вас поддержит, вы молоды, и вот вы теперь, надеюсь, обладатель огромного богатства. Завещание еще не вскрыто. Я довольно вас знаю и уверена, что это не вскружит вам голову; но это налагает на вас обязанности; и надо быть мужчиной.]',\n",
       " '[  Сию минуту я к твоим услугам,]',\n",
       " '[  вполне серьезный,]',\n",
       " '[  Я вас люблю?]',\n",
       " '[  итти по стопам этого господина]',\n",
       " '[  интересами.]',\n",
       " '[  Батарейных зарядов больше нет, ваше величество!]',\n",
       " '[(сноска 37)]',\n",
       " '[  Я ваш]',\n",
       " '[  аббат Морио:]',\n",
       " '[49]',\n",
       " '[(сноска 84)]',\n",
       " '[  Буонапарте?]',\n",
       " '[  Ты этого хотел, Жорж Дандэн,]',\n",
       " '[(сноска 38)]',\n",
       " '[  Наполеон, Франция, храбрость;]',\n",
       " '[  Надеюсь, что это была, наконец, та капля, которая переполнит стакан. Государи не могут более терпеть этого человека, который угрожает всему.]',\n",
       " '[  в стране нежностей…]',\n",
       " '[  Любезный граф, вы один из лучших моих учеников. Вам надо танцовать. Посмотрите, сколько хорошеньких девушек!]',\n",
       " '[(сноска 109)]',\n",
       " '[107]',\n",
       " '[  князь де-Линь]',\n",
       " '[  король прусский,]',\n",
       " '[(сноска 14)]',\n",
       " '[  моя дорогая или мой дорогой]',\n",
       " '[  Не сыграйте со мной дурной шутки; вы мне писали, что у вас совсем маленький вечер. Видите, как я одета дурно.]',\n",
       " '[  самой замечательной женщины в Петербурге]',\n",
       " '[40]',\n",
       " '[  Очень рада вас видеть. Я так довольна, что вижу вас,]',\n",
       " '[  Боитесь опоздать,]',\n",
       " '[(сноска 62)]',\n",
       " '[  нарушить запрет]',\n",
       " '[122]',\n",
       " '[  очаровательный вечер,]',\n",
       " '[(сноска19)]',\n",
       " '[  звезда почетного легиона]',\n",
       " '[  Милый и бесценный друг, какая страшная и ужасная вещь разлука! Сколько ни твержу себе, что половина моего существования и моего счастия в вас, что, несмотря на расстояние, которое нас разлучает, сердца наши соединены неразрывными узами, мое сердце возмущается против судьбы, и, несмотря на удовольствия и рассеяния, которые меня окружают, я не могу подавить некоторую скрытую грусть, которую испытываю в глубине сердца со времени нашей разлуки. Отчего мы не вместе, как в прошлое лето, в вашем большом кабинете, на голубом диване, на диване «признаний»? Отчего я не могу, как три месяца тому назад, почерпать новые нравственные силы в вашем взгляде, кротком, спокойном и проницательном, который я так любила и который я вижу перед собой в ту минуту, как пишу вам?]',\n",
       " '[  мостовое укрепление.]',\n",
       " '[  Он очень к ней внимателен.]',\n",
       " '[  делать визиты.]',\n",
       " '[  Bиконт удивительный мастер рассказывать]',\n",
       " '[  Прощайте, моя милая,]',\n",
       " '[  Приезжайте завтра обедать… вечером. Надо, чтоб вы приехали… Приезжайте.]',\n",
       " '[(сноска 56)]',\n",
       " '[  Андрей, уже!]',\n",
       " '[  человек глубокого ума,]',\n",
       " '[  очаровательно]',\n",
       " '[(сноска 112)]',\n",
       " '[(сноска51)]',\n",
       " '[  Прусский король!]',\n",
       " '[  Незаконный,]',\n",
       " '[(сноска23)]',\n",
       " '[(сноска 91)]',\n",
       " '[  между нами,]',\n",
       " '[(сноска 120)]',\n",
       " '[  Будьте добрым малым, как вы были,]',\n",
       " '[  А! Друг мой.]',\n",
       " '[  Этот пресловутый нейтралитет Пруссии – только западня.]',\n",
       " '[  Идите.]',\n",
       " '[(сноска33)]',\n",
       " '[(сноска 19)]',\n",
       " '[  Вимпфен, граф Ланжерон, князь Лихтенштейн, Гогенлое и еще Пришпршипрш, как все польские имена.]',\n",
       " '[(сноска 55)]',\n",
       " '[113]',\n",
       " '[(сноска 18)]',\n",
       " '[  на голову,]',\n",
       " '[46]',\n",
       " '[  Расскажите нам это, виконт,]',\n",
       " '[  Мы имеем вполне сосредоточенные силы, около 70 000 человек, так что мы можем атаковать и разбить неприятеля в случае переправы его через Лех. Так как мы уже владеем Ульмом, то мы можем удерживать за собою выгоду командования обоими берегами Дуная, стало быть, ежеминутно, в случае если неприятель не перейдет через Лех, переправиться через Дунай, броситься на его коммуникационную линию, ниже перейти обратно Дунай и неприятелю, если он вздумает обратить всю свою силу на наших верных союзников, не дать исполнить его намерение. Таким образом мы будем бодро ожидать времени, когда императорская российская армия совсем изготовится, и затем вместе легко найдем возможность уготовить неприятелю участь, коей он заслуживает».]',\n",
       " '[  Натали, твои волосы,]',\n",
       " '[  Я всё понимаю,]',\n",
       " '[  Есть что-то бесконечно обворожительное в улыбке меланхолии,]',\n",
       " '[  Это его крестник,]',\n",
       " '[39]',\n",
       " '[(сноска3)]',\n",
       " '[(сноска 83)]',\n",
       " '[10]',\n",
       " '[(сноска 22)]',\n",
       " '[  Нет, мой милый, я посижу у стенки,]',\n",
       " '[  Это не история о привидениях?]',\n",
       " '[95]',\n",
       " '[  плакса,]',\n",
       " '[  Ваш послушный сын,]',\n",
       " '[  Дорогая графиня, как давно… она должна была пролежать в постеле, бедное дитя… на балу у Разумовских… и графиня Апраксина… была так счастлива…]',\n",
       " '[  Но не обижайте мою лошадку,]',\n",
       " '[104]',\n",
       " '[51]',\n",
       " '[  миланского помазания?]',\n",
       " '[  Я незаконный сын!]',\n",
       " '[(сноска 121)]',\n",
       " '[  просто Бонапарт]',\n",
       " '[(сноска 30)]',\n",
       " '[  Браки заключаются в небесах.]',\n",
       " '[  Я вас люблю!]',\n",
       " '[  как пишет мне мой староста]',\n",
       " '[(сноска 46)]',\n",
       " '[  Вы знаете, мой муж покидает меня. Идет на смерть. Скажите, зачем эта гадкая война,]',\n",
       " '[131]',\n",
       " '[  Это гениально. Князь Ауэрсперг оскорбляется и приказывает арестовать сержанта. Нет, признайтесь, что это прелесть, вся эта история с мостом. Это не то что глупость, не то что подлость…]',\n",
       " '[7]',\n",
       " '[  все эти женщины хорошего общества]',\n",
       " '[  Они приняли меня с этою вестью, как принимают собаку, когда она мешает игре в кегли,]',\n",
       " '[(сноска 134)]',\n",
       " '[  Нет, нет, пожалуйста… Вы мамзель Бурьен; я уже знакома с вами по той дружбе, какую имеет к вам моя невестка. Она не ожидает нас?]',\n",
       " '[73]',\n",
       " '[(сноска 115)]',\n",
       " '[  Отец! Андрей?]',\n",
       " '[  Подождите]',\n",
       " '[41]',\n",
       " '[  Вот Мари!]',\n",
       " '[  Ну-ка, ну-ка,]',\n",
       " '[  Умоляю вас…]',\n",
       " '[  Нет, представьте себе, старая графиня Зубова, с фальшивыми локонами, с фальшивыми зубами, как будто издеваясь над годами…]',\n",
       " '[(сноска 44)]',\n",
       " '[  Ах, не говорите мне про этот отъезд! Я не хочу про него слышать,]',\n",
       " '[(сноска 72)]',\n",
       " '[(сноска 23)]',\n",
       " '[48]',\n",
       " '[(сноска53)]',\n",
       " '[56]',\n",
       " '[  Ордену почетного легиона]',\n",
       " '[  Нет, Андрей, я говорю: ты так, так переменился…]',\n",
       " '[(сноска 75)]',\n",
       " '[(сноска 74)]',\n",
       " '[  И Наталья, надо признаться, на это очень чувствительна.]',\n",
       " '[  Ей Богу,]',\n",
       " '[  Ax, Андрей! Какое сокровище твоя жена,]',\n",
       " '[  подростков]',\n",
       " '[  Нет, ничего, я только хотел сказать…]',\n",
       " '[  Порядочные женщины,]',\n",
       " '[  танец с шалью]',\n",
       " '[  Боже мой! Боже мой!]',\n",
       " '[  предметом ухаживанья]',\n",
       " '[  Какая деликатность,]',\n",
       " '[  в маленьком собрании,]',\n",
       " '[(сноска 107)]',\n",
       " '[  мадам Сюза.]',\n",
       " '[(сноска42)]',\n",
       " '[  заколдованный круг,]',\n",
       " '[  все это прекрасно и хорошо,]',\n",
       " '[  Андрей,]',\n",
       " '[  Это тяжело, но это спасительно; душа возвышается, когда видишь таких людей, как старый граф и его достойный сын,]',\n",
       " '[89]',\n",
       " '[  Дружочек, боюсь, чтоб от нынешнего фриштика (как называет его повар Фока) мне не было дурно.]',\n",
       " '[  Дело сделано!]',\n",
       " '[  Поверьте, я страдаю не меньше вас, но будьте мужчиной.]',\n",
       " '[(сноска 45)]',\n",
       " '[(сноска13)]',\n",
       " '[(сноска 88)]',\n",
       " '[132]',\n",
       " '[  компаньонка.]',\n",
       " '[(сноска14)]',\n",
       " '[  Вы видите несчастного Мака.]',\n",
       " '[85]',\n",
       " '[  А знаете ли, вы ужасный человек, несмотря на ваш невинный вид. Мне жаль бедного мужа, этого офицерика, который корчит из себя владетельную особу.]',\n",
       " '[  горничную]',\n",
       " '[(сноска11)]',\n",
       " '[(сноска 89)]',\n",
       " '[(сноска 94)]',\n",
       " '[102]',\n",
       " '[(сноска9)]',\n",
       " '[  как если бы вы нам сказали:]',\n",
       " '[  ради прекрасных глаз,]',\n",
       " '[  Вена находит основания предлагаемого договора до того невозможными, что достигнуть их нельзя даже рядом самых блестящих успехов: и она сомневается в средствах, которые могут их нам доставить. Это подлинная фраза венского кабинета,\\xa0– сказал датский поверенный в делах.]',\n",
       " '[  Этот барон, кажется, ничтожная личность.]',\n",
       " '[  Мальбрук в поход собрался. Бог знает вернется когда.]',\n",
       " '[  девушек,]',\n",
       " '[  Нет, оставьте меня,]',\n",
       " '[108]',\n",
       " '[  Очаровательно,]',\n",
       " '[  на французский манер,]',\n",
       " '[  Как сейчас виден человек хорошего общества]',\n",
       " '[  И вот новая комедия: народы Генуи и Лукки изъявляют свои желания господину Бонапарте. И господин Бонапарте сидит на троне и исполняет желания народов. 0! это восхитительно! Нет, от этого можно с ума сойти. Подумаешь, что весь свет потерял голову.]',\n",
       " '[  Чорт возьми…]',\n",
       " '[  Алина, посмотри, что они делают.]',\n",
       " '[(сноска 80)]',\n",
       " '[(сноска 129)]',\n",
       " '[(сноска 119)]',\n",
       " '[  любимица]',\n",
       " '[  малютка – мила.]',\n",
       " '[(сноска1)]',\n",
       " '[  Ну, мой дорогой, ваша маленькая княгиня очень мила! Очень мила и совершенная француженка.]',\n",
       " '[(сноска 71)]',\n",
       " '[69]',\n",
       " '[  имеют манию женить.]',\n",
       " '[  Очень любезно с вашей стороны, Пьер, что вы пришли навестить бедную больную,]',\n",
       " '[  Извините, табакерка с портретом Императора есть награда, а не отличие; скорее подарок.]',\n",
       " '[5]',\n",
       " '[  Ах, ваше сиятельство! Мы отправляемся еще далее. Злодей уж опять за нами по пятам.]',\n",
       " '[(сноска 28)]',\n",
       " '[  Андрей, ради Бога!]',\n",
       " '[  Это прекрасное животное.]',\n",
       " '[  Сельские деревья, ваши темные сучья стряхивают на меня мрак и меланхолию.]',\n",
       " '[  Не унывать, не унывать, мой друг. Он пожелал вас видеть. Это хорошо…]',\n",
       " '[(сноска 48)]',\n",
       " '[  У меня есть на вас виды в этот вечер.]',\n",
       " '[(сноска55)]',\n",
       " '[  Прекрасно, доброго утра!]',\n",
       " '[72]',\n",
       " '[(сноска27)]',\n",
       " '[70]',\n",
       " '[  Василий,]',\n",
       " '[  А я не подозревала!… Ах, Andre, я и не видела тебя.]',\n",
       " '[  девушки и юноши,]',\n",
       " '[  Питт, как изменник нации и народному праву, приговаривается к…]',\n",
       " '[  Не мучьте меня. Ну, что же решили по случаю депеши Новосильцова? Вы все знаете.]',\n",
       " '[55]',\n",
       " '[  Прощай, Маша,]',\n",
       " '[(сноска25)]',\n",
       " '[(сноска 82)]',\n",
       " '[2]',\n",
       " '[  Он умирает, а вы меня оставляете одну.]',\n",
       " '[  Чего ты боишься,]',\n",
       " '[  Ах, милый друг мой! Я просила вас никогда не говорить мне, в каком расположении духа батюшка. Я не позволю себе судить его и не желала бы, чтоб и другие судили.]',\n",
       " '[  говорят, что православное ужасно по части грабежей,]',\n",
       " '[  Я желал бы видеть великого человека,]',\n",
       " '[  мадам Жако…]',\n",
       " '[(сноска44)]',\n",
       " '[  Необходимо нужно, чтоб вы приехали повидаться со мною,]',\n",
       " '[  Милая, на все есть время,]',\n",
       " '[  Доброй ночи, Лиза,]',\n",
       " '[(сноска 8)]',\n",
       " '[  Здравствуйте, кузина. Вы меня не узнаете?]',\n",
       " '[  Это знаменитый князь Андрей? Честное слово!]',\n",
       " '[  мой дорогой, это героизм.]',\n",
       " '[16]',\n",
       " '[(сноска 90)]',\n",
       " '[  Прощайте, князь, да поддержит вас Бог.]',\n",
       " '[31]',\n",
       " '[  Сливки настоящего хорошего общества]',\n",
       " '[  девочке]',\n",
       " '[21]',\n",
       " '[  Мне страшно, мне страшно!]',\n",
       " '[  моя прелесть!]',\n",
       " '[3]',\n",
       " '[  Высокое положение не вскружило ему головы нисколько.]',\n",
       " '[  Это смешно. Ну, же,]',\n",
       " '[(сноска 13)]',\n",
       " '[  Ближний]',\n",
       " '[25]',\n",
       " '[  Поживем, увидим,]',\n",
       " '[47]',\n",
       " '[(сноска 7)]',\n",
       " '[  Нет, сударыня.]',\n",
       " '[  один эрцгерцог стоит другого,]',\n",
       " '[(сноска47)]',\n",
       " '[11]',\n",
       " '[  с моей тетушкой]',\n",
       " '[(сноска 26)]',\n",
       " '[  К чорту этих русских…]',\n",
       " '[  Будьте мужчиною, друг мой, я же стану блюсти за вашими интересами.]',\n",
       " '[66]',\n",
       " '[(сноска 47)]',\n",
       " '[64]',\n",
       " '[  бедра испуганной нимфы,]',\n",
       " '[  Решено,]',\n",
       " '[(сноска 51)]',\n",
       " '[  Знаете пословицу:]',\n",
       " '[  милой]',\n",
       " '[  надо его избавить от и.]',\n",
       " '[  Если y вас, граф (или князь), нет в виду ничего лучшего и если перспектива вечера у бедной больной не слишком вас пугает, то я буду очень рада видеть вас нынче у себя между семью и десятью часами. Анна Шерер.]',\n",
       " '[116]',\n",
       " '[  Андрей, почему не предупредили меня?]',\n",
       " '[  Князь, человеку ошибаться свойственно.]',\n",
       " '[  Мой милый, с нашими 500-ми тысячами войска легко, кажется, выражаться хорошим слогом,]',\n",
       " '[  Они приехали, Мари,]',\n",
       " '[12]',\n",
       " '[(сноска32)]',\n",
       " '[  Ах! это перл женщин, княжна!]',\n",
       " '[  Из того, что вы любите кого-нибудь, моя прелестная, никак не следует жить монашенкой. Даже если вы невеста, я уверена, что ваш жених предпочел бы, чтобы вы в его отсутствии выезжали в свет, чем погибали со скуки.]',\n",
       " '[  Ты знаешь, я завален делами; но было бы безжалостно покинуть тебя так; разумеется, что я тебе говорю, есть единственно возможное.]',\n",
       " '[  поговорим.]',\n",
       " '[(сноска30)]',\n",
       " '[  Барон Функе рекомендован императрице-матери ее сестрою,]',\n",
       " '[(сноска39)]',\n",
       " '[(сноска7)]',\n",
       " '[(сноска 73)]',\n",
       " '[  Я тотчас узнала княгиню,]',\n",
       " '[18]',\n",
       " '[(сноска26)]',\n",
       " '[  Однако, мой милый, при всем моем уважении к православному российскому воинству, я полагаю, что победа ваша не из самых блестящих.]',\n",
       " '[44]',\n",
       " '[(сноска 64)]',\n",
       " '[  служащие при посольстве]',\n",
       " '[  Быть может, измена,]',\n",
       " '[  весьма достойный человек,]',\n",
       " '[  Превосходно!]',\n",
       " '[  Что он там поет?]',\n",
       " '[(сноска 53)]',\n",
       " '[  Право, ваше величество, мы сделаем, что будет нам возможно сделать, ваше величество,]',\n",
       " '[(сноска 125)]',\n",
       " '[(сноска 41)]',\n",
       " '[123]',\n",
       " '[  Резерв, ваше величество!]',\n",
       " '[  Ну так что ж о прусском короле?]',\n",
       " '[65]',\n",
       " '[52]',\n",
       " '[  Да, сударыня,]',\n",
       " '[28]',\n",
       " '[62]',\n",
       " '[(сноска54)]',\n",
       " '[(сноска 5)]',\n",
       " '[  Баланс установлен…]',\n",
       " '[(сноска31)]',\n",
       " '[(сноска 9)]',\n",
       " '[  Какая красавица!]',\n",
       " '[(сноска 102)]',\n",
       " '[112]',\n",
       " '[38]',\n",
       " '[101]',\n",
       " '[54]',\n",
       " '[  Вы будете самая хорошенькая. Поезжайте, милая графиня, и в залог дайте мне этот цветок.]',\n",
       " '[  Правда?]',\n",
       " '[  И как держит себя!]',\n",
       " '[106]',\n",
       " '[  В этом-то и дело.]',\n",
       " '[(сноска 86)]',\n",
       " '[(сноска 66)]',\n",
       " '[  Отзывы Билибина расходились по венским гостиным]',\n",
       " '[  братство]',\n",
       " '[14]',\n",
       " '[(сноска 101)]',\n",
       " '[(сноска 36)]',\n",
       " '[(сноска 24)]',\n",
       " '[  Не правда ли?]',\n",
       " '[  Я вижу, что я вас пугаю,]',\n",
       " '[  Боже мой, как он прост!]',\n",
       " '[  Что решили? Решили, что Бонапарте сжег свои корабли; и мы тоже, кажется, готовы сжечь наши.]',\n",
       " '[37]',\n",
       " '[  Дело в том, что я терпеть не могу историй о привидениях,]',\n",
       " '[  Ах, мой милый виконт, Европа никогда не будет нашей искренней союзницей.]',\n",
       " '[  о графине Апраксиной.]',\n",
       " '[  важная барыня,]',\n",
       " '[(сноска41)]',\n",
       " '[(сноска 95)]',\n",
       " '[(сноска 31)]',\n",
       " '[  мадмуазель Жорж,]',\n",
       " '[  вполне порядочно]',\n",
       " '[(сноска 15)]',\n",
       " '[  Ну, а вы остаетесь, в чем были, княжна? Сейчас придут сказать, что они вышли. Надо будет итти вниз, а вы хоть бы чуть-чуть принарядились!]',\n",
       " '[  Мой милый, я знаю из верных источников, что князь Василий присылает своего сына в Москву, для того чтобы женить его на Жюли.]',\n",
       " '[29]',\n",
       " '[  Если он и был героем для некоторых людей, то после убиения герцога одним мучеником стало больше на небесах и одним героем меньше на земле.]',\n",
       " '[30]',\n",
       " '[(сноска28)]',\n",
       " '[  „Вот дорогое]',\n",
       " '[  Англии конец,]',\n",
       " '[  Принц Мюрат и все такое…]',\n",
       " '[1]',\n",
       " '[71]',\n",
       " '[94]',\n",
       " '[92]',\n",
       " '[  Милосердие Божие неисчерпаемо. Соборование сейчас начнется. Пойдемте.]',\n",
       " '[  Бог мне дал корону. Беда тому, кто ее тронет.\\xa0– Говорят, он был очень хорош, произнося эти слова,]',\n",
       " '[(сноска4)]',\n",
       " '[  Мой друг, ты мне обещал,]',\n",
       " '[(сноска 61)]',\n",
       " '[(сноска20)]',\n",
       " '[86]',\n",
       " '[  Послушайте, милая Аннет,]',\n",
       " '[  Да это дворец!\\xa0– Пойдем скорее, скорее!…]',\n",
       " '[  Я, право, опасаюсь за свои способности перед такой публикой,]',\n",
       " '[(сноска 65)]',\n",
       " '[35]',\n",
       " '[  Бедняжка несчастлива, как камни.]',\n",
       " '[(сноска 6)]',\n",
       " '[(сноска 67)]',\n",
       " '[  Мой добрый друг,]',\n",
       " '[  О моя жестокая любовь…]',\n",
       " '[  составляет восторг всего общества. Ее находят прекрасною, как день.]',\n",
       " '[  обожаю девочек:]',\n",
       " '[  Я очень мил и очень едок,]',\n",
       " '[  лакея]',\n",
       " '[  Очень забавно, мой господин князь,]',\n",
       " '[(сноска6)]',\n",
       " '[84]',\n",
       " '[  послушай,]',\n",
       " '[(сноска 11)]',\n",
       " '[  Княгиня Апраксина, бедняжка, потеряла своего мужа и выплакала все глаза свои,]',\n",
       " '[  Конечно, это очень блестящая партия, но счастье, моя милая… – Браки совершаются на небесах,]',\n",
       " '[(сноска52)]',\n",
       " '[134]',\n",
       " '[  Не бойтесь, я насилия не употреблю,]',\n",
       " '[  И спросите, размещены ли стрелки.\\xa0– Что они делают, что они делают!]',\n",
       " '[  но это не так, как вы это понимаете,]',\n",
       " '[  Кампо Формио.]',\n",
       " '[  Мой милый, если вы будете вести себя здесь, как в Петербурге, вы кончите очень дурно; больше мне нечего вам сказать.]',\n",
       " '[  Почему же? Я вас люблю больше, чем когда-либо, и постараюсь сделать для вашего счастия всё, что в моей власти.]',\n",
       " '[  между нами]',\n",
       " '[  Хорошо, я вас оставлю в вашем уголке. Я вижу, вам там хорошо,]',\n",
       " '[  Я показал им путь славы: они не хотели; я открыл им мои передние: они бросились толпой… Не знаю, до какой степени имел он право так говорить.]',\n",
       " '[(сноска 116)]',\n",
       " '[  Дорогая княжна,]',\n",
       " '[  Моя милая Элен, надо, чтобы вы были сострадательны к моей бедной тетке, которая питает к вам обожание. Побудьте с ней минут 10.]',\n",
       " '[  Катишь велела подать чаю в маленькой гостиной. Вы бы пошли, бедная Анна Михайловна, подкрепили себя, а то вас не хватит.]',\n",
       " '[  Иди, мой друг,]',\n",
       " '[  Ах, я думала, вы у себя,]',\n",
       " '[117]',\n",
       " '[(сноска 54)]',\n",
       " '[  Бедная девушка, она дьявольски дурна собою,]',\n",
       " '[  Подождите, я возьму мою работу,]',\n",
       " '[(сноска 1)]',\n",
       " '[  черепаховый,]',\n",
       " '[(сноска 123)]',\n",
       " '[(сноска 20)]',\n",
       " '[  Я только хотел сказать, что мы напрасно воюем pour le roi de Prusse . (Непереводимая игра слов, имеющая значение: «по пустякам».)]',\n",
       " '[  Очаровательный Ипполит]',\n",
       " '[(сноска 132)]',\n",
       " '[  Во вторник, между 8 и 9 часами. Вы мне сделаете большое удовольствие.]',\n",
       " '[121]',\n",
       " '[  на мостовой,]',\n",
       " '[  насмешливое прозвище]',\n",
       " '[  Хорошо сложена и красота молодости,]',\n",
       " '[  батюшка.]',\n",
       " '[  Прекрасно! прекрасно то, что вы сказали,]',\n",
       " '[(сноска45)]',\n",
       " '[  щепотку кремортартара…]',\n",
       " '[  Но, мой друг, ты должна бы быть мне благодарна, что я объясняю Пьеру твою близость к этому молодому человеку.]',\n",
       " '[  Но, мой милый Пьер,]',\n",
       " '[  Это Мари упражняется? Тише, застанем ее врасплох.]',\n",
       " '[129]',\n",
       " '[  Боже! мой Боже!]',\n",
       " '[15]',\n",
       " '[  Дети, идите ложиться спать,]',\n",
       " '[  самонадеянность]',\n",
       " '[127]',\n",
       " '[  Подумайте, дело идет о спасения его души! Ах! это ужасно, долг христианина…]',\n",
       " '[  Она должна быть моей женой,]',\n",
       " '[(сноска 39)]',\n",
       " '[  Демосфен, я узнаю тебя по камешку, который ты скрываешь в своих золотых устах!]',\n",
       " '[  Мой милый, наш старик сильно не в духе.]',\n",
       " '[  Персианин Долохов,]',\n",
       " '[  Уже за работой!]',\n",
       " '[87]',\n",
       " '[  императрица-мать]',\n",
       " '[  Фраза, не переводимая буквально, так как состоит из условных геральдических терминов, не вполне точно употребленных. Общий смысл такой : Герб Конде представляет щит с красными и синими узкими зазубренными полосами,]',\n",
       " '[  маленькую гостиную.]',\n",
       " '[  Виконт был лично знаком с герцогом,]',\n",
       " '[(сноска 17)]',\n",
       " '[  Будьте спокойны, вы всё будете лучше всех]',\n",
       " '[(сноска 92)]',\n",
       " '[  Я вас люблю.]',\n",
       " '[(сноска 111)]',\n",
       " '[  Ты вострушка, дитя мое.]',\n",
       " '[  скромность]',\n",
       " '[  дурного тона]',\n",
       " '[  Он покидает меня здесь, и Бог знает зачем, тогда как он мог бы получить повышение…]',\n",
       " '[  Знай, что это женщина,]',\n",
       " '[98]',\n",
       " '[(сноска 57)]',\n",
       " '[(сноска16)]',\n",
       " '[  Оставьте Катю делать, что она знает.]',\n",
       " '[(сноска 34)]',\n",
       " '[  Не будем терять время.]',\n",
       " '[  Забудьте, друг мой, в чем были против вас неправы. Вспомните, что это ваш отец… Может быть, в агонии. Я тотчас полюбила вас, как сына. Доверьтесь мне, Пьер. Я не забуду ваших интересов.]',\n",
       " '[  Разумовские… Это было восхитительно… Вы очень добры… Графиня Апраксина…]',\n",
       " '[59]',\n",
       " '[  Очаровательна!]',\n",
       " '[(сноска 105)]',\n",
       " '[  Если вы позволите себе в моей гостиной,]',\n",
       " '[(сноска 108)]',\n",
       " '[  Бог знает, вернется когда!]',\n",
       " '[(сноска 114)]',\n",
       " '[(сноска 77)]',\n",
       " '[78]',\n",
       " '[  Как, мсье Пьер, вы видите в убийстве величие души,]',\n",
       " '[(сноска 78)]',\n",
       " '[(сноска 10)]',\n",
       " '[  «Эта русская армия, которую английское золото перенесло сюда с конца света, испытает ту же участь (участь ульмской армии)».]',\n",
       " '[  О! Какая ножка, мой друг, какой взгляд! Богиня!!]',\n",
       " '[99]',\n",
       " '[  Это нам кстати.]',\n",
       " '[(сноска 133)]',\n",
       " '[  Кстати о вашей семье,]',\n",
       " '[  Нет, княжна, я навсегда утратила ваше расположение,]',\n",
       " '[  Ваше Величество позволит ли мне спросить мнение полковника?]',\n",
       " '[  блюсти ваши интересы,]',\n",
       " '[  Вот прекрасная смерть,]',\n",
       " '[97]',\n",
       " '[  Древняя история,]',\n",
       " '[  Амалии Мансфельд.]',\n",
       " '[63]',\n",
       " '[  Сорок тысяч человек погибло и союзная нам армия уничтожена, а вы можете при этом шутить. Это простительно ничтожному мальчишке, как вот этот господин, которого вы сделали себе другом, но не вам, не вам.]',\n",
       " '[  Это любопытно, честное слово.]',\n",
       " '[  надо быть меланхоличным. И он очень меланхоличен с m-elle Карагин,]',\n",
       " '[  Доверьтесь Его милосердию,]',\n",
       " '[  Боже мой, Боже мой!]',\n",
       " '[  Сегодня мне рассказали прелестный московский анекдот; надо вас им поподчивать. Извините, виконт, я буду рассказывать по-русски, иначе пропадет вся соль анекдота.]',\n",
       " '[  О, да,]',\n",
       " '[  Оставьте меня, мне всё равно,]',\n",
       " '[88]',\n",
       " '[  синим чулком]',\n",
       " '[6]',\n",
       " '[  Неправда ли, Дюпор восхитителен?]',\n",
       " '[77]',\n",
       " '[  Князь Ипполит Курагин, милый молодой человек. Г. Круг, Копенгагенский поверенный в делах, глубокий ум. Г. Шитов, весьма достойный человек]',\n",
       " '[  мой добрый друг,]',\n",
       " '[(сноска 124)]',\n",
       " '[43]',\n",
       " '[  Это человек нервный и желчный, он не выздоровеет.]',\n",
       " '[  Велите привезти из резервов,]',\n",
       " '[  сотэ на мадере]',\n",
       " '[  Нет, нет, признайтесь, что это прелесть, эта история с Таборским мостом. Они перешли его без сопротивления.]',\n",
       " '[(сноска 122)]',\n",
       " '[(сноска 49)]',\n",
       " '[  Видите ли, мой милый:]',\n",
       " '[(сноска46)]',\n",
       " '[17]',\n",
       " '[  Ах, милая!… Ах, Мари!… – А я видела во сне.\\xa0– Так вы нас не ожидали?… Ах, Мари, вы так похудели.\\xa0– А вы так пополнели…]',\n",
       " '[75]',\n",
       " '[  Какое прелестное дитя!]',\n",
       " '[  К нам едут гости, князь.]',\n",
       " '[  Это невозможно,]',\n",
       " '[(сноска 98)]',\n",
       " '[  Я приехала помогать вам ходить за дядюшкой. Воображаю, как вы настрадались,]',\n",
       " '[  по гречески]',\n",
       " '[  Я был бы очень рад, если бы вы меня избавили от этого молодого человека…]',\n",
       " '[  Я человек конченный,]',\n",
       " '[(сноска 131)]',\n",
       " '[82]',\n",
       " '[  прекрасная погода, княжна, и потом Москва так похожа на деревню.]',\n",
       " '[  Я никогда не мог понять, как Натали решилась выйти замуж за этого грязного медведя. Совершенно глупая и смешная особа. К тому же игрок, говорят.]',\n",
       " '[  мой милый,]',\n",
       " '[  Также нет. Это ставит двор в самое нелепое положение; это ни измена, ни подлость, ни глупость; это как при Ульме, это… это Маковщина . Мы обмаковались. ]',\n",
       " '[130]',\n",
       " '[  Я в вашем семействе начну обучаться ремеслу старой девки.]',\n",
       " '[76]',\n",
       " '[  Князь, я говорю об императоре Наполеоне,]',\n",
       " '[  сливки настоящего хорошего общества, цвет интеллектуальной эссенции петербургского общества,]',\n",
       " '[  Я в восхищении; здоровье мамы… и графиня Апраксина]',\n",
       " '[34]',\n",
       " '[  Берлинский кабинет не может выразить свое мнение о союзе, не выражая… как в своей последней ноте… вы понимаете… вы понимаете… впрочем, если его величество император не изменит сущности нашего союза…]',\n",
       " '[  Дорогой Борис,]',\n",
       " '[  княгиня такая-то]',\n",
       " '[  Это луч света в тени, оттенок между печалью и отчаянием, который указывает на возможность утешения.]',\n",
       " '[(сноска 69)]',\n",
       " '[96]',\n",
       " '[  страшный дракон,]',\n",
       " '[  не всё розы.\\xa0– при нашем образе жизни,]',\n",
       " '[  буквально]',\n",
       " '[  Признаюсь, все эти праздники и фейерверки становятся несносны.]',\n",
       " '[  всерьез]',\n",
       " '[  международное право]',\n",
       " '[(сноска8)]',\n",
       " '[  мостовое укрепление,]',\n",
       " '[  Надо ему показать Брюнн.]',\n",
       " '[  хорошенькие женщины,]',\n",
       " '[  в виде диадемы]',\n",
       " '[  Что за прелестная особа эта маленькая княгиня!]',\n",
       " '[  поверенной]',\n",
       " '[  Кстати,\\xa0– виконт Мортемар,]',\n",
       " '[  Удержите ваше злоязычие.]',\n",
       " '[(сноска 104)]',\n",
       " '[  Что такое]',\n",
       " '[  словечко]',\n",
       " '[  быть мужчиной]',\n",
       " '[  комитет общественного спасения.]',\n",
       " '[  Я захватила работу]',\n",
       " '[  философ,]',\n",
       " '[  Благодарю, мой друг.]',\n",
       " '[50]',\n",
       " '[  до свиданья,]',\n",
       " '[  милую Аннет?]',\n",
       " '[  граф Н.Н., капитан С.С.]',\n",
       " '[  свиданий]',\n",
       " '[90]',\n",
       " '[  Что он видит только их огонь и забывает о своем, о том, который он обязан был открыть против неприятеля.]',\n",
       " '[(сноска 97)]',\n",
       " '[  Он сходит с ума, но сходит с ума от любви к вам, моя милая.]',\n",
       " '[(сноска 110)]',\n",
       " '[  После я, может быть, расскажу вам, что если б я не была там, то Бог знает, что бы случилось. Вы знаете, что дядюшка третьего дня обещал мне не забыть Бориса, но не успел. Надеюсь, мой друг, вы исполните желание отца.]',\n",
       " '[124]',\n",
       " '[  А, вы отправляете письмо, я уж отправила свое. Я писала моей бедной матери,]',\n",
       " '[  Моя милая, я вам скажу, что эту минуту я никогда не забуду, но, моя добрейшая, дайте нам хоть малую надежду возможности тронуть это сердце, столь доброе и великодушное. Скажите: может быть… Будущность так велика. Скажите: может быть.]',\n",
       " '[  ливрею]',\n",
       " '[  словечки]',\n",
       " '[4]',\n",
       " '[  Я заморен, как почтовая лошадь;]',\n",
       " '[74]',\n",
       " '[  Он задремал,]',\n",
       " '[  От него теперь зависит дождливая или хорошая погода. (Франц. пословица, имеющая значение, что он имеет успех.)]',\n",
       " '[  Его не стало…]',\n",
       " '[  Спрашиваю я вас,]',\n",
       " '[  Это шпага Фридриха Великого, которую я…]',\n",
       " '[  И весь свет ура!]',\n",
       " '[  наша родственница, княжна]',\n",
       " '[60]',\n",
       " '[  развлечением]',\n",
       " '[  Государь, я прошу у вас позволенья дать орден Почетного легиона храбрейшему из ваших солдат,]',\n",
       " '[(сноска 4)]',\n",
       " '[  батюшка,]',\n",
       " '[(сноска49)]',\n",
       " '[80]',\n",
       " '[  дюренштейнская стычка,]',\n",
       " '[(сноска 85)]',\n",
       " '[125]',\n",
       " '[  Дорогой мой,]',\n",
       " '[13]',\n",
       " '[  Это такой прекрасный человек, наш добрый Вязмитинов…]',\n",
       " '[  Это сказал Бонапарт,]',\n",
       " '[(сноска21)]',\n",
       " '[  Это как нарочно, как нарочно.]',\n",
       " '[  Нет это желудок… скажи, Маша, что это желудок…]',\n",
       " '[(сноска50)]',\n",
       " '[  Виконт]',\n",
       " '[(сноска 96)]',\n",
       " '[  у меня будет прекрасная Элен, на которую никогда не устанешь любоваться.]',\n",
       " '[  А Лиза, ваша жена?]',\n",
       " '[109]',\n",
       " '[  Это хорошо, но не переезжайте от князя Василия. Хорошо иметь такого друга. Я кое-что об этом знаю. Не правда ли?]',\n",
       " '[  Вы рассчитываете иметь доход с казны,]',\n",
       " '[(сноска 40)]',\n",
       " '[53]',\n",
       " '[  Какой умный человек ваш батюшка. Может быть, от этого-то я и боюсь его.]',\n",
       " '[27]',\n",
       " '[  Сомнение лестно!\\xa0– сказал глубокий ум,]',\n",
       " '[  Вы собираетесь на войну, князь?]',\n",
       " '[  Герцог Ольденбургский переносит свое несчастие с замечательной силой воли и покорностью судьбе,]',\n",
       " '[  поддаваться этой мелочности!]',\n",
       " '[10)]',\n",
       " '[(сноска 63)]',\n",
       " '[(сноска 12)]',\n",
       " '[  поговорим толком,]',\n",
       " '[(сноска 32)]',\n",
       " '[(сноска34)]',\n",
       " '[  этот молодой человек – сын графа… Есть ли надежда?]',\n",
       " '[(сноска5)]',\n",
       " '[  и всего, что отсюда вытекает,]',\n",
       " '[  удовольствие иметь поклонников]',\n",
       " '[(сноска 50)]',\n",
       " '[  Надеюсь, вы не скажете другой раз, что у меня скучают,]',\n",
       " '[  Всё это хорошо, но надо это кончить,]',\n",
       " '[  Но, князь,]',\n",
       " '[  глубокого уважения,]',\n",
       " '[115]',\n",
       " '[(сноска 68)]',\n",
       " '[  Итак, это верно?]',\n",
       " '[  Пойдемте, я вас провожу. Старайтесь плакать: ничто так не облегчает, как слезы.]',\n",
       " '[(сноска2)]',\n",
       " '[68]',\n",
       " '[42]',\n",
       " '[57]',\n",
       " '[(сноска56)]',\n",
       " '[  Ура Австрийцы! Ура Русские! Император Александр ура!]',\n",
       " '[  ночной ужин]',\n",
       " '[  Он очень мил, но не имеет пола,]',\n",
       " '[(сноска 130)]',\n",
       " '[  дорогой мoй?]',\n",
       " '[  Мой дорогой, вы – герой,]',\n",
       " '[(сноска40)]',\n",
       " '[  Но добрый человек, князь,]',\n",
       " '[  Вы перемените, не правда ли?]',\n",
       " '[  желчь и прилив к мозгу. Успокойтесь, я завтра зайду,]',\n",
       " '[  между нами, мой милый]',\n",
       " '[  Очень мила!]',\n",
       " '[103]',\n",
       " '[  Он уже сбил спесь с Австрии. Боюсь, не пришел бы теперь наш черед.]',\n",
       " '[  Нет, нет, нет! Когда отец ваш напишет мне, что вы себя ведете хорошо, тогда я дам вам поцеловать руку. Не прежде.]',\n",
       " '[  Нет, Мари, решительно это не идет к вам. Я вас лучше люблю в вашем сереньком ежедневном платьице: пожалуйста, сделайте это для меня.]',\n",
       " '[(сноска17)]',\n",
       " '[119]',\n",
       " '[  по-гречески]',\n",
       " '[(сноска12)]',\n",
       " '[  двоюродного брата]',\n",
       " '[8]',\n",
       " '[110]',\n",
       " '[79]',\n",
       " '[  Ступайте, мой милый, посмотрите, прошла ли через деревню третья дивизия. Велите ей остановиться и ждать моего приказа.]',\n",
       " '[  мадмуазель Бурьен.]',\n",
       " '[  Полусумасшедший – я всегда это говорил.]',\n",
       " '[  О! какое жестокое нападение!]',\n",
       " '[  Он за мной волочился,]',\n",
       " '[  Что это?]',\n",
       " '[  Право?]',\n",
       " '[  Знаете, между двоюродным братом и сестрой эта близость приводит иногда к любви. Такое родство – опасное соседство. Не правда ли?]',\n",
       " '[  Прежде всего скажите, как ваше здоровье?]',\n",
       " '[  основа монархий есть честь, мне кажется несомненной. Некоторые права и привилегии дворянства мне кажутся средствами для поддержания этого чувства.]',\n",
       " '[  милый друг!]',\n",
       " '[  Вовсе нет,]',\n",
       " '[  А вы говорили, что русские дамы хуже французских. Надо уметь взяться.]',\n",
       " '[45]',\n",
       " '[114]',\n",
       " '[  большой барин]',\n",
       " '[  благодарю, батюшка.]',\n",
       " '[  очарование]',\n",
       " '[  Ваша игра слов не хороша, очень умна, но несправедлива; мы не воюем pour le roi de Prusse (т. e. по пустякам), а за добрые начала. Ах, какой он злой, этот князь Ипполит!]',\n",
       " '[(сноска37)]',\n",
       " '[(сноска38)]',\n",
       " '[  Необходимо различать венский кабинет и австрийского императора. Австрийский император никогда не мог этого думать, это говорит только кабинет.]',\n",
       " '[  тетушку]',\n",
       " '[  Ах, милая, милая.]',\n",
       " '[  До завтра, мой милый!]',\n",
       " '[  Общественный договор,]',\n",
       " '[  Пойдем.]',\n",
       " '[(сноска 25)]',\n",
       " '[  Император покажет вашему Сувара, как и другим…]',\n",
       " '[  вас заставят плясать]',\n",
       " '[  Кто всё поймет, тот всё и простит.]',\n",
       " '[  обворожительна]',\n",
       " '[  Надо предупредить вас, княжна, что князь разбранился с Михайлом Иванычем. Он очень не в духе, такой угрюмый. Предупреждаю вас, знаете…]',\n",
       " '[  Как отец посмотрит на дело. До свидания,]',\n",
       " '[58]',\n",
       " '[(сноска 3)]',\n",
       " '[(сноска43)]',\n",
       " '[  Княжна, я право, не хотел обидеть ее,]',\n",
       " '[(сноска 27)]',\n",
       " '[  Без имени, без состояния…]',\n",
       " '[(сноска22)]',\n",
       " '[22]',\n",
       " '[67]',\n",
       " '[(сноска 87)]',\n",
       " '[  Не бойся, мой ангел.]',\n",
       " '[  О чем вы думаете? Принесите мой ридикюль.]',\n",
       " '[(сноска35)]',\n",
       " '[  милая Элен,]',\n",
       " '[  выгнала его из дома?]',\n",
       " '[(сноска 113)]',\n",
       " '[  Говорят, вы отделываете свой петербургский дом.]',\n",
       " '[126]',\n",
       " '[  Ваше высокородие,]',\n",
       " '[  Отец,]',\n",
       " '[(сноска 81)]',\n",
       " '[  Устройте мне это дело, и я навсегда ваш]',\n",
       " '[  мадам Жанлис]',\n",
       " '[  Подождите, я не кончил. Я думаю, что вмешательство будет прочнее чем невмешательство И… Невозможно считать дело оконченным непринятием нашей депеши от 28 ноября. Чем-то всё это кончится.]',\n",
       " '[  как говорит пословица,]',\n",
       " '[118]',\n",
       " '[32]',\n",
       " '[  с Лизой (женой молодого Болконского).]',\n",
       " '[  Друг мой!]',\n",
       " '[  И, любезный генерал! Я занят рисом и котлетами, а вы занимайтесь военными делами.]',\n",
       " '[(сноска 21)]',\n",
       " '[  Что вы хотите, дорогой мой, женщины, дорогой мой, женщины!]',\n",
       " '[111]',\n",
       " '[  маленькая особа]',\n",
       " '[(сноска 43)]',\n",
       " '[  Отец]',\n",
       " '[  надо бы изобрести его.]',\n",
       " '[91]',\n",
       " '[  много уважения,]',\n",
       " '[  в стиле Людовика XV]',\n",
       " '[(сноска 93)]']"
      ]
     },
     "execution_count": 29,
     "metadata": {},
     "output_type": "execute_result"
    }
   ],
   "source": [
    "[word for word in tokenizer.real_words if word[0] == '[' and word[-1] == ']']"
   ]
  },
  {
   "cell_type": "markdown",
   "metadata": {},
   "source": [
    "Повезло, случайно нашел фичу в токенизаторе (все в квадратных скобках он обходит).  \n",
    "Почему повезло? фраза про сливки общества близка к слову Андрей - хорошая метафора!.. Оставлю тут)"
   ]
  }
 ],
 "metadata": {
  "kernelspec": {
   "display_name": "Python 3",
   "language": "python",
   "name": "python3"
  },
  "language_info": {
   "codemirror_mode": {
    "name": "ipython",
    "version": 3
   },
   "file_extension": ".py",
   "mimetype": "text/x-python",
   "name": "python",
   "nbconvert_exporter": "python",
   "pygments_lexer": "ipython3",
   "version": "3.10.12"
  }
 },
 "nbformat": 4,
 "nbformat_minor": 2
}
