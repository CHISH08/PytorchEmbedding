{
 "cells": [
  {
   "cell_type": "markdown",
   "metadata": {},
   "source": [
    "# Проверка работы FastText"
   ]
  },
  {
   "cell_type": "code",
   "execution_count": 1,
   "metadata": {},
   "outputs": [],
   "source": [
    "import first_script"
   ]
  },
  {
   "cell_type": "code",
   "execution_count": 2,
   "metadata": {},
   "outputs": [],
   "source": [
    "from tokenizer import FastTextTokenizer\n",
    "from model import FastText\n",
    "import os"
   ]
  },
  {
   "cell_type": "markdown",
   "metadata": {},
   "source": [
    "## Основная особенность FastText - токенизатор, делящий слова на n-граммы"
   ]
  },
  {
   "cell_type": "code",
   "execution_count": 3,
   "metadata": {},
   "outputs": [],
   "source": [
    "tokenizer = FastTextTokenizer(n_gram=3)"
   ]
  },
  {
   "cell_type": "code",
   "execution_count": 4,
   "metadata": {},
   "outputs": [],
   "source": [
    "text_train = 'Привет, меня зовут Миша. Как тебя зовут? миша'\n",
    "tokenizer.train(text_train)"
   ]
  },
  {
   "cell_type": "code",
   "execution_count": 5,
   "metadata": {},
   "outputs": [
    {
     "name": "stdout",
     "output_type": "stream",
     "text": [
      "[34, 19, 24, 13, 21, 35, 29, 32, 17, 36, 31, 12, 14, 27, 33, 20, 22, 8, 28, 15]\n",
      "[34, 19, 24, 13, 21, 35, 31, 12, 14, 27, 33, 20, 22, 8, 28, 15, 29, 32, 17, 36, 23, 25, 11, 26, 7, 10, 16, 9, 20, 22, 8, 28, 15, 18, 37, 30, 17, 36]\n"
     ]
    }
   ],
   "source": [
    "text_test = 'Привет Миша, меня зовут'\n",
    "print(tokenizer.encode(text_test))\n",
    "print(tokenizer.encode(text_train))"
   ]
  },
  {
   "cell_type": "code",
   "execution_count": 6,
   "metadata": {},
   "outputs": [
    {
     "data": {
      "text/plain": [
       "['Привет', 'Миша', ',', 'меня', 'зовут']"
      ]
     },
     "execution_count": 6,
     "metadata": {},
     "output_type": "execute_result"
    }
   ],
   "source": [
    "text_test_idx = tokenizer.encode(text_test)\n",
    "tokenizer.decode(text_test_idx)"
   ]
  },
  {
   "cell_type": "code",
   "execution_count": 7,
   "metadata": {},
   "outputs": [
    {
     "data": {
      "text/plain": [
       "['<Пр',\n",
       " 'При',\n",
       " 'рив',\n",
       " 'иве',\n",
       " 'вет',\n",
       " 'ет>',\n",
       " '<Ми',\n",
       " 'Миш',\n",
       " 'иша',\n",
       " 'ша>',\n",
       " '<,>',\n",
       " '<ме',\n",
       " 'мен',\n",
       " 'еня',\n",
       " 'ня>',\n",
       " '<зо',\n",
       " 'зов',\n",
       " 'ову',\n",
       " 'вут',\n",
       " 'ут>']"
      ]
     },
     "execution_count": 7,
     "metadata": {},
     "output_type": "execute_result"
    }
   ],
   "source": [
    "tokenizer._tokenize(text_test)"
   ]
  },
  {
   "cell_type": "markdown",
   "metadata": {},
   "source": [
    "## Обучаем FastText"
   ]
  },
  {
   "cell_type": "code",
   "execution_count": 8,
   "metadata": {},
   "outputs": [],
   "source": [
    "tokenizer = FastTextTokenizer(n_gram=3)"
   ]
  },
  {
   "cell_type": "code",
   "execution_count": 9,
   "metadata": {},
   "outputs": [],
   "source": [
    "text = \"\"\n",
    "with open('../data/voina_i_mir.txt', 'r') as f:\n",
    "    text = f.read()\n",
    "tokenizer.train(text)"
   ]
  },
  {
   "cell_type": "code",
   "execution_count": 10,
   "metadata": {},
   "outputs": [],
   "source": [
    "text_idxs = tokenizer.encode(text)"
   ]
  },
  {
   "cell_type": "markdown",
   "metadata": {},
   "source": [
    "### Параметры модели"
   ]
  },
  {
   "cell_type": "code",
   "execution_count": 11,
   "metadata": {},
   "outputs": [],
   "source": [
    "embed_dim = 256\n",
    "window_size = 20\n",
    "device = 'cuda'"
   ]
  },
  {
   "cell_type": "markdown",
   "metadata": {},
   "source": [
    "### Параметры обучения"
   ]
  },
  {
   "cell_type": "code",
   "execution_count": 12,
   "metadata": {},
   "outputs": [],
   "source": [
    "num_epochs = 10\n",
    "batch_size = 10000\n",
    "num_workers = os.cpu_count()"
   ]
  },
  {
   "cell_type": "markdown",
   "metadata": {},
   "source": [
    "### Загружаем модель и обучаем"
   ]
  },
  {
   "cell_type": "code",
   "execution_count": 13,
   "metadata": {},
   "outputs": [
    {
     "name": "stdout",
     "output_type": "stream",
     "text": [
      "Epoch [1/10, time: 1.222 minutes]:\n",
      "                            Train Loss 12.456216, Train Perplexity 256841.963\n",
      "                            Test Loss 11.910940, Test Perplexity 148886.559\n",
      "Epoch [2/10, time: 2.524 minutes]:\n",
      "                            Train Loss 11.321015, Train Perplexity 82538.047\n",
      "                            Test Loss 10.805449, Test Perplexity 49288.625\n",
      "Epoch [3/10, time: 3.825 minutes]:\n",
      "                            Train Loss 10.252003, Train Perplexity 28339.236\n",
      "                            Test Loss 9.855062, Test Perplexity 19054.568\n",
      "Epoch [4/10, time: 5.129 minutes]:\n",
      "                            Train Loss 9.468284, Train Perplexity 12942.654\n",
      "                            Test Loss 9.253078, Test Perplexity 10436.643\n",
      "Epoch [5/10, time: 6.434 minutes]:\n",
      "                            Train Loss 8.962794, Train Perplexity 7807.144\n",
      "                            Test Loss 8.845350, Test Perplexity 6942.034\n",
      "Epoch [6/10, time: 7.738 minutes]:\n",
      "                            Train Loss 8.589021, Train Perplexity 5372.353\n",
      "                            Test Loss 8.525229, Test Perplexity 5040.339\n",
      "Epoch [7/10, time: 9.032 minutes]:\n",
      "                            Train Loss 8.281020, Train Perplexity 3948.220\n",
      "                            Test Loss 8.254615, Test Perplexity 3845.332\n",
      "Epoch [8/10, time: 10.425 minutes]:\n",
      "                            Train Loss 8.013597, Train Perplexity 3021.766\n",
      "                            Test Loss 8.016829, Test Perplexity 3031.549\n",
      "Epoch [9/10, time: 11.724 minutes]:\n",
      "                            Train Loss 7.775214, Train Perplexity 2380.852\n",
      "                            Test Loss 7.803355, Test Perplexity 2448.804\n",
      "Epoch [10/10, time: 12.917 minutes]:\n",
      "                            Train Loss 7.559444, Train Perplexity 1918.779\n",
      "                            Test Loss 7.609922, Test Perplexity 2018.120\n"
     ]
    }
   ],
   "source": [
    "model = FastText(embed_dim, window_size, len(tokenizer.words), device=device)\n",
    "res = model.fit(text_idxs, batch_size, num_epochs, num_workers=num_workers)"
   ]
  },
  {
   "cell_type": "markdown",
   "metadata": {},
   "source": [
    "### Визуализируем метрики"
   ]
  },
  {
   "cell_type": "code",
   "execution_count": 14,
   "metadata": {},
   "outputs": [
    {
     "data": {
      "application/vnd.plotly.v1+json": {
       "config": {
        "plotlyServerURL": "https://plot.ly"
       },
       "data": [
        {
         "line": {
          "color": "red"
         },
         "mode": "lines+markers",
         "name": "Train Loss",
         "type": "scatter",
         "x": [
          1,
          2,
          3,
          4,
          5,
          6,
          7,
          8,
          9,
          10
         ],
         "xaxis": "x",
         "y": [
          12.456216244983517,
          11.321014646245496,
          10.252002564116383,
          9.468283636115704,
          8.962794462068144,
          8.58902120561806,
          8.281020236279975,
          8.013596828911734,
          7.775213507352689,
          7.559444387864588
         ],
         "yaxis": "y"
        },
        {
         "line": {
          "color": "blue"
         },
         "mode": "lines+markers",
         "name": "Test Loss",
         "type": "scatter",
         "x": [
          1,
          2,
          3,
          4,
          5,
          6,
          7,
          8,
          9,
          10
         ],
         "xaxis": "x",
         "y": [
          11.910939947325943,
          10.805448605127028,
          9.855062164415688,
          9.253078293228343,
          8.845350110695154,
          8.525228542232465,
          8.254615331925319,
          8.016828894310914,
          7.803354848459583,
          7.609921788852881
         ],
         "yaxis": "y"
        },
        {
         "line": {
          "color": "green"
         },
         "mode": "lines+markers",
         "name": "Train Accuracy",
         "type": "scatter",
         "x": [
          1,
          2,
          3,
          4,
          5,
          6,
          7,
          8,
          9,
          10
         ],
         "xaxis": "x2",
         "y": [
          256841.9630550217,
          82538.04736927558,
          28339.236271995254,
          12942.653852807833,
          7807.14377462876,
          5372.352672497325,
          3948.220445602941,
          3021.766366362568,
          2380.851575147918,
          1918.779120186144
         ],
         "yaxis": "y2"
        },
        {
         "line": {
          "color": "yellow"
         },
         "mode": "lines+markers",
         "name": "Test Accuracy",
         "type": "scatter",
         "x": [
          1,
          2,
          3,
          4,
          5,
          6,
          7,
          8,
          9,
          10
         ],
         "xaxis": "x2",
         "y": [
          148886.5592032257,
          49288.62509570289,
          19054.56843024506,
          10436.643367627543,
          6942.034114969925,
          5040.338604455731,
          3845.332414562943,
          3031.5487129559356,
          2448.803577279151,
          2018.120252044311
         ],
         "yaxis": "y2"
        }
       ],
       "layout": {
        "annotations": [
         {
          "font": {
           "size": 16
          },
          "showarrow": false,
          "text": "Loss over Epochs",
          "x": 0.5,
          "xanchor": "center",
          "xref": "paper",
          "y": 1,
          "yanchor": "bottom",
          "yref": "paper"
         },
         {
          "font": {
           "size": 16
          },
          "showarrow": false,
          "text": "Accuracy over Epochs",
          "x": 0.5,
          "xanchor": "center",
          "xref": "paper",
          "y": 0.375,
          "yanchor": "bottom",
          "yref": "paper"
         }
        ],
        "template": {
         "data": {
          "bar": [
           {
            "error_x": {
             "color": "#f2f5fa"
            },
            "error_y": {
             "color": "#f2f5fa"
            },
            "marker": {
             "line": {
              "color": "rgb(17,17,17)",
              "width": 0.5
             },
             "pattern": {
              "fillmode": "overlay",
              "size": 10,
              "solidity": 0.2
             }
            },
            "type": "bar"
           }
          ],
          "barpolar": [
           {
            "marker": {
             "line": {
              "color": "rgb(17,17,17)",
              "width": 0.5
             },
             "pattern": {
              "fillmode": "overlay",
              "size": 10,
              "solidity": 0.2
             }
            },
            "type": "barpolar"
           }
          ],
          "carpet": [
           {
            "aaxis": {
             "endlinecolor": "#A2B1C6",
             "gridcolor": "#506784",
             "linecolor": "#506784",
             "minorgridcolor": "#506784",
             "startlinecolor": "#A2B1C6"
            },
            "baxis": {
             "endlinecolor": "#A2B1C6",
             "gridcolor": "#506784",
             "linecolor": "#506784",
             "minorgridcolor": "#506784",
             "startlinecolor": "#A2B1C6"
            },
            "type": "carpet"
           }
          ],
          "choropleth": [
           {
            "colorbar": {
             "outlinewidth": 0,
             "ticks": ""
            },
            "type": "choropleth"
           }
          ],
          "contour": [
           {
            "colorbar": {
             "outlinewidth": 0,
             "ticks": ""
            },
            "colorscale": [
             [
              0,
              "#0d0887"
             ],
             [
              0.1111111111111111,
              "#46039f"
             ],
             [
              0.2222222222222222,
              "#7201a8"
             ],
             [
              0.3333333333333333,
              "#9c179e"
             ],
             [
              0.4444444444444444,
              "#bd3786"
             ],
             [
              0.5555555555555556,
              "#d8576b"
             ],
             [
              0.6666666666666666,
              "#ed7953"
             ],
             [
              0.7777777777777778,
              "#fb9f3a"
             ],
             [
              0.8888888888888888,
              "#fdca26"
             ],
             [
              1,
              "#f0f921"
             ]
            ],
            "type": "contour"
           }
          ],
          "contourcarpet": [
           {
            "colorbar": {
             "outlinewidth": 0,
             "ticks": ""
            },
            "type": "contourcarpet"
           }
          ],
          "heatmap": [
           {
            "colorbar": {
             "outlinewidth": 0,
             "ticks": ""
            },
            "colorscale": [
             [
              0,
              "#0d0887"
             ],
             [
              0.1111111111111111,
              "#46039f"
             ],
             [
              0.2222222222222222,
              "#7201a8"
             ],
             [
              0.3333333333333333,
              "#9c179e"
             ],
             [
              0.4444444444444444,
              "#bd3786"
             ],
             [
              0.5555555555555556,
              "#d8576b"
             ],
             [
              0.6666666666666666,
              "#ed7953"
             ],
             [
              0.7777777777777778,
              "#fb9f3a"
             ],
             [
              0.8888888888888888,
              "#fdca26"
             ],
             [
              1,
              "#f0f921"
             ]
            ],
            "type": "heatmap"
           }
          ],
          "heatmapgl": [
           {
            "colorbar": {
             "outlinewidth": 0,
             "ticks": ""
            },
            "colorscale": [
             [
              0,
              "#0d0887"
             ],
             [
              0.1111111111111111,
              "#46039f"
             ],
             [
              0.2222222222222222,
              "#7201a8"
             ],
             [
              0.3333333333333333,
              "#9c179e"
             ],
             [
              0.4444444444444444,
              "#bd3786"
             ],
             [
              0.5555555555555556,
              "#d8576b"
             ],
             [
              0.6666666666666666,
              "#ed7953"
             ],
             [
              0.7777777777777778,
              "#fb9f3a"
             ],
             [
              0.8888888888888888,
              "#fdca26"
             ],
             [
              1,
              "#f0f921"
             ]
            ],
            "type": "heatmapgl"
           }
          ],
          "histogram": [
           {
            "marker": {
             "pattern": {
              "fillmode": "overlay",
              "size": 10,
              "solidity": 0.2
             }
            },
            "type": "histogram"
           }
          ],
          "histogram2d": [
           {
            "colorbar": {
             "outlinewidth": 0,
             "ticks": ""
            },
            "colorscale": [
             [
              0,
              "#0d0887"
             ],
             [
              0.1111111111111111,
              "#46039f"
             ],
             [
              0.2222222222222222,
              "#7201a8"
             ],
             [
              0.3333333333333333,
              "#9c179e"
             ],
             [
              0.4444444444444444,
              "#bd3786"
             ],
             [
              0.5555555555555556,
              "#d8576b"
             ],
             [
              0.6666666666666666,
              "#ed7953"
             ],
             [
              0.7777777777777778,
              "#fb9f3a"
             ],
             [
              0.8888888888888888,
              "#fdca26"
             ],
             [
              1,
              "#f0f921"
             ]
            ],
            "type": "histogram2d"
           }
          ],
          "histogram2dcontour": [
           {
            "colorbar": {
             "outlinewidth": 0,
             "ticks": ""
            },
            "colorscale": [
             [
              0,
              "#0d0887"
             ],
             [
              0.1111111111111111,
              "#46039f"
             ],
             [
              0.2222222222222222,
              "#7201a8"
             ],
             [
              0.3333333333333333,
              "#9c179e"
             ],
             [
              0.4444444444444444,
              "#bd3786"
             ],
             [
              0.5555555555555556,
              "#d8576b"
             ],
             [
              0.6666666666666666,
              "#ed7953"
             ],
             [
              0.7777777777777778,
              "#fb9f3a"
             ],
             [
              0.8888888888888888,
              "#fdca26"
             ],
             [
              1,
              "#f0f921"
             ]
            ],
            "type": "histogram2dcontour"
           }
          ],
          "mesh3d": [
           {
            "colorbar": {
             "outlinewidth": 0,
             "ticks": ""
            },
            "type": "mesh3d"
           }
          ],
          "parcoords": [
           {
            "line": {
             "colorbar": {
              "outlinewidth": 0,
              "ticks": ""
             }
            },
            "type": "parcoords"
           }
          ],
          "pie": [
           {
            "automargin": true,
            "type": "pie"
           }
          ],
          "scatter": [
           {
            "marker": {
             "line": {
              "color": "#283442"
             }
            },
            "type": "scatter"
           }
          ],
          "scatter3d": [
           {
            "line": {
             "colorbar": {
              "outlinewidth": 0,
              "ticks": ""
             }
            },
            "marker": {
             "colorbar": {
              "outlinewidth": 0,
              "ticks": ""
             }
            },
            "type": "scatter3d"
           }
          ],
          "scattercarpet": [
           {
            "marker": {
             "colorbar": {
              "outlinewidth": 0,
              "ticks": ""
             }
            },
            "type": "scattercarpet"
           }
          ],
          "scattergeo": [
           {
            "marker": {
             "colorbar": {
              "outlinewidth": 0,
              "ticks": ""
             }
            },
            "type": "scattergeo"
           }
          ],
          "scattergl": [
           {
            "marker": {
             "line": {
              "color": "#283442"
             }
            },
            "type": "scattergl"
           }
          ],
          "scattermapbox": [
           {
            "marker": {
             "colorbar": {
              "outlinewidth": 0,
              "ticks": ""
             }
            },
            "type": "scattermapbox"
           }
          ],
          "scatterpolar": [
           {
            "marker": {
             "colorbar": {
              "outlinewidth": 0,
              "ticks": ""
             }
            },
            "type": "scatterpolar"
           }
          ],
          "scatterpolargl": [
           {
            "marker": {
             "colorbar": {
              "outlinewidth": 0,
              "ticks": ""
             }
            },
            "type": "scatterpolargl"
           }
          ],
          "scatterternary": [
           {
            "marker": {
             "colorbar": {
              "outlinewidth": 0,
              "ticks": ""
             }
            },
            "type": "scatterternary"
           }
          ],
          "surface": [
           {
            "colorbar": {
             "outlinewidth": 0,
             "ticks": ""
            },
            "colorscale": [
             [
              0,
              "#0d0887"
             ],
             [
              0.1111111111111111,
              "#46039f"
             ],
             [
              0.2222222222222222,
              "#7201a8"
             ],
             [
              0.3333333333333333,
              "#9c179e"
             ],
             [
              0.4444444444444444,
              "#bd3786"
             ],
             [
              0.5555555555555556,
              "#d8576b"
             ],
             [
              0.6666666666666666,
              "#ed7953"
             ],
             [
              0.7777777777777778,
              "#fb9f3a"
             ],
             [
              0.8888888888888888,
              "#fdca26"
             ],
             [
              1,
              "#f0f921"
             ]
            ],
            "type": "surface"
           }
          ],
          "table": [
           {
            "cells": {
             "fill": {
              "color": "#506784"
             },
             "line": {
              "color": "rgb(17,17,17)"
             }
            },
            "header": {
             "fill": {
              "color": "#2a3f5f"
             },
             "line": {
              "color": "rgb(17,17,17)"
             }
            },
            "type": "table"
           }
          ]
         },
         "layout": {
          "annotationdefaults": {
           "arrowcolor": "#f2f5fa",
           "arrowhead": 0,
           "arrowwidth": 1
          },
          "autotypenumbers": "strict",
          "coloraxis": {
           "colorbar": {
            "outlinewidth": 0,
            "ticks": ""
           }
          },
          "colorscale": {
           "diverging": [
            [
             0,
             "#8e0152"
            ],
            [
             0.1,
             "#c51b7d"
            ],
            [
             0.2,
             "#de77ae"
            ],
            [
             0.3,
             "#f1b6da"
            ],
            [
             0.4,
             "#fde0ef"
            ],
            [
             0.5,
             "#f7f7f7"
            ],
            [
             0.6,
             "#e6f5d0"
            ],
            [
             0.7,
             "#b8e186"
            ],
            [
             0.8,
             "#7fbc41"
            ],
            [
             0.9,
             "#4d9221"
            ],
            [
             1,
             "#276419"
            ]
           ],
           "sequential": [
            [
             0,
             "#0d0887"
            ],
            [
             0.1111111111111111,
             "#46039f"
            ],
            [
             0.2222222222222222,
             "#7201a8"
            ],
            [
             0.3333333333333333,
             "#9c179e"
            ],
            [
             0.4444444444444444,
             "#bd3786"
            ],
            [
             0.5555555555555556,
             "#d8576b"
            ],
            [
             0.6666666666666666,
             "#ed7953"
            ],
            [
             0.7777777777777778,
             "#fb9f3a"
            ],
            [
             0.8888888888888888,
             "#fdca26"
            ],
            [
             1,
             "#f0f921"
            ]
           ],
           "sequentialminus": [
            [
             0,
             "#0d0887"
            ],
            [
             0.1111111111111111,
             "#46039f"
            ],
            [
             0.2222222222222222,
             "#7201a8"
            ],
            [
             0.3333333333333333,
             "#9c179e"
            ],
            [
             0.4444444444444444,
             "#bd3786"
            ],
            [
             0.5555555555555556,
             "#d8576b"
            ],
            [
             0.6666666666666666,
             "#ed7953"
            ],
            [
             0.7777777777777778,
             "#fb9f3a"
            ],
            [
             0.8888888888888888,
             "#fdca26"
            ],
            [
             1,
             "#f0f921"
            ]
           ]
          },
          "colorway": [
           "#636efa",
           "#EF553B",
           "#00cc96",
           "#ab63fa",
           "#FFA15A",
           "#19d3f3",
           "#FF6692",
           "#B6E880",
           "#FF97FF",
           "#FECB52"
          ],
          "font": {
           "color": "#f2f5fa"
          },
          "geo": {
           "bgcolor": "rgb(17,17,17)",
           "lakecolor": "rgb(17,17,17)",
           "landcolor": "rgb(17,17,17)",
           "showlakes": true,
           "showland": true,
           "subunitcolor": "#506784"
          },
          "hoverlabel": {
           "align": "left"
          },
          "hovermode": "closest",
          "mapbox": {
           "style": "dark"
          },
          "paper_bgcolor": "rgb(17,17,17)",
          "plot_bgcolor": "rgb(17,17,17)",
          "polar": {
           "angularaxis": {
            "gridcolor": "#506784",
            "linecolor": "#506784",
            "ticks": ""
           },
           "bgcolor": "rgb(17,17,17)",
           "radialaxis": {
            "gridcolor": "#506784",
            "linecolor": "#506784",
            "ticks": ""
           }
          },
          "scene": {
           "xaxis": {
            "backgroundcolor": "rgb(17,17,17)",
            "gridcolor": "#506784",
            "gridwidth": 2,
            "linecolor": "#506784",
            "showbackground": true,
            "ticks": "",
            "zerolinecolor": "#C8D4E3"
           },
           "yaxis": {
            "backgroundcolor": "rgb(17,17,17)",
            "gridcolor": "#506784",
            "gridwidth": 2,
            "linecolor": "#506784",
            "showbackground": true,
            "ticks": "",
            "zerolinecolor": "#C8D4E3"
           },
           "zaxis": {
            "backgroundcolor": "rgb(17,17,17)",
            "gridcolor": "#506784",
            "gridwidth": 2,
            "linecolor": "#506784",
            "showbackground": true,
            "ticks": "",
            "zerolinecolor": "#C8D4E3"
           }
          },
          "shapedefaults": {
           "line": {
            "color": "#f2f5fa"
           }
          },
          "sliderdefaults": {
           "bgcolor": "#C8D4E3",
           "bordercolor": "rgb(17,17,17)",
           "borderwidth": 1,
           "tickwidth": 0
          },
          "ternary": {
           "aaxis": {
            "gridcolor": "#506784",
            "linecolor": "#506784",
            "ticks": ""
           },
           "baxis": {
            "gridcolor": "#506784",
            "linecolor": "#506784",
            "ticks": ""
           },
           "bgcolor": "rgb(17,17,17)",
           "caxis": {
            "gridcolor": "#506784",
            "linecolor": "#506784",
            "ticks": ""
           }
          },
          "title": {
           "x": 0.05
          },
          "updatemenudefaults": {
           "bgcolor": "#506784",
           "borderwidth": 0
          },
          "xaxis": {
           "automargin": true,
           "gridcolor": "#283442",
           "linecolor": "#506784",
           "ticks": "",
           "title": {
            "standoff": 15
           },
           "zerolinecolor": "#283442",
           "zerolinewidth": 2
          },
          "yaxis": {
           "automargin": true,
           "gridcolor": "#283442",
           "linecolor": "#506784",
           "ticks": "",
           "title": {
            "standoff": 15
           },
           "zerolinecolor": "#283442",
           "zerolinewidth": 2
          }
         }
        },
        "title": {
         "text": "Training and Testing Metrics"
        },
        "xaxis": {
         "anchor": "y",
         "domain": [
          0,
          1
         ],
         "title": {
          "text": "Epoch"
         }
        },
        "xaxis2": {
         "anchor": "y2",
         "domain": [
          0,
          1
         ],
         "title": {
          "text": "Epoch"
         }
        },
        "yaxis": {
         "anchor": "x",
         "domain": [
          0.625,
          1
         ],
         "title": {
          "text": "Loss"
         }
        },
        "yaxis2": {
         "anchor": "x2",
         "domain": [
          0,
          0.375
         ],
         "title": {
          "text": "Accuracy (%)"
         }
        }
       }
      }
     },
     "metadata": {},
     "output_type": "display_data"
    }
   ],
   "source": [
    "FastText.plot_metrics(*res)"
   ]
  },
  {
   "cell_type": "markdown",
   "metadata": {},
   "source": [
    "### Слово разделяется на n-граммы"
   ]
  },
  {
   "cell_type": "code",
   "execution_count": 15,
   "metadata": {},
   "outputs": [
    {
     "name": "stdout",
     "output_type": "stream",
     "text": [
      "[11504, 525, 5096, 13099, 5052, 12708]\n",
      "['Добрый']\n"
     ]
    }
   ],
   "source": [
    "test_text = 'Добрый'\n",
    "test_text_idx = tokenizer.encode(test_text)\n",
    "print(test_text_idx)\n",
    "dec_test_text_idx = tokenizer.decode(test_text_idx)\n",
    "print(dec_test_text_idx)"
   ]
  },
  {
   "cell_type": "code",
   "execution_count": 16,
   "metadata": {},
   "outputs": [],
   "source": [
    "embed = model[test_text_idx]"
   ]
  },
  {
   "cell_type": "code",
   "execution_count": 17,
   "metadata": {},
   "outputs": [
    {
     "data": {
      "text/plain": [
       "torch.Size([256])"
      ]
     },
     "execution_count": 17,
     "metadata": {},
     "output_type": "execute_result"
    }
   ],
   "source": [
    "embed.shape"
   ]
  },
  {
   "cell_type": "markdown",
   "metadata": {},
   "source": [
    "### Благодаря разделению на n-граммы можно получить эмбеддинг любой фразы"
   ]
  },
  {
   "cell_type": "code",
   "execution_count": 18,
   "metadata": {},
   "outputs": [
    {
     "name": "stdout",
     "output_type": "stream",
     "text": [
      "[11504, 525, 5096, 13099, 5052, 12708, 9379, 2413, 10600, 217, 12615, 8715, 1027, 6900, 12595, 6450, 12708]\n",
      "['Добрый', 'и', 'позитивный']\n"
     ]
    }
   ],
   "source": [
    "test_text = 'Добрый и позитивный'\n",
    "test_text_idx = tokenizer.encode(test_text)\n",
    "print(test_text_idx)\n",
    "dec_test_text_idx = tokenizer.decode(test_text_idx)\n",
    "print(dec_test_text_idx)"
   ]
  },
  {
   "cell_type": "code",
   "execution_count": 19,
   "metadata": {},
   "outputs": [],
   "source": [
    "embed = model[test_text_idx]"
   ]
  },
  {
   "cell_type": "code",
   "execution_count": 20,
   "metadata": {},
   "outputs": [
    {
     "data": {
      "text/plain": [
       "torch.Size([256])"
      ]
     },
     "execution_count": 20,
     "metadata": {},
     "output_type": "execute_result"
    }
   ],
   "source": [
    "embed.shape"
   ]
  },
  {
   "cell_type": "markdown",
   "metadata": {},
   "source": [
    "### Почти любой..."
   ]
  },
  {
   "cell_type": "code",
   "execution_count": 21,
   "metadata": {},
   "outputs": [
    {
     "name": "stdout",
     "output_type": "stream",
     "text": [
      "[0, 0, 0, 11952, 9411]\n",
      "['<UNK>', '<UNK>', '<UNK>', 'м']\n"
     ]
    }
   ],
   "source": [
    "test_text = 'кмлум'\n",
    "test_text_idx = tokenizer.encode(test_text)\n",
    "print(test_text_idx)\n",
    "dec_test_text_idx = tokenizer.decode(test_text_idx)\n",
    "print(dec_test_text_idx)"
   ]
  },
  {
   "cell_type": "code",
   "execution_count": 22,
   "metadata": {},
   "outputs": [
    {
     "data": {
      "text/plain": [
       "torch.Size([256])"
      ]
     },
     "execution_count": 22,
     "metadata": {},
     "output_type": "execute_result"
    }
   ],
   "source": [
    "embed = model[test_text_idx]\n",
    "embed.shape"
   ]
  },
  {
   "cell_type": "markdown",
   "metadata": {},
   "source": [
    "### Чтобы вычислить ближайшие слова к данному нужно немного магии (а именно добавить индексы каждого слова)"
   ]
  },
  {
   "cell_type": "code",
   "execution_count": 23,
   "metadata": {},
   "outputs": [],
   "source": [
    "word1 = 'Андрей'\n",
    "word1_idx = tokenizer.encode(word1)\n",
    "all_words_idx = [tokenizer.encode(word) for word in tokenizer.real_words]\n",
    "near1 = model.k_Nearest(all_words_idx, word1_idx, k=10, use_cosine=False)"
   ]
  },
  {
   "cell_type": "code",
   "execution_count": 24,
   "metadata": {},
   "outputs": [
    {
     "name": "stdout",
     "output_type": "stream",
     "text": [
      "['Андрей', 'Андреем', 'Андрею', 'Андрее', 'Андреевичу', 'Андреевича', 'Андрея', 'Андреевич', 'Андреи', 'Aндрей', 'Андреевской']\n"
     ]
    }
   ],
   "source": [
    "print([tokenizer.real_words[near1_idx] for near1_idx in near1])"
   ]
  },
  {
   "cell_type": "code",
   "execution_count": 25,
   "metadata": {},
   "outputs": [
    {
     "data": {
      "application/vnd.plotly.v1+json": {
       "config": {
        "plotlyServerURL": "https://plot.ly"
       },
       "data": [
        {
         "marker": {
          "color": "rgba(135, 206, 250, 0.6)",
          "line": {
           "color": "DarkSlateGrey",
           "width": 1
          },
          "size": 8
         },
         "mode": "markers+text",
         "name": "Андрей",
         "text": [
          "Андрей"
         ],
         "textposition": "top center",
         "type": "scatter",
         "x": [
          -1.4500819444656372
         ],
         "y": [
          -6.744152069091797
         ]
        },
        {
         "marker": {
          "color": "rgba(135, 206, 250, 0.6)",
          "line": {
           "color": "DarkSlateGrey",
           "width": 1
          },
          "size": 8
         },
         "mode": "markers+text",
         "name": "Андрею",
         "text": [
          "Андрею"
         ],
         "textposition": "top center",
         "type": "scatter",
         "x": [
          -0.5753181576728821
         ],
         "y": [
          -7.3697075843811035
         ]
        },
        {
         "marker": {
          "color": "rgba(135, 206, 250, 0.6)",
          "line": {
           "color": "DarkSlateGrey",
           "width": 1
          },
          "size": 8
         },
         "mode": "markers+text",
         "name": "Андреем",
         "text": [
          "Андреем"
         ],
         "textposition": "top center",
         "type": "scatter",
         "x": [
          -0.729164183139801
         ],
         "y": [
          -6.565190315246582
         ]
        },
        {
         "marker": {
          "color": "rgba(135, 206, 250, 0.6)",
          "line": {
           "color": "DarkSlateGrey",
           "width": 1
          },
          "size": 8
         },
         "mode": "markers+text",
         "name": "Aндрей",
         "text": [
          "Aндрей"
         ],
         "textposition": "top center",
         "type": "scatter",
         "x": [
          -2.3202264308929443
         ],
         "y": [
          -6.938319683074951
         ]
        },
        {
         "marker": {
          "color": "rgba(135, 206, 250, 0.6)",
          "line": {
           "color": "DarkSlateGrey",
           "width": 1
          },
          "size": 8
         },
         "mode": "markers+text",
         "name": "дрей",
         "text": [
          "дрей"
         ],
         "textposition": "top center",
         "type": "scatter",
         "x": [
          3.6245510578155518
         ],
         "y": [
          -6.088377952575684
         ]
        },
        {
         "marker": {
          "color": "rgba(135, 206, 250, 0.6)",
          "line": {
           "color": "DarkSlateGrey",
           "width": 1
          },
          "size": 8
         },
         "mode": "markers+text",
         "name": "Андрее",
         "text": [
          "Андрее"
         ],
         "textposition": "top center",
         "type": "scatter",
         "x": [
          -0.5819927453994751
         ],
         "y": [
          -6.809647560119629
         ]
        },
        {
         "marker": {
          "color": "rgba(135, 206, 250, 0.6)",
          "line": {
           "color": "DarkSlateGrey",
           "width": 1
          },
          "size": 8
         },
         "mode": "markers+text",
         "name": "Андрея",
         "text": [
          "Андрея"
         ],
         "textposition": "top center",
         "type": "scatter",
         "x": [
          -0.039841730147600174
         ],
         "y": [
          -7.046663761138916
         ]
        },
        {
         "marker": {
          "color": "rgba(135, 206, 250, 0.6)",
          "line": {
           "color": "DarkSlateGrey",
           "width": 1
          },
          "size": 8
         },
         "mode": "markers+text",
         "name": "Андреи",
         "text": [
          "Андреи"
         ],
         "textposition": "top center",
         "type": "scatter",
         "x": [
          0.7380913496017456
         ],
         "y": [
          -6.881001949310303
         ]
        },
        {
         "marker": {
          "color": "rgba(135, 206, 250, 0.6)",
          "line": {
           "color": "DarkSlateGrey",
           "width": 1
          },
          "size": 8
         },
         "mode": "markers+text",
         "name": "Андреевичу",
         "text": [
          "Андреевичу"
         ],
         "textposition": "top center",
         "type": "scatter",
         "x": [
          -0.456587016582489
         ],
         "y": [
          -5.721307754516602
         ]
        },
        {
         "marker": {
          "color": "rgba(135, 206, 250, 0.6)",
          "line": {
           "color": "DarkSlateGrey",
           "width": 1
          },
          "size": 8
         },
         "mode": "markers+text",
         "name": "Андреевича",
         "text": [
          "Андреевича"
         ],
         "textposition": "top center",
         "type": "scatter",
         "x": [
          -0.4837283790111542
         ],
         "y": [
          -5.855546474456787
         ]
        },
        {
         "marker": {
          "color": "rgba(135, 206, 250, 0.6)",
          "line": {
           "color": "DarkSlateGrey",
           "width": 1
          },
          "size": 8
         },
         "mode": "markers+text",
         "name": "Андреевич",
         "text": [
          "Андреевич"
         ],
         "textposition": "top center",
         "type": "scatter",
         "x": [
          -0.5460494756698608
         ],
         "y": [
          -5.905161380767822
         ]
        },
        {
         "marker": {
          "color": "rgba(135, 206, 250, 0.6)",
          "line": {
           "color": "DarkSlateGrey",
           "width": 1
          },
          "size": 8
         },
         "mode": "markers+text",
         "name": "Андреич",
         "text": [
          "Андреич"
         ],
         "textposition": "top center",
         "type": "scatter",
         "x": [
          0.8842765688896179
         ],
         "y": [
          -6.390919208526611
         ]
        },
        {
         "marker": {
          "color": "rgba(135, 206, 250, 0.6)",
          "line": {
           "color": "DarkSlateGrey",
           "width": 1
          },
          "size": 8
         },
         "mode": "markers+text",
         "name": "Андреичу",
         "text": [
          "Андреичу"
         ],
         "textposition": "top center",
         "type": "scatter",
         "x": [
          0.9343736171722412
         ],
         "y": [
          -5.9961724281311035
         ]
        },
        {
         "marker": {
          "color": "rgba(135, 206, 250, 0.6)",
          "line": {
           "color": "DarkSlateGrey",
           "width": 1
          },
          "size": 8
         },
         "mode": "markers+text",
         "name": "Андреича",
         "text": [
          "Андреича"
         ],
         "textposition": "top center",
         "type": "scatter",
         "x": [
          0.8726796507835388
         ],
         "y": [
          -6.273341178894043
         ]
        },
        {
         "marker": {
          "color": "rgba(135, 206, 250, 0.6)",
          "line": {
           "color": "DarkSlateGrey",
           "width": 1
          },
          "size": 8
         },
         "mode": "markers+text",
         "name": "Андреевской",
         "text": [
          "Андреевской"
         ],
         "textposition": "top center",
         "type": "scatter",
         "x": [
          -0.45098716020584106
         ],
         "y": [
          -5.164221286773682
         ]
        },
        {
         "marker": {
          "color": "rgba(135, 206, 250, 0.6)",
          "line": {
           "color": "DarkSlateGrey",
           "width": 1
          },
          "size": 8
         },
         "mode": "markers+text",
         "name": "Андреичем",
         "text": [
          "Андреичем"
         ],
         "textposition": "top center",
         "type": "scatter",
         "x": [
          1.0080450773239136
         ],
         "y": [
          -5.790070533752441
         ]
        },
        {
         "marker": {
          "color": "rgba(135, 206, 250, 0.6)",
          "line": {
           "color": "DarkSlateGrey",
           "width": 1
          },
          "size": 8
         },
         "mode": "markers+text",
         "name": "брей",
         "text": [
          "брей"
         ],
         "textposition": "top center",
         "type": "scatter",
         "x": [
          0.00908838864415884
         ],
         "y": [
          5.5301337242126465
         ]
        },
        {
         "marker": {
          "color": "rgba(135, 206, 250, 0.6)",
          "line": {
           "color": "DarkSlateGrey",
           "width": 1
          },
          "size": 8
         },
         "mode": "markers+text",
         "name": "матерей",
         "text": [
          "матерей"
         ],
         "textposition": "top center",
         "type": "scatter",
         "x": [
          0.9386475086212158
         ],
         "y": [
          2.822658061981201
         ]
        },
        {
         "marker": {
          "color": "rgba(135, 206, 250, 0.6)",
          "line": {
           "color": "DarkSlateGrey",
           "width": 1
          },
          "size": 8
         },
         "mode": "markers+text",
         "name": "оранжерей",
         "text": [
          "оранжерей"
         ],
         "textposition": "top center",
         "type": "scatter",
         "x": [
          0.2632007598876953
         ],
         "y": [
          2.3374404907226562
         ]
        },
        {
         "marker": {
          "color": "rgba(135, 206, 250, 0.6)",
          "line": {
           "color": "DarkSlateGrey",
           "width": 1
          },
          "size": 8
         },
         "mode": "markers+text",
         "name": "Андрюши",
         "text": [
          "Андрюши"
         ],
         "textposition": "top center",
         "type": "scatter",
         "x": [
          1.0423030853271484
         ],
         "y": [
          -8.752126693725586
         ]
        },
        {
         "marker": {
          "color": "rgba(135, 206, 250, 0.6)",
          "line": {
           "color": "DarkSlateGrey",
           "width": 1
          },
          "size": 8
         },
         "mode": "markers+text",
         "name": "дверей",
         "text": [
          "дверей"
         ],
         "textposition": "top center",
         "type": "scatter",
         "x": [
          0.4155215322971344
         ],
         "y": [
          3.461364269256592
         ]
        },
        {
         "marker": {
          "color": "rgba(135, 206, 250, 0.6)",
          "line": {
           "color": "DarkSlateGrey",
           "width": 1
          },
          "size": 8
         },
         "mode": "markers+text",
         "name": "дочерей",
         "text": [
          "дочерей"
         ],
         "textposition": "top center",
         "type": "scatter",
         "x": [
          1.5195804834365845
         ],
         "y": [
          3.4755735397338867
         ]
        },
        {
         "marker": {
          "color": "rgba(135, 206, 250, 0.6)",
          "line": {
           "color": "DarkSlateGrey",
           "width": 1
          },
          "size": 8
         },
         "mode": "markers+text",
         "name": "монастырей",
         "text": [
          "монастырей"
         ],
         "textposition": "top center",
         "type": "scatter",
         "x": [
          -0.9750075936317444
         ],
         "y": [
          1.679679036140442
         ]
        },
        {
         "marker": {
          "color": "rgba(135, 206, 250, 0.6)",
          "line": {
           "color": "DarkSlateGrey",
           "width": 1
          },
          "size": 8
         },
         "mode": "markers+text",
         "name": "Андрюшу",
         "text": [
          "Андрюшу"
         ],
         "textposition": "top center",
         "type": "scatter",
         "x": [
          1.1046942472457886
         ],
         "y": [
          -8.802257537841797
         ]
        },
        {
         "marker": {
          "color": "rgba(135, 206, 250, 0.6)",
          "line": {
           "color": "DarkSlateGrey",
           "width": 1
          },
          "size": 8
         },
         "mode": "markers+text",
         "name": "зверей",
         "text": [
          "зверей"
         ],
         "textposition": "top center",
         "type": "scatter",
         "x": [
          0.4412355124950409
         ],
         "y": [
          3.5486230850219727
         ]
        },
        {
         "marker": {
          "color": "rgba(135, 206, 250, 0.6)",
          "line": {
           "color": "DarkSlateGrey",
           "width": 1
          },
          "size": 8
         },
         "mode": "markers+text",
         "name": "потерей",
         "text": [
          "потерей"
         ],
         "textposition": "top center",
         "type": "scatter",
         "x": [
          1.1616288423538208
         ],
         "y": [
          2.762688398361206
         ]
        },
        {
         "marker": {
          "color": "rgba(135, 206, 250, 0.6)",
          "line": {
           "color": "DarkSlateGrey",
           "width": 1
          },
          "size": 8
         },
         "mode": "markers+text",
         "name": "фонарей",
         "text": [
          "фонарей"
         ],
         "textposition": "top center",
         "type": "scatter",
         "x": [
          -1.493866205215454
         ],
         "y": [
          3.937791109085083
         ]
        },
        {
         "marker": {
          "color": "rgba(135, 206, 250, 0.6)",
          "line": {
           "color": "DarkSlateGrey",
           "width": 1
          },
          "size": 8
         },
         "mode": "markers+text",
         "name": "зарей",
         "text": [
          "зарей"
         ],
         "textposition": "top center",
         "type": "scatter",
         "x": [
          -1.5080382823944092
         ],
         "y": [
          4.938697814941406
         ]
        },
        {
         "marker": {
          "color": "rgba(135, 206, 250, 0.6)",
          "line": {
           "color": "DarkSlateGrey",
           "width": 1
          },
          "size": 8
         },
         "mode": "markers+text",
         "name": "Борей",
         "text": [
          "Борей"
         ],
         "textposition": "top center",
         "type": "scatter",
         "x": [
          1.4518994092941284
         ],
         "y": [
          5.511227607727051
         ]
        },
        {
         "marker": {
          "color": "rgba(135, 206, 250, 0.6)",
          "line": {
           "color": "DarkSlateGrey",
           "width": 1
          },
          "size": 8
         },
         "mode": "markers+text",
         "name": "Андрюша",
         "text": [
          "Андрюша"
         ],
         "textposition": "top center",
         "type": "scatter",
         "x": [
          1.0985524654388428
         ],
         "y": [
          -8.815330505371094
         ]
        },
        {
         "marker": {
          "color": "rgba(135, 206, 250, 0.6)",
          "line": {
           "color": "DarkSlateGrey",
           "width": 1
          },
          "size": 8
         },
         "mode": "markers+text",
         "name": "государей",
         "text": [
          "государей"
         ],
         "textposition": "top center",
         "type": "scatter",
         "x": [
          -1.264855146408081
         ],
         "y": [
          2.7013132572174072
         ]
        },
        {
         "marker": {
          "color": "rgba(135, 206, 250, 0.6)",
          "line": {
           "color": "DarkSlateGrey",
           "width": 1
          },
          "size": 8
         },
         "mode": "markers+text",
         "name": "царей",
         "text": [
          "царей"
         ],
         "textposition": "top center",
         "type": "scatter",
         "x": [
          -2.4585623741149902
         ],
         "y": [
          4.691938877105713
         ]
        },
        {
         "marker": {
          "color": "rgba(135, 206, 250, 0.6)",
          "line": {
           "color": "DarkSlateGrey",
           "width": 1
          },
          "size": 8
         },
         "mode": "markers+text",
         "name": "сухарей",
         "text": [
          "сухарей"
         ],
         "textposition": "top center",
         "type": "scatter",
         "x": [
          -1.092144250869751
         ],
         "y": [
          3.5759127140045166
         ]
        },
        {
         "marker": {
          "color": "rgba(135, 206, 250, 0.6)",
          "line": {
           "color": "DarkSlateGrey",
           "width": 1
          },
          "size": 8
         },
         "mode": "markers+text",
         "name": "лекарей",
         "text": [
          "лекарей"
         ],
         "textposition": "top center",
         "type": "scatter",
         "x": [
          -1.4613779783248901
         ],
         "y": [
          3.3160617351531982
         ]
        },
        {
         "marker": {
          "color": "rgba(135, 206, 250, 0.6)",
          "line": {
           "color": "DarkSlateGrey",
           "width": 1
          },
          "size": 8
         },
         "mode": "markers+text",
         "name": "сказавшей",
         "text": [
          "сказавшей"
         ],
         "textposition": "top center",
         "type": "scatter",
         "x": [
          -1.9613332748413086
         ],
         "y": [
          -0.7703264355659485
         ]
        },
        {
         "marker": {
          "color": "rgba(135, 206, 250, 0.6)",
          "line": {
           "color": "DarkSlateGrey",
           "width": 1
          },
          "size": 8
         },
         "mode": "markers+text",
         "name": "поскорей",
         "text": [
          "поскорей"
         ],
         "textposition": "top center",
         "type": "scatter",
         "x": [
          1.2496293783187866
         ],
         "y": [
          4.807230472564697
         ]
        },
        {
         "marker": {
          "color": "rgba(135, 206, 250, 0.6)",
          "line": {
           "color": "DarkSlateGrey",
           "width": 1
          },
          "size": 8
         },
         "mode": "markers+text",
         "name": "долей",
         "text": [
          "долей"
         ],
         "textposition": "top center",
         "type": "scatter",
         "x": [
          4.11446475982666
         ],
         "y": [
          -2.4623188972473145
         ]
        },
        {
         "marker": {
          "color": "rgba(135, 206, 250, 0.6)",
          "line": {
           "color": "DarkSlateGrey",
           "width": 1
          },
          "size": 8
         },
         "mode": "markers+text",
         "name": "скорей",
         "text": [
          "скорей"
         ],
         "textposition": "top center",
         "type": "scatter",
         "x": [
          1.3685343265533447
         ],
         "y": [
          5.04993200302124
         ]
        },
        {
         "marker": {
          "color": "rgba(135, 206, 250, 0.6)",
          "line": {
           "color": "DarkSlateGrey",
           "width": 1
          },
          "size": 8
         },
         "mode": "markers+text",
         "name": "задребезжал",
         "text": [
          "задребезжал"
         ],
         "textposition": "top center",
         "type": "scatter",
         "x": [
          -2.5261354446411133
         ],
         "y": [
          -4.526273727416992
         ]
        },
        {
         "marker": {
          "color": "rgba(135, 206, 250, 0.6)",
          "line": {
           "color": "DarkSlateGrey",
           "width": 1
          },
          "size": 8
         },
         "mode": "markers+text",
         "name": "подрезами",
         "text": [
          "подрезами"
         ],
         "textposition": "top center",
         "type": "scatter",
         "x": [
          -0.0680873841047287
         ],
         "y": [
          -3.716212034225464
         ]
        },
        {
         "marker": {
          "color": "rgba(135, 206, 250, 0.6)",
          "line": {
           "color": "DarkSlateGrey",
           "width": 1
          },
          "size": 8
         },
         "mode": "markers+text",
         "name": "дошедшей",
         "text": [
          "дошедшей"
         ],
         "textposition": "top center",
         "type": "scatter",
         "x": [
          -3.6323437690734863
         ],
         "y": [
          -1.2512379884719849
         ]
        },
        {
         "marker": {
          "color": "rgba(135, 206, 250, 0.6)",
          "line": {
           "color": "DarkSlateGrey",
           "width": 1
          },
          "size": 8
         },
         "mode": "markers+text",
         "name": "пожалей",
         "text": [
          "пожалей"
         ],
         "textposition": "top center",
         "type": "scatter",
         "x": [
          2.009773015975952
         ],
         "y": [
          -0.8490737676620483
         ]
        },
        {
         "marker": {
          "color": "rgba(135, 206, 250, 0.6)",
          "line": {
           "color": "DarkSlateGrey",
           "width": 1
          },
          "size": 8
         },
         "mode": "markers+text",
         "name": "Гей",
         "text": [
          "Гей"
         ],
         "textposition": "top center",
         "type": "scatter",
         "x": [
          -6.223480224609375
         ],
         "y": [
          -1.6865105628967285
         ]
        },
        {
         "marker": {
          "color": "rgba(135, 206, 250, 0.6)",
          "line": {
           "color": "DarkSlateGrey",
           "width": 1
          },
          "size": 8
         },
         "mode": "markers+text",
         "name": "рыцарей",
         "text": [
          "рыцарей"
         ],
         "textposition": "top center",
         "type": "scatter",
         "x": [
          -2.5990984439849854
         ],
         "y": [
          4.759462356567383
         ]
        },
        {
         "marker": {
          "color": "rgba(135, 206, 250, 0.6)",
          "line": {
           "color": "DarkSlateGrey",
           "width": 1
          },
          "size": 8
         },
         "mode": "markers+text",
         "name": "батарей",
         "text": [
          "батарей"
         ],
         "textposition": "top center",
         "type": "scatter",
         "x": [
          -1.628119945526123
         ],
         "y": [
          3.4683361053466797
         ]
        },
        {
         "marker": {
          "color": "rgba(135, 206, 250, 0.6)",
          "line": {
           "color": "DarkSlateGrey",
           "width": 1
          },
          "size": 8
         },
         "mode": "markers+text",
         "name": "талией",
         "text": [
          "талией"
         ],
         "textposition": "top center",
         "type": "scatter",
         "x": [
          1.1451570987701416
         ],
         "y": [
          -2.686011791229248
         ]
        },
        {
         "marker": {
          "color": "rgba(135, 206, 250, 0.6)",
          "line": {
           "color": "DarkSlateGrey",
           "width": 1
          },
          "size": 8
         },
         "mode": "markers+text",
         "name": "дребезжали",
         "text": [
          "дребезжали"
         ],
         "textposition": "top center",
         "type": "scatter",
         "x": [
          -2.6025490760803223
         ],
         "y": [
          -4.686705589294434
         ]
        },
        {
         "marker": {
          "color": "rgba(135, 206, 250, 0.6)",
          "line": {
           "color": "DarkSlateGrey",
           "width": 1
          },
          "size": 8
         },
         "mode": "markers+text",
         "name": "задремавшего",
         "text": [
          "задремавшего"
         ],
         "textposition": "top center",
         "type": "scatter",
         "x": [
          -1.6994112730026245
         ],
         "y": [
          -3.440260887145996
         ]
        },
        {
         "marker": {
          "color": "rgba(135, 206, 250, 0.6)",
          "line": {
           "color": "DarkSlateGrey",
           "width": 1
          },
          "size": 8
         },
         "mode": "markers+text",
         "name": "позицией",
         "text": [
          "позицией"
         ],
         "textposition": "top center",
         "type": "scatter",
         "x": [
          1.1325716972351074
         ],
         "y": [
          -1.826139211654663
         ]
        },
        {
         "marker": {
          "color": "rgba(135, 206, 250, 0.6)",
          "line": {
           "color": "DarkSlateGrey",
           "width": 1
          },
          "size": 8
         },
         "mode": "markers+text",
         "name": "залитые",
         "text": [
          "залитые"
         ],
         "textposition": "top center",
         "type": "scatter",
         "x": [
          -2.618741512298584
         ],
         "y": [
          -2.7991790771484375
         ]
        },
        {
         "marker": {
          "color": "rgba(135, 206, 250, 0.6)",
          "line": {
           "color": "DarkSlateGrey",
           "width": 1
          },
          "size": 8
         },
         "mode": "markers+text",
         "name": "попавшей",
         "text": [
          "попавшей"
         ],
         "textposition": "top center",
         "type": "scatter",
         "x": [
          -2.731802225112915
         ],
         "y": [
          -0.02350999042391777
         ]
        },
        {
         "marker": {
          "color": "rgba(135, 206, 250, 0.6)",
          "line": {
           "color": "DarkSlateGrey",
           "width": 1
          },
          "size": 8
         },
         "mode": "markers+text",
         "name": "прядей",
         "text": [
          "прядей"
         ],
         "textposition": "top center",
         "type": "scatter",
         "x": [
          5.023482799530029
         ],
         "y": [
          0.8750550746917725
         ]
        },
        {
         "marker": {
          "color": "rgba(135, 206, 250, 0.6)",
          "line": {
           "color": "DarkSlateGrey",
           "width": 1
          },
          "size": 8
         },
         "mode": "markers+text",
         "name": "пей",
         "text": [
          "пей"
         ],
         "textposition": "top center",
         "type": "scatter",
         "x": [
          -4.20552396774292
         ],
         "y": [
          1.440483808517456
         ]
        },
        {
         "marker": {
          "color": "rgba(135, 206, 250, 0.6)",
          "line": {
           "color": "DarkSlateGrey",
           "width": 1
          },
          "size": 8
         },
         "mode": "markers+text",
         "name": "подошедшей",
         "text": [
          "подошедшей"
         ],
         "textposition": "top center",
         "type": "scatter",
         "x": [
          -3.377441883087158
         ],
         "y": [
          -1.1547874212265015
         ]
        },
        {
         "marker": {
          "color": "rgba(135, 206, 250, 0.6)",
          "line": {
           "color": "DarkSlateGrey",
           "width": 1
          },
          "size": 8
         },
         "mode": "markers+text",
         "name": "Ларрей",
         "text": [
          "Ларрей"
         ],
         "textposition": "top center",
         "type": "scatter",
         "x": [
          -2.5855822563171387
         ],
         "y": [
          2.8155617713928223
         ]
        },
        {
         "marker": {
          "color": "rgba(135, 206, 250, 0.6)",
          "line": {
           "color": "DarkSlateGrey",
           "width": 1
          },
          "size": 8
         },
         "mode": "markers+text",
         "name": "третьей",
         "text": [
          "третьей"
         ],
         "textposition": "top center",
         "type": "scatter",
         "x": [
          1.021653652191162
         ],
         "y": [
          0.39121168851852417
         ]
        },
        {
         "marker": {
          "color": "rgba(135, 206, 250, 0.6)",
          "line": {
           "color": "DarkSlateGrey",
           "width": 1
          },
          "size": 8
         },
         "mode": "markers+text",
         "name": "ей",
         "text": [
          "ей"
         ],
         "textposition": "top center",
         "type": "scatter",
         "x": [
          3.8808786869049072
         ],
         "y": [
          4.057643413543701
         ]
        },
        {
         "marker": {
          "color": "rgba(135, 206, 250, 0.6)",
          "line": {
           "color": "DarkSlateGrey",
           "width": 1
          },
          "size": 8
         },
         "mode": "markers+text",
         "name": "Андг",
         "text": [
          "Андг"
         ],
         "textposition": "top center",
         "type": "scatter",
         "x": [
          -0.8488839864730835
         ],
         "y": [
          -8.595335960388184
         ]
        },
        {
         "marker": {
          "color": "rgba(135, 206, 250, 0.6)",
          "line": {
           "color": "DarkSlateGrey",
           "width": 1
          },
          "size": 8
         },
         "mode": "markers+text",
         "name": "последователей",
         "text": [
          "последователей"
         ],
         "textposition": "top center",
         "type": "scatter",
         "x": [
          0.4598179757595062
         ],
         "y": [
          -0.8829293847084045
         ]
        },
        {
         "marker": {
          "color": "rgba(135, 206, 250, 0.6)",
          "line": {
           "color": "DarkSlateGrey",
           "width": 1
          },
          "size": 8
         },
         "mode": "markers+text",
         "name": "чей",
         "text": [
          "чей"
         ],
         "textposition": "top center",
         "type": "scatter",
         "x": [
          -6.594742298126221
         ],
         "y": [
          2.0951216220855713
         ]
        },
        {
         "marker": {
          "color": "rgba(135, 206, 250, 0.6)",
          "line": {
           "color": "DarkSlateGrey",
           "width": 1
          },
          "size": 8
         },
         "mode": "markers+text",
         "name": "вещей",
         "text": [
          "вещей"
         ],
         "textposition": "top center",
         "type": "scatter",
         "x": [
          0.3503972589969635
         ],
         "y": [
          1.0053499937057495
         ]
        },
        {
         "marker": {
          "color": "rgba(135, 206, 250, 0.6)",
          "line": {
           "color": "DarkSlateGrey",
           "width": 1
          },
          "size": 8
         },
         "mode": "markers+text",
         "name": "Чей",
         "text": [
          "Чей"
         ],
         "textposition": "top center",
         "type": "scatter",
         "x": [
          -4.316200256347656
         ],
         "y": [
          3.285296678543091
         ]
        },
        {
         "marker": {
          "color": "rgba(135, 206, 250, 0.6)",
          "line": {
           "color": "DarkSlateGrey",
           "width": 1
          },
          "size": 8
         },
         "mode": "markers+text",
         "name": "Алексей",
         "text": [
          "Алексей"
         ],
         "textposition": "top center",
         "type": "scatter",
         "x": [
          -4.569314002990723
         ],
         "y": [
          -3.661499500274658
         ]
        },
        {
         "marker": {
          "color": "rgba(135, 206, 250, 0.6)",
          "line": {
           "color": "DarkSlateGrey",
           "width": 1
          },
          "size": 8
         },
         "mode": "markers+text",
         "name": "Бей",
         "text": [
          "Бей"
         ],
         "textposition": "top center",
         "type": "scatter",
         "x": [
          -5.087728977203369
         ],
         "y": [
          -0.16315455734729767
         ]
        },
        {
         "marker": {
          "color": "rgba(135, 206, 250, 0.6)",
          "line": {
           "color": "DarkSlateGrey",
           "width": 1
          },
          "size": 8
         },
         "mode": "markers+text",
         "name": "сатирика",
         "text": [
          "сатирика"
         ],
         "textposition": "top center",
         "type": "scatter",
         "x": [
          1.4521539211273193
         ],
         "y": [
          -3.9334640502929688
         ]
        },
        {
         "marker": {
          "color": "rgba(135, 206, 250, 0.6)",
          "line": {
           "color": "DarkSlateGrey",
           "width": 1
          },
          "size": 8
         },
         "mode": "markers+text",
         "name": "замиравшей",
         "text": [
          "замиравшей"
         ],
         "textposition": "top center",
         "type": "scatter",
         "x": [
          -1.846489667892456
         ],
         "y": [
          -0.2499772012233734
         ]
        },
        {
         "marker": {
          "color": "rgba(135, 206, 250, 0.6)",
          "line": {
           "color": "DarkSlateGrey",
           "width": 1
          },
          "size": 8
         },
         "mode": "markers+text",
         "name": "закрывавшей",
         "text": [
          "закрывавшей"
         ],
         "textposition": "top center",
         "type": "scatter",
         "x": [
          -1.506808876991272
         ],
         "y": [
          -0.5138076543807983
         ]
        },
        {
         "marker": {
          "color": "rgba(135, 206, 250, 0.6)",
          "line": {
           "color": "DarkSlateGrey",
           "width": 1
          },
          "size": 8
         },
         "mode": "markers+text",
         "name": "ножей",
         "text": [
          "ножей"
         ],
         "textposition": "top center",
         "type": "scatter",
         "x": [
          2.060105562210083
         ],
         "y": [
          2.232337474822998
         ]
        },
        {
         "marker": {
          "color": "rgba(135, 206, 250, 0.6)",
          "line": {
           "color": "DarkSlateGrey",
           "width": 1
          },
          "size": 8
         },
         "mode": "markers+text",
         "name": "кроватей",
         "text": [
          "кроватей"
         ],
         "textposition": "top center",
         "type": "scatter",
         "x": [
          0.9441663026809692
         ],
         "y": [
          -0.5413272976875305
         ]
        },
        {
         "marker": {
          "color": "rgba(135, 206, 250, 0.6)",
          "line": {
           "color": "DarkSlateGrey",
           "width": 1
          },
          "size": 8
         },
         "mode": "markers+text",
         "name": "соболей",
         "text": [
          "соболей"
         ],
         "textposition": "top center",
         "type": "scatter",
         "x": [
          3.64567232131958
         ],
         "y": [
          -2.28814697265625
         ]
        },
        {
         "marker": {
          "color": "rgba(135, 206, 250, 0.6)",
          "line": {
           "color": "DarkSlateGrey",
           "width": 1
          },
          "size": 8
         },
         "mode": "markers+text",
         "name": "говорившей",
         "text": [
          "говорившей"
         ],
         "textposition": "top center",
         "type": "scatter",
         "x": [
          -1.6259093284606934
         ],
         "y": [
          -1.1105756759643555
         ]
        },
        {
         "marker": {
          "color": "rgba(135, 206, 250, 0.6)",
          "line": {
           "color": "DarkSlateGrey",
           "width": 1
          },
          "size": 8
         },
         "mode": "markers+text",
         "name": "Александре",
         "text": [
          "Александре"
         ],
         "textposition": "top center",
         "type": "scatter",
         "x": [
          -4.487028121948242
         ],
         "y": [
          -3.8430557250976562
         ]
        },
        {
         "marker": {
          "color": "rgba(135, 206, 250, 0.6)",
          "line": {
           "color": "DarkSlateGrey",
           "width": 1
          },
          "size": 8
         },
         "mode": "markers+text",
         "name": "саней",
         "text": [
          "саней"
         ],
         "textposition": "top center",
         "type": "scatter",
         "x": [
          2.7184417247772217
         ],
         "y": [
          0.2927035093307495
         ]
        },
        {
         "marker": {
          "color": "rgba(135, 206, 250, 0.6)",
          "line": {
           "color": "DarkSlateGrey",
           "width": 1
          },
          "size": 8
         },
         "mode": "markers+text",
         "name": "предшествующей",
         "text": [
          "предшествующей"
         ],
         "textposition": "top center",
         "type": "scatter",
         "x": [
          -0.08818251639604568
         ],
         "y": [
          -0.48149579763412476
         ]
        },
        {
         "marker": {
          "color": "rgba(135, 206, 250, 0.6)",
          "line": {
           "color": "DarkSlateGrey",
           "width": 1
          },
          "size": 8
         },
         "mode": "markers+text",
         "name": "семей",
         "text": [
          "семей"
         ],
         "textposition": "top center",
         "type": "scatter",
         "x": [
          -2.8411476612091064
         ],
         "y": [
          1.361548662185669
         ]
        },
        {
         "marker": {
          "color": "rgba(135, 206, 250, 0.6)",
          "line": {
           "color": "DarkSlateGrey",
           "width": 1
          },
          "size": 8
         },
         "mode": "markers+text",
         "name": "полей",
         "text": [
          "полей"
         ],
         "textposition": "top center",
         "type": "scatter",
         "x": [
          4.30709981918335
         ],
         "y": [
          -2.5591835975646973
         ]
        },
        {
         "marker": {
          "color": "rgba(135, 206, 250, 0.6)",
          "line": {
           "color": "DarkSlateGrey",
           "width": 1
          },
          "size": 8
         },
         "mode": "markers+text",
         "name": "бровей",
         "text": [
          "бровей"
         ],
         "textposition": "top center",
         "type": "scatter",
         "x": [
          -0.7607582211494446
         ],
         "y": [
          0.6233314871788025
         ]
        },
        {
         "marker": {
          "color": "rgba(135, 206, 250, 0.6)",
          "line": {
           "color": "DarkSlateGrey",
           "width": 1
          },
          "size": 8
         },
         "mode": "markers+text",
         "name": "печалей",
         "text": [
          "печалей"
         ],
         "textposition": "top center",
         "type": "scatter",
         "x": [
          1.9905942678451538
         ],
         "y": [
          -1.0227383375167847
         ]
        },
        {
         "marker": {
          "color": "rgba(135, 206, 250, 0.6)",
          "line": {
           "color": "DarkSlateGrey",
           "width": 1
          },
          "size": 8
         },
         "mode": "markers+text",
         "name": "бей",
         "text": [
          "бей"
         ],
         "textposition": "top center",
         "type": "scatter",
         "x": [
          3.2557404041290283
         ],
         "y": [
          2.338705539703369
         ]
        },
        {
         "marker": {
          "color": "rgba(135, 206, 250, 0.6)",
          "line": {
           "color": "DarkSlateGrey",
           "width": 1
          },
          "size": 8
         },
         "mode": "markers+text",
         "name": "желавшей",
         "text": [
          "желавшей"
         ],
         "textposition": "top center",
         "type": "scatter",
         "x": [
          -2.7004218101501465
         ],
         "y": [
          -0.2995479702949524
         ]
        },
        {
         "marker": {
          "color": "rgba(135, 206, 250, 0.6)",
          "line": {
           "color": "DarkSlateGrey",
           "width": 1
          },
          "size": 8
         },
         "mode": "markers+text",
         "name": "тварей",
         "text": [
          "тварей"
         ],
         "textposition": "top center",
         "type": "scatter",
         "x": [
          -1.4404124021530151
         ],
         "y": [
          5.199362277984619
         ]
        },
        {
         "marker": {
          "color": "rgba(135, 206, 250, 0.6)",
          "line": {
           "color": "DarkSlateGrey",
           "width": 1
          },
          "size": 8
         },
         "mode": "markers+text",
         "name": "шедшей",
         "text": [
          "шедшей"
         ],
         "textposition": "top center",
         "type": "scatter",
         "x": [
          -4.067665100097656
         ],
         "y": [
          -1.5854369401931763
         ]
        },
        {
         "marker": {
          "color": "rgba(135, 206, 250, 0.6)",
          "line": {
           "color": "DarkSlateGrey",
           "width": 1
          },
          "size": 8
         },
         "mode": "markers+text",
         "name": "заменившей",
         "text": [
          "заменившей"
         ],
         "textposition": "top center",
         "type": "scatter",
         "x": [
          -1.7351740598678589
         ],
         "y": [
          0.057989466935396194
         ]
        },
        {
         "marker": {
          "color": "rgba(135, 206, 250, 0.6)",
          "line": {
           "color": "DarkSlateGrey",
           "width": 1
          },
          "size": 8
         },
         "mode": "markers+text",
         "name": "дядей",
         "text": [
          "дядей"
         ],
         "textposition": "top center",
         "type": "scatter",
         "x": [
          5.106204986572266
         ],
         "y": [
          0.9051859974861145
         ]
        },
        {
         "marker": {
          "color": "rgba(135, 206, 250, 0.6)",
          "line": {
           "color": "DarkSlateGrey",
           "width": 1
          },
          "size": 8
         },
         "mode": "markers+text",
         "name": "сажей",
         "text": [
          "сажей"
         ],
         "textposition": "top center",
         "type": "scatter",
         "x": [
          2.0351569652557373
         ],
         "y": [
          1.0014742612838745
         ]
        },
        {
         "marker": {
          "color": "rgba(135, 206, 250, 0.6)",
          "line": {
           "color": "DarkSlateGrey",
           "width": 1
          },
          "size": 8
         },
         "mode": "markers+text",
         "name": "ефрейтор",
         "text": [
          "ефрейтор"
         ],
         "textposition": "top center",
         "type": "scatter",
         "x": [
          -1.3609027862548828
         ],
         "y": [
          -1.998260498046875
         ]
        },
        {
         "marker": {
          "color": "rgba(135, 206, 250, 0.6)",
          "line": {
           "color": "DarkSlateGrey",
           "width": 1
          },
          "size": 8
         },
         "mode": "markers+text",
         "name": "отрезывателей",
         "text": [
          "отрезывателей"
         ],
         "textposition": "top center",
         "type": "scatter",
         "x": [
          0.4398673474788666
         ],
         "y": [
          -1.2952860593795776
         ]
        },
        {
         "marker": {
          "color": "rgba(135, 206, 250, 0.6)",
          "line": {
           "color": "DarkSlateGrey",
           "width": 1
          },
          "size": 8
         },
         "mode": "markers+text",
         "name": "порассказал",
         "text": [
          "порассказал"
         ],
         "textposition": "top center",
         "type": "scatter",
         "x": [
          -0.4812527894973755
         ],
         "y": [
          -1.5198476314544678
         ]
        },
        {
         "marker": {
          "color": "rgba(135, 206, 250, 0.6)",
          "line": {
           "color": "DarkSlateGrey",
           "width": 1
          },
          "size": 8
         },
         "mode": "markers+text",
         "name": "отражением",
         "text": [
          "отражением"
         ],
         "textposition": "top center",
         "type": "scatter",
         "x": [
          0.1648271381855011
         ],
         "y": [
          -2.139737606048584
         ]
        },
        {
         "marker": {
          "color": "rgba(135, 206, 250, 0.6)",
          "line": {
           "color": "DarkSlateGrey",
           "width": 1
          },
          "size": 8
         },
         "mode": "markers+text",
         "name": "задремал",
         "text": [
          "задремал"
         ],
         "textposition": "top center",
         "type": "scatter",
         "x": [
          -1.906753659248352
         ],
         "y": [
          -3.6267786026000977
         ]
        },
        {
         "marker": {
          "color": "rgba(135, 206, 250, 0.6)",
          "line": {
           "color": "DarkSlateGrey",
           "width": 1
          },
          "size": 8
         },
         "mode": "markers+text",
         "name": "злей",
         "text": [
          "злей"
         ],
         "textposition": "top center",
         "type": "scatter",
         "x": [
          3.6841070652008057
         ],
         "y": [
          -1.0730187892913818
         ]
        },
        {
         "marker": {
          "color": "rgba(135, 206, 250, 0.6)",
          "line": {
           "color": "DarkSlateGrey",
           "width": 1
          },
          "size": 8
         },
         "mode": "markers+text",
         "name": "последующей",
         "text": [
          "последующей"
         ],
         "textposition": "top center",
         "type": "scatter",
         "x": [
          0.161556676030159
         ],
         "y": [
          -0.4928590655326843
         ]
        },
        {
         "marker": {
          "color": "rgba(135, 206, 250, 0.6)",
          "line": {
           "color": "DarkSlateGrey",
           "width": 1
          },
          "size": 8
         },
         "mode": "markers+text",
         "name": "вдребезги",
         "text": [
          "вдребезги"
         ],
         "textposition": "top center",
         "type": "scatter",
         "x": [
          -3.0401597023010254
         ],
         "y": [
          -4.983679294586182
         ]
        },
        {
         "marker": {
          "color": "rgba(135, 206, 250, 0.6)",
          "line": {
           "color": "DarkSlateGrey",
           "width": 1
          },
          "size": 8
         },
         "mode": "markers+text",
         "name": "лежавшей",
         "text": [
          "лежавшей"
         ],
         "textposition": "top center",
         "type": "scatter",
         "x": [
          -2.260573387145996
         ],
         "y": [
          -0.8282785415649414
         ]
        },
        {
         "marker": {
          "color": "rgba(135, 206, 250, 0.6)",
          "line": {
           "color": "DarkSlateGrey",
           "width": 1
          },
          "size": 8
         },
         "mode": "markers+text",
         "name": "хорошей",
         "text": [
          "хорошей"
         ],
         "textposition": "top center",
         "type": "scatter",
         "x": [
          -3.6458723545074463
         ],
         "y": [
          -0.42318278551101685
         ]
        },
        {
         "marker": {
          "color": "rgba(135, 206, 250, 0.6)",
          "line": {
           "color": "DarkSlateGrey",
           "width": 1
          },
          "size": 8
         },
         "mode": "markers+text",
         "name": "присущей",
         "text": [
          "присущей"
         ],
         "textposition": "top center",
         "type": "scatter",
         "x": [
          -0.00718552665784955
         ],
         "y": [
          0.09469377249479294
         ]
        },
        {
         "marker": {
          "color": "rgba(135, 206, 250, 0.6)",
          "line": {
           "color": "DarkSlateGrey",
           "width": 1
          },
          "size": 8
         },
         "mode": "markers+text",
         "name": "волей",
         "text": [
          "волей"
         ],
         "textposition": "top center",
         "type": "scatter",
         "x": [
          4.366483688354492
         ],
         "y": [
          -2.546140432357788
         ]
        },
        {
         "marker": {
          "color": "rgba(135, 206, 250, 0.6)",
          "line": {
           "color": "DarkSlateGrey",
           "width": 1
          },
          "size": 8
         },
         "mode": "markers+text",
         "name": "древнего",
         "text": [
          "древнего"
         ],
         "textposition": "top center",
         "type": "scatter",
         "x": [
          -1.0920652151107788
         ],
         "y": [
          -3.9661812782287598
         ]
        },
        {
         "marker": {
          "color": "rgba(135, 206, 250, 0.6)",
          "line": {
           "color": "DarkSlateGrey",
           "width": 1
          },
          "size": 8
         },
         "mode": "markers+text",
         "name": "ночей",
         "text": [
          "ночей"
         ],
         "textposition": "top center",
         "type": "scatter",
         "x": [
          -6.557137489318848
         ],
         "y": [
          2.0837700366973877
         ]
        },
        {
         "marker": {
          "color": "rgba(135, 206, 250, 0.6)",
          "line": {
           "color": "DarkSlateGrey",
           "width": 1
          },
          "size": 8
         },
         "mode": "markers+text",
         "name": "королей",
         "text": [
          "королей"
         ],
         "textposition": "top center",
         "type": "scatter",
         "x": [
          3.28731369972229
         ],
         "y": [
          -2.418105125427246
         ]
        },
        {
         "marker": {
          "color": "rgba(135, 206, 250, 0.6)",
          "line": {
           "color": "DarkSlateGrey",
           "width": 1
          },
          "size": 8
         },
         "mode": "markers+text",
         "name": "доведшего",
         "text": [
          "доведшего"
         ],
         "textposition": "top center",
         "type": "scatter",
         "x": [
          -0.6597949266433716
         ],
         "y": [
          -2.692795753479004
         ]
        }
       ],
       "layout": {
        "height": 1000,
        "showlegend": true,
        "template": {
         "data": {
          "bar": [
           {
            "error_x": {
             "color": "#f2f5fa"
            },
            "error_y": {
             "color": "#f2f5fa"
            },
            "marker": {
             "line": {
              "color": "rgb(17,17,17)",
              "width": 0.5
             },
             "pattern": {
              "fillmode": "overlay",
              "size": 10,
              "solidity": 0.2
             }
            },
            "type": "bar"
           }
          ],
          "barpolar": [
           {
            "marker": {
             "line": {
              "color": "rgb(17,17,17)",
              "width": 0.5
             },
             "pattern": {
              "fillmode": "overlay",
              "size": 10,
              "solidity": 0.2
             }
            },
            "type": "barpolar"
           }
          ],
          "carpet": [
           {
            "aaxis": {
             "endlinecolor": "#A2B1C6",
             "gridcolor": "#506784",
             "linecolor": "#506784",
             "minorgridcolor": "#506784",
             "startlinecolor": "#A2B1C6"
            },
            "baxis": {
             "endlinecolor": "#A2B1C6",
             "gridcolor": "#506784",
             "linecolor": "#506784",
             "minorgridcolor": "#506784",
             "startlinecolor": "#A2B1C6"
            },
            "type": "carpet"
           }
          ],
          "choropleth": [
           {
            "colorbar": {
             "outlinewidth": 0,
             "ticks": ""
            },
            "type": "choropleth"
           }
          ],
          "contour": [
           {
            "colorbar": {
             "outlinewidth": 0,
             "ticks": ""
            },
            "colorscale": [
             [
              0,
              "#0d0887"
             ],
             [
              0.1111111111111111,
              "#46039f"
             ],
             [
              0.2222222222222222,
              "#7201a8"
             ],
             [
              0.3333333333333333,
              "#9c179e"
             ],
             [
              0.4444444444444444,
              "#bd3786"
             ],
             [
              0.5555555555555556,
              "#d8576b"
             ],
             [
              0.6666666666666666,
              "#ed7953"
             ],
             [
              0.7777777777777778,
              "#fb9f3a"
             ],
             [
              0.8888888888888888,
              "#fdca26"
             ],
             [
              1,
              "#f0f921"
             ]
            ],
            "type": "contour"
           }
          ],
          "contourcarpet": [
           {
            "colorbar": {
             "outlinewidth": 0,
             "ticks": ""
            },
            "type": "contourcarpet"
           }
          ],
          "heatmap": [
           {
            "colorbar": {
             "outlinewidth": 0,
             "ticks": ""
            },
            "colorscale": [
             [
              0,
              "#0d0887"
             ],
             [
              0.1111111111111111,
              "#46039f"
             ],
             [
              0.2222222222222222,
              "#7201a8"
             ],
             [
              0.3333333333333333,
              "#9c179e"
             ],
             [
              0.4444444444444444,
              "#bd3786"
             ],
             [
              0.5555555555555556,
              "#d8576b"
             ],
             [
              0.6666666666666666,
              "#ed7953"
             ],
             [
              0.7777777777777778,
              "#fb9f3a"
             ],
             [
              0.8888888888888888,
              "#fdca26"
             ],
             [
              1,
              "#f0f921"
             ]
            ],
            "type": "heatmap"
           }
          ],
          "heatmapgl": [
           {
            "colorbar": {
             "outlinewidth": 0,
             "ticks": ""
            },
            "colorscale": [
             [
              0,
              "#0d0887"
             ],
             [
              0.1111111111111111,
              "#46039f"
             ],
             [
              0.2222222222222222,
              "#7201a8"
             ],
             [
              0.3333333333333333,
              "#9c179e"
             ],
             [
              0.4444444444444444,
              "#bd3786"
             ],
             [
              0.5555555555555556,
              "#d8576b"
             ],
             [
              0.6666666666666666,
              "#ed7953"
             ],
             [
              0.7777777777777778,
              "#fb9f3a"
             ],
             [
              0.8888888888888888,
              "#fdca26"
             ],
             [
              1,
              "#f0f921"
             ]
            ],
            "type": "heatmapgl"
           }
          ],
          "histogram": [
           {
            "marker": {
             "pattern": {
              "fillmode": "overlay",
              "size": 10,
              "solidity": 0.2
             }
            },
            "type": "histogram"
           }
          ],
          "histogram2d": [
           {
            "colorbar": {
             "outlinewidth": 0,
             "ticks": ""
            },
            "colorscale": [
             [
              0,
              "#0d0887"
             ],
             [
              0.1111111111111111,
              "#46039f"
             ],
             [
              0.2222222222222222,
              "#7201a8"
             ],
             [
              0.3333333333333333,
              "#9c179e"
             ],
             [
              0.4444444444444444,
              "#bd3786"
             ],
             [
              0.5555555555555556,
              "#d8576b"
             ],
             [
              0.6666666666666666,
              "#ed7953"
             ],
             [
              0.7777777777777778,
              "#fb9f3a"
             ],
             [
              0.8888888888888888,
              "#fdca26"
             ],
             [
              1,
              "#f0f921"
             ]
            ],
            "type": "histogram2d"
           }
          ],
          "histogram2dcontour": [
           {
            "colorbar": {
             "outlinewidth": 0,
             "ticks": ""
            },
            "colorscale": [
             [
              0,
              "#0d0887"
             ],
             [
              0.1111111111111111,
              "#46039f"
             ],
             [
              0.2222222222222222,
              "#7201a8"
             ],
             [
              0.3333333333333333,
              "#9c179e"
             ],
             [
              0.4444444444444444,
              "#bd3786"
             ],
             [
              0.5555555555555556,
              "#d8576b"
             ],
             [
              0.6666666666666666,
              "#ed7953"
             ],
             [
              0.7777777777777778,
              "#fb9f3a"
             ],
             [
              0.8888888888888888,
              "#fdca26"
             ],
             [
              1,
              "#f0f921"
             ]
            ],
            "type": "histogram2dcontour"
           }
          ],
          "mesh3d": [
           {
            "colorbar": {
             "outlinewidth": 0,
             "ticks": ""
            },
            "type": "mesh3d"
           }
          ],
          "parcoords": [
           {
            "line": {
             "colorbar": {
              "outlinewidth": 0,
              "ticks": ""
             }
            },
            "type": "parcoords"
           }
          ],
          "pie": [
           {
            "automargin": true,
            "type": "pie"
           }
          ],
          "scatter": [
           {
            "marker": {
             "line": {
              "color": "#283442"
             }
            },
            "type": "scatter"
           }
          ],
          "scatter3d": [
           {
            "line": {
             "colorbar": {
              "outlinewidth": 0,
              "ticks": ""
             }
            },
            "marker": {
             "colorbar": {
              "outlinewidth": 0,
              "ticks": ""
             }
            },
            "type": "scatter3d"
           }
          ],
          "scattercarpet": [
           {
            "marker": {
             "colorbar": {
              "outlinewidth": 0,
              "ticks": ""
             }
            },
            "type": "scattercarpet"
           }
          ],
          "scattergeo": [
           {
            "marker": {
             "colorbar": {
              "outlinewidth": 0,
              "ticks": ""
             }
            },
            "type": "scattergeo"
           }
          ],
          "scattergl": [
           {
            "marker": {
             "line": {
              "color": "#283442"
             }
            },
            "type": "scattergl"
           }
          ],
          "scattermapbox": [
           {
            "marker": {
             "colorbar": {
              "outlinewidth": 0,
              "ticks": ""
             }
            },
            "type": "scattermapbox"
           }
          ],
          "scatterpolar": [
           {
            "marker": {
             "colorbar": {
              "outlinewidth": 0,
              "ticks": ""
             }
            },
            "type": "scatterpolar"
           }
          ],
          "scatterpolargl": [
           {
            "marker": {
             "colorbar": {
              "outlinewidth": 0,
              "ticks": ""
             }
            },
            "type": "scatterpolargl"
           }
          ],
          "scatterternary": [
           {
            "marker": {
             "colorbar": {
              "outlinewidth": 0,
              "ticks": ""
             }
            },
            "type": "scatterternary"
           }
          ],
          "surface": [
           {
            "colorbar": {
             "outlinewidth": 0,
             "ticks": ""
            },
            "colorscale": [
             [
              0,
              "#0d0887"
             ],
             [
              0.1111111111111111,
              "#46039f"
             ],
             [
              0.2222222222222222,
              "#7201a8"
             ],
             [
              0.3333333333333333,
              "#9c179e"
             ],
             [
              0.4444444444444444,
              "#bd3786"
             ],
             [
              0.5555555555555556,
              "#d8576b"
             ],
             [
              0.6666666666666666,
              "#ed7953"
             ],
             [
              0.7777777777777778,
              "#fb9f3a"
             ],
             [
              0.8888888888888888,
              "#fdca26"
             ],
             [
              1,
              "#f0f921"
             ]
            ],
            "type": "surface"
           }
          ],
          "table": [
           {
            "cells": {
             "fill": {
              "color": "#506784"
             },
             "line": {
              "color": "rgb(17,17,17)"
             }
            },
            "header": {
             "fill": {
              "color": "#2a3f5f"
             },
             "line": {
              "color": "rgb(17,17,17)"
             }
            },
            "type": "table"
           }
          ]
         },
         "layout": {
          "annotationdefaults": {
           "arrowcolor": "#f2f5fa",
           "arrowhead": 0,
           "arrowwidth": 1
          },
          "autotypenumbers": "strict",
          "coloraxis": {
           "colorbar": {
            "outlinewidth": 0,
            "ticks": ""
           }
          },
          "colorscale": {
           "diverging": [
            [
             0,
             "#8e0152"
            ],
            [
             0.1,
             "#c51b7d"
            ],
            [
             0.2,
             "#de77ae"
            ],
            [
             0.3,
             "#f1b6da"
            ],
            [
             0.4,
             "#fde0ef"
            ],
            [
             0.5,
             "#f7f7f7"
            ],
            [
             0.6,
             "#e6f5d0"
            ],
            [
             0.7,
             "#b8e186"
            ],
            [
             0.8,
             "#7fbc41"
            ],
            [
             0.9,
             "#4d9221"
            ],
            [
             1,
             "#276419"
            ]
           ],
           "sequential": [
            [
             0,
             "#0d0887"
            ],
            [
             0.1111111111111111,
             "#46039f"
            ],
            [
             0.2222222222222222,
             "#7201a8"
            ],
            [
             0.3333333333333333,
             "#9c179e"
            ],
            [
             0.4444444444444444,
             "#bd3786"
            ],
            [
             0.5555555555555556,
             "#d8576b"
            ],
            [
             0.6666666666666666,
             "#ed7953"
            ],
            [
             0.7777777777777778,
             "#fb9f3a"
            ],
            [
             0.8888888888888888,
             "#fdca26"
            ],
            [
             1,
             "#f0f921"
            ]
           ],
           "sequentialminus": [
            [
             0,
             "#0d0887"
            ],
            [
             0.1111111111111111,
             "#46039f"
            ],
            [
             0.2222222222222222,
             "#7201a8"
            ],
            [
             0.3333333333333333,
             "#9c179e"
            ],
            [
             0.4444444444444444,
             "#bd3786"
            ],
            [
             0.5555555555555556,
             "#d8576b"
            ],
            [
             0.6666666666666666,
             "#ed7953"
            ],
            [
             0.7777777777777778,
             "#fb9f3a"
            ],
            [
             0.8888888888888888,
             "#fdca26"
            ],
            [
             1,
             "#f0f921"
            ]
           ]
          },
          "colorway": [
           "#636efa",
           "#EF553B",
           "#00cc96",
           "#ab63fa",
           "#FFA15A",
           "#19d3f3",
           "#FF6692",
           "#B6E880",
           "#FF97FF",
           "#FECB52"
          ],
          "font": {
           "color": "#f2f5fa"
          },
          "geo": {
           "bgcolor": "rgb(17,17,17)",
           "lakecolor": "rgb(17,17,17)",
           "landcolor": "rgb(17,17,17)",
           "showlakes": true,
           "showland": true,
           "subunitcolor": "#506784"
          },
          "hoverlabel": {
           "align": "left"
          },
          "hovermode": "closest",
          "mapbox": {
           "style": "dark"
          },
          "paper_bgcolor": "rgb(17,17,17)",
          "plot_bgcolor": "rgb(17,17,17)",
          "polar": {
           "angularaxis": {
            "gridcolor": "#506784",
            "linecolor": "#506784",
            "ticks": ""
           },
           "bgcolor": "rgb(17,17,17)",
           "radialaxis": {
            "gridcolor": "#506784",
            "linecolor": "#506784",
            "ticks": ""
           }
          },
          "scene": {
           "xaxis": {
            "backgroundcolor": "rgb(17,17,17)",
            "gridcolor": "#506784",
            "gridwidth": 2,
            "linecolor": "#506784",
            "showbackground": true,
            "ticks": "",
            "zerolinecolor": "#C8D4E3"
           },
           "yaxis": {
            "backgroundcolor": "rgb(17,17,17)",
            "gridcolor": "#506784",
            "gridwidth": 2,
            "linecolor": "#506784",
            "showbackground": true,
            "ticks": "",
            "zerolinecolor": "#C8D4E3"
           },
           "zaxis": {
            "backgroundcolor": "rgb(17,17,17)",
            "gridcolor": "#506784",
            "gridwidth": 2,
            "linecolor": "#506784",
            "showbackground": true,
            "ticks": "",
            "zerolinecolor": "#C8D4E3"
           }
          },
          "shapedefaults": {
           "line": {
            "color": "#f2f5fa"
           }
          },
          "sliderdefaults": {
           "bgcolor": "#C8D4E3",
           "bordercolor": "rgb(17,17,17)",
           "borderwidth": 1,
           "tickwidth": 0
          },
          "ternary": {
           "aaxis": {
            "gridcolor": "#506784",
            "linecolor": "#506784",
            "ticks": ""
           },
           "baxis": {
            "gridcolor": "#506784",
            "linecolor": "#506784",
            "ticks": ""
           },
           "bgcolor": "rgb(17,17,17)",
           "caxis": {
            "gridcolor": "#506784",
            "linecolor": "#506784",
            "ticks": ""
           }
          },
          "title": {
           "x": 0.05
          },
          "updatemenudefaults": {
           "bgcolor": "#506784",
           "borderwidth": 0
          },
          "xaxis": {
           "automargin": true,
           "gridcolor": "#283442",
           "linecolor": "#506784",
           "ticks": "",
           "title": {
            "standoff": 15
           },
           "zerolinecolor": "#283442",
           "zerolinewidth": 2
          },
          "yaxis": {
           "automargin": true,
           "gridcolor": "#283442",
           "linecolor": "#506784",
           "ticks": "",
           "title": {
            "standoff": 15
           },
           "zerolinecolor": "#283442",
           "zerolinewidth": 2
          }
         }
        },
        "title": {
         "text": "Word Embeddings Visualization"
        },
        "xaxis": {
         "title": {
          "text": "TSNE Component 1"
         }
        },
        "yaxis": {
         "title": {
          "text": "TSNE Component 2"
         }
        }
       }
      }
     },
     "metadata": {},
     "output_type": "display_data"
    }
   ],
   "source": [
    "near1, embeds = model.k_Nearest(all_words_idx, word1_idx, k=100, use_cosine=True, return_embed=True)\n",
    "model.plot_embeddings([tokenizer.real_words[near1_idx] for near1_idx in near1], embeds)"
   ]
  }
 ],
 "metadata": {
  "kernelspec": {
   "display_name": "Python 3",
   "language": "python",
   "name": "python3"
  },
  "language_info": {
   "codemirror_mode": {
    "name": "ipython",
    "version": 3
   },
   "file_extension": ".py",
   "mimetype": "text/x-python",
   "name": "python",
   "nbconvert_exporter": "python",
   "pygments_lexer": "ipython3",
   "version": "3.10.12"
  }
 },
 "nbformat": 4,
 "nbformat_minor": 2
}
