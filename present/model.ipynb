{
 "cells": [
  {
   "cell_type": "code",
   "execution_count": 18,
   "metadata": {},
   "outputs": [],
   "source": [
    "import re\n",
    "import os\n",
    "from gensim.models import Word2Vec"
   ]
  },
  {
   "cell_type": "code",
   "execution_count": 30,
   "metadata": {},
   "outputs": [],
   "source": [
    "def tokenizer(text):\n",
    "    \"\"\"Регулярное выражение для разделения слов и знаков препинания\"\"\"\n",
    "    pattern = r'\\w+|[^\\w\\s]'\n",
    "    tokens_list = re.findall(pattern, text)\n",
    "    return tokens_list"
   ]
  },
  {
   "cell_type": "code",
   "execution_count": 31,
   "metadata": {},
   "outputs": [
    {
     "data": {
      "text/plain": [
       "['Сегодня', 'вечером', 'идет', 'сильный', 'дождь', '.']"
      ]
     },
     "execution_count": 31,
     "metadata": {},
     "output_type": "execute_result"
    }
   ],
   "source": [
    "text = \"Сегодня вечером идет сильный дождь.\"\n",
    "token_list = tokenizer(text)\n",
    "token_list"
   ]
  },
  {
   "cell_type": "code",
   "execution_count": 62,
   "metadata": {},
   "outputs": [],
   "source": [
    "model = Word2Vec([token_list], vector_size=10, window=2, min_count=0, sg=0)"
   ]
  },
  {
   "cell_type": "code",
   "execution_count": 70,
   "metadata": {},
   "outputs": [
    {
     "data": {
      "text/plain": [
       "{'.': array([-0.00536227,  0.00236431,  0.0510335 ,  0.09009273, -0.0930295 ,\n",
       "        -0.07116809,  0.06458873,  0.08972988, -0.05015428, -0.03763372],\n",
       "       dtype=float32),\n",
       " 'дождь': array([ 0.07380505, -0.01533471, -0.04536613,  0.06554051, -0.0486016 ,\n",
       "        -0.01816018,  0.0287658 ,  0.00991874, -0.08285215, -0.09448818],\n",
       "       dtype=float32),\n",
       " 'сильный': array([ 0.07311766,  0.05070262,  0.06757693,  0.00762866,  0.06350891,\n",
       "        -0.03405366, -0.00946401,  0.05768573, -0.07521638, -0.03936104],\n",
       "       dtype=float32),\n",
       " 'идет': array([-0.07511582, -0.00930042,  0.09538119, -0.07319167, -0.02333769,\n",
       "        -0.01937741,  0.08077437, -0.05930896,  0.00045162, -0.04753734],\n",
       "       dtype=float32),\n",
       " 'вечером': array([-0.0960355 ,  0.05007293, -0.08759586, -0.04391825, -0.000351  ,\n",
       "        -0.00296181, -0.0766124 ,  0.09614743,  0.04982058,  0.09233143],\n",
       "       dtype=float32),\n",
       " 'Сегодня': array([-0.08157917,  0.04495798, -0.04137076,  0.00824536,  0.08498619,\n",
       "        -0.04462177,  0.045175  , -0.0678696 , -0.03548489,  0.09398508],\n",
       "       dtype=float32)}"
      ]
     },
     "execution_count": 70,
     "metadata": {},
     "output_type": "execute_result"
    }
   ],
   "source": [
    "word_vectors = {word: model.wv[word] for word in model.wv.key_to_index.keys()}\n",
    "word_vectors"
   ]
  }
 ],
 "metadata": {
  "kernelspec": {
   "display_name": "Python 3",
   "language": "python",
   "name": "python3"
  },
  "language_info": {
   "codemirror_mode": {
    "name": "ipython",
    "version": 3
   },
   "file_extension": ".py",
   "mimetype": "text/x-python",
   "name": "python",
   "nbconvert_exporter": "python",
   "pygments_lexer": "ipython3",
   "version": "3.10.12"
  }
 },
 "nbformat": 4,
 "nbformat_minor": 2
}
